{
 "cells": [
  {
   "cell_type": "code",
   "execution_count": 2,
   "id": "b80757b3",
   "metadata": {},
   "outputs": [],
   "source": [
    "import pandas as pd\n",
    "import pandas as pd\n",
    "import numpy as np\n",
    "from datetime import datetime,timedelta\n",
    "import math\n",
    "import matplotlib.pyplot as plt\n",
    "import matplotlib.mlab as mlab\n",
    "import matplotlib\n",
    "from matplotlib.pyplot import figure\n",
    "import seaborn as sns\n",
    "\n",
    "\n",
    "pd.options.mode.chained_assignment = None\n",
    "%matplotlib inline\n"
   ]
  },
  {
   "cell_type": "code",
   "execution_count": 3,
   "id": "0a1b38fa",
   "metadata": {},
   "outputs": [],
   "source": [
    "def read_data(data = 'data_name')->pd.DataFrame:\n",
    "    df = pd.read_csv(data, delimiter = ';', low_memory = False)\n",
    "    df['date'] = pd.to_datetime(df['date'], format='%y%m%d')\n",
    "    return df\n",
    "\n",
    "def filter_features(ls = [], df = pd.DataFrame)->pd.DataFrame:\n",
    "    features = ['date', 'account_id', 'type', 'amount']\n",
    "    \n",
    "    df = df[['date', 'account_id', 'type', 'amount']]\n",
    "    to_replace = {'PRIJEM': 'CREDIT', 'VYDAJ': 'WITHDRAWAL', 'VYBER': 'NOT SURE', 'DEBIT': 'WITHDRAWAL','Debit':'WITHDRAWAL','account-id':'account_id'}\n",
    "    df['type'] = df['type'].replace(to_replace)\n",
    "    if 'date' in ls:\n",
    "        df['date'] = pd.to_datetime(df['date'], format='%Y%m%d')\n",
    "    df = df[df['type'] == 'WITHDRAWAL']\n",
    "    df.sort_values(by = 'account_id')\n",
    "    df.set_index('date',inplace = True)\n",
    "    df['sum_5days'] = df.groupby('account_id')['amount'].transform(lambda s: s.rolling(timedelta(days=5)).sum())\n",
    "    df['count_5days'] = df.groupby('account_id')['amount'].transform(lambda s: s.rolling(timedelta(days=5)).count())\n",
    "    return df\n",
    "def visualize_anomaly_detection(df_withdrawals, clf):\n",
    "    clf_name = 'Anomaly Detection-Isolation Forest'\n",
    "    \"\"\"\n",
    "    Visualize the results of anomaly detection using Isolation Forest.\n",
    "\n",
    "    Args:\n",
    "    df_withdrawals (DataFrame): DataFrame containing withdrawal transaction data.\n",
    "    clf: Isolation Forest model trained for anomaly detection.\n",
    "    clf_name (str): Name of the Isolation Forest model.\n",
    "\n",
    "    Returns:\n",
    "    None\n",
    "    \"\"\"\n",
    "    xx , yy = np.meshgrid(np.linspace(0, 11, 200), np.linspace(0, 180000, 200))\n",
    "\n",
    "    # decision function calculates the raw anomaly score for every point\n",
    "    Z = clf.decision_function(np.c_[xx.ravel(), yy.ravel()]) * -1\n",
    "    Z = Z.reshape(xx.shape)\n",
    "\n",
    "    threshold = (df_withdrawals.loc[df_withdrawals['y_pred'] == 1, 'y_scores'].min() * -1) / 2 + \\\n",
    "                (df_withdrawals.loc[df_withdrawals['y_pred'] == 0, 'y_scores'].max() * -1) / 2\n",
    "\n",
    "    subplot = plt.subplot(1, 1, 1)\n",
    "\n",
    "    # fill blue colormap from minimum anomaly score to threshold value\n",
    "    subplot.contourf(xx, yy, Z, levels=np.linspace(Z.min(), threshold, 10), cmap=plt.cm.Blues_r)\n",
    "\n",
    "    # draw red contour line where anomaly score is equal to threshold\n",
    "    a = subplot.contour(xx, yy, Z, levels=[threshold], linewidths=2, colors='red')\n",
    "\n",
    "    # fill orange contour lines where range of anomaly score is from threshold to maximum anomaly score\n",
    "    subplot.contourf(xx, yy, Z, levels=[threshold, Z.max()], colors='orange')\n",
    "\n",
    "    msk = df_withdrawals['y_pred'] == 0\n",
    "    x = df_withdrawals.loc[msk, ['count_5days', 'sum_5days']].values\n",
    "\n",
    "    # scatter plot of inliers with white dots\n",
    "    b = subplot.scatter(x[:, 0], x[:, 1], c='white', s=20, edgecolor='k')\n",
    "\n",
    "    msk = df_withdrawals['y_pred'] == 1\n",
    "    x = df_withdrawals.loc[msk, ['count_5days', 'sum_5days']].values\n",
    "\n",
    "    # scatter plot of outliers with black dots\n",
    "    c = subplot.scatter(x[:, 0], x[:, 1], c='black', s=20, edgecolor='r')\n",
    "    subplot.axis('tight')\n",
    "\n",
    "    subplot.legend(\n",
    "        [a.collections[0], b, c],\n",
    "        ['learned decision function', 'inliers', 'outliers'],\n",
    "        prop=matplotlib.font_manager.FontProperties(size=10),\n",
    "        loc='upper right')\n",
    "\n",
    "    subplot.set_title(clf_name)\n",
    "    subplot.set_xlim((0, 11))\n",
    "    subplot.set_ylim((0, 180000))\n",
    "\n",
    "    subplot.set_xlabel(\"5-day count of withdrawal transactions.\")\n",
    "    subplot.set_ylabel(\"5-day sum of withdrawal transactions\")\n",
    "\n",
    "    plt.show()\n",
    "\n",
    "\n"
   ]
  },
  {
   "cell_type": "code",
   "execution_count": 4,
   "id": "61b72968",
   "metadata": {},
   "outputs": [],
   "source": [
    "from joblib import load\n",
    "clf = load('clf.joblib')\n"
   ]
  },
  {
   "cell_type": "code",
   "execution_count": 5,
   "id": "20cc7097",
   "metadata": {},
   "outputs": [],
   "source": [
    "clf_name = \"Anomaly Detection\""
   ]
  },
  {
   "cell_type": "code",
   "execution_count": 6,
   "id": "ec6566fd",
   "metadata": {},
   "outputs": [],
   "source": [
    "df = read_data(\"D:/Hack-O-Hire/data/trans.csv\")"
   ]
  },
  {
   "cell_type": "code",
   "execution_count": 7,
   "id": "a525edfb",
   "metadata": {},
   "outputs": [],
   "source": [
    "df_new = filter_features(ls = df.columns,df =df)"
   ]
  },
  {
   "cell_type": "code",
   "execution_count": 8,
   "id": "26203bfc",
   "metadata": {},
   "outputs": [
    {
     "data": {
      "text/html": [
       "<div>\n",
       "<style scoped>\n",
       "    .dataframe tbody tr th:only-of-type {\n",
       "        vertical-align: middle;\n",
       "    }\n",
       "\n",
       "    .dataframe tbody tr th {\n",
       "        vertical-align: top;\n",
       "    }\n",
       "\n",
       "    .dataframe thead th {\n",
       "        text-align: right;\n",
       "    }\n",
       "</style>\n",
       "<table border=\"1\" class=\"dataframe\">\n",
       "  <thead>\n",
       "    <tr style=\"text-align: right;\">\n",
       "      <th></th>\n",
       "      <th>account_id</th>\n",
       "      <th>type</th>\n",
       "      <th>amount</th>\n",
       "      <th>sum_5days</th>\n",
       "      <th>count_5days</th>\n",
       "    </tr>\n",
       "    <tr>\n",
       "      <th>date</th>\n",
       "      <th></th>\n",
       "      <th></th>\n",
       "      <th></th>\n",
       "      <th></th>\n",
       "      <th></th>\n",
       "    </tr>\n",
       "  </thead>\n",
       "  <tbody>\n",
       "    <tr>\n",
       "      <th>1993-01-31</th>\n",
       "      <td>2378</td>\n",
       "      <td>WITHDRAWAL</td>\n",
       "      <td>34700.0</td>\n",
       "      <td>34700.0</td>\n",
       "      <td>1.0</td>\n",
       "    </tr>\n",
       "    <tr>\n",
       "      <th>1993-02-03</th>\n",
       "      <td>485</td>\n",
       "      <td>WITHDRAWAL</td>\n",
       "      <td>25300.0</td>\n",
       "      <td>25300.0</td>\n",
       "      <td>1.0</td>\n",
       "    </tr>\n",
       "    <tr>\n",
       "      <th>1993-02-06</th>\n",
       "      <td>3510</td>\n",
       "      <td>WITHDRAWAL</td>\n",
       "      <td>1600.0</td>\n",
       "      <td>1600.0</td>\n",
       "      <td>1.0</td>\n",
       "    </tr>\n",
       "    <tr>\n",
       "      <th>1993-02-07</th>\n",
       "      <td>2378</td>\n",
       "      <td>WITHDRAWAL</td>\n",
       "      <td>9612.0</td>\n",
       "      <td>9612.0</td>\n",
       "      <td>1.0</td>\n",
       "    </tr>\n",
       "    <tr>\n",
       "      <th>1993-02-07</th>\n",
       "      <td>2122</td>\n",
       "      <td>WITHDRAWAL</td>\n",
       "      <td>14100.0</td>\n",
       "      <td>14100.0</td>\n",
       "      <td>1.0</td>\n",
       "    </tr>\n",
       "    <tr>\n",
       "      <th>...</th>\n",
       "      <td>...</td>\n",
       "      <td>...</td>\n",
       "      <td>...</td>\n",
       "      <td>...</td>\n",
       "      <td>...</td>\n",
       "    </tr>\n",
       "    <tr>\n",
       "      <th>1998-12-31</th>\n",
       "      <td>2346</td>\n",
       "      <td>WITHDRAWAL</td>\n",
       "      <td>14.9</td>\n",
       "      <td>14.9</td>\n",
       "      <td>1.0</td>\n",
       "    </tr>\n",
       "    <tr>\n",
       "      <th>1998-12-31</th>\n",
       "      <td>5066</td>\n",
       "      <td>WITHDRAWAL</td>\n",
       "      <td>3.5</td>\n",
       "      <td>3.5</td>\n",
       "      <td>1.0</td>\n",
       "    </tr>\n",
       "    <tr>\n",
       "      <th>1998-12-31</th>\n",
       "      <td>7520</td>\n",
       "      <td>WITHDRAWAL</td>\n",
       "      <td>67.2</td>\n",
       "      <td>197.4</td>\n",
       "      <td>2.0</td>\n",
       "    </tr>\n",
       "    <tr>\n",
       "      <th>1998-12-31</th>\n",
       "      <td>7465</td>\n",
       "      <td>WITHDRAWAL</td>\n",
       "      <td>0.8</td>\n",
       "      <td>0.8</td>\n",
       "      <td>1.0</td>\n",
       "    </tr>\n",
       "    <tr>\n",
       "      <th>1998-12-31</th>\n",
       "      <td>442</td>\n",
       "      <td>WITHDRAWAL</td>\n",
       "      <td>0.6</td>\n",
       "      <td>0.6</td>\n",
       "      <td>1.0</td>\n",
       "    </tr>\n",
       "  </tbody>\n",
       "</table>\n",
       "<p>634571 rows × 5 columns</p>\n",
       "</div>"
      ],
      "text/plain": [
       "            account_id        type   amount  sum_5days  count_5days\n",
       "date                                                               \n",
       "1993-01-31        2378  WITHDRAWAL  34700.0    34700.0          1.0\n",
       "1993-02-03         485  WITHDRAWAL  25300.0    25300.0          1.0\n",
       "1993-02-06        3510  WITHDRAWAL   1600.0     1600.0          1.0\n",
       "1993-02-07        2378  WITHDRAWAL   9612.0     9612.0          1.0\n",
       "1993-02-07        2122  WITHDRAWAL  14100.0    14100.0          1.0\n",
       "...                ...         ...      ...        ...          ...\n",
       "1998-12-31        2346  WITHDRAWAL     14.9       14.9          1.0\n",
       "1998-12-31        5066  WITHDRAWAL      3.5        3.5          1.0\n",
       "1998-12-31        7520  WITHDRAWAL     67.2      197.4          2.0\n",
       "1998-12-31        7465  WITHDRAWAL      0.8        0.8          1.0\n",
       "1998-12-31         442  WITHDRAWAL      0.6        0.6          1.0\n",
       "\n",
       "[634571 rows x 5 columns]"
      ]
     },
     "execution_count": 8,
     "metadata": {},
     "output_type": "execute_result"
    }
   ],
   "source": [
    "df_new"
   ]
  },
  {
   "cell_type": "code",
   "execution_count": 9,
   "id": "16a5cc59",
   "metadata": {},
   "outputs": [
    {
     "name": "stderr",
     "output_type": "stream",
     "text": [
      "c:\\Users\\yashv\\anaconda3\\Lib\\site-packages\\sklearn\\base.py:486: UserWarning: X has feature names, but IsolationForest was fitted without feature names\n",
      "  warnings.warn(\n",
      "c:\\Users\\yashv\\anaconda3\\Lib\\site-packages\\sklearn\\base.py:486: UserWarning: X has feature names, but IsolationForest was fitted without feature names\n",
      "  warnings.warn(\n"
     ]
    }
   ],
   "source": [
    "import joblib\n",
    "\n",
    "# Load the Isolation Forest model from the joblib file\n",
    "loaded_model = joblib.load('clf.joblib')\n",
    "\n",
    "# Assuming you have new data stored in a DataFrame called 'new_data'\n",
    "# Extract the relevant features from the new data\n",
    "X_new = df_new[['count_5days', 'sum_5days']]\n",
    "\n",
    "# Get the predictions and anomaly scores for the new data\n",
    "y_pred_new = loaded_model.predict(X_new)\n",
    "y_scores_new = loaded_model.decision_function(X_new)\n",
    "\n",
    "# Now you can use y_pred_new and y_scores_new for further analysis or visualization\n",
    "df_new['y_pred'] = y_pred_new\n",
    "df_new['y_scores'] = y_scores_new"
   ]
  },
  {
   "cell_type": "code",
   "execution_count": 10,
   "id": "5df5bc56",
   "metadata": {},
   "outputs": [
    {
     "data": {
      "image/png": "[encoded data removed]",
      "text/plain": [
       "<Figure size 640x480 with 1 Axes>"
      ]
     },
     "metadata": {},
     "output_type": "display_data"
    }
   ],
   "source": [
    "visualize_anomaly_detection(df_new, clf)"
   ]
  },
  {
   "cell_type": "code",
   "execution_count": 11,
   "id": "38d17319",
   "metadata": {},
   "outputs": [],
   "source": [
    "df = pd.read_csv(\"D:/Hack-O-Hire/data/mystatements.csv\")"
   ]
  },
  {
   "cell_type": "code",
   "execution_count": 12,
   "id": "91269057",
   "metadata": {},
   "outputs": [
    {
     "data": {
      "text/html": [
       "<div>\n",
       "<style scoped>\n",
       "    .dataframe tbody tr th:only-of-type {\n",
       "        vertical-align: middle;\n",
       "    }\n",
       "\n",
       "    .dataframe tbody tr th {\n",
       "        vertical-align: top;\n",
       "    }\n",
       "\n",
       "    .dataframe thead th {\n",
       "        text-align: right;\n",
       "    }\n",
       "</style>\n",
       "<table border=\"1\" class=\"dataframe\">\n",
       "  <thead>\n",
       "    <tr style=\"text-align: right;\">\n",
       "      <th></th>\n",
       "      <th>Txn Date</th>\n",
       "      <th>Date</th>\n",
       "      <th>account-id</th>\n",
       "      <th>Debit</th>\n",
       "      <th>Credit</th>\n",
       "    </tr>\n",
       "  </thead>\n",
       "  <tbody>\n",
       "    <tr>\n",
       "      <th>0</th>\n",
       "      <td>01-Feb-24</td>\n",
       "      <td>2024-02-01</td>\n",
       "      <td>TRANSFER FROM 4897735162098</td>\n",
       "      <td></td>\n",
       "      <td>33</td>\n",
       "    </tr>\n",
       "    <tr>\n",
       "      <th>1</th>\n",
       "      <td>01-Feb-24</td>\n",
       "      <td>2024-02-01</td>\n",
       "      <td>TRANSFER TO 4897693162093</td>\n",
       "      <td>66</td>\n",
       "      <td></td>\n",
       "    </tr>\n",
       "    <tr>\n",
       "      <th>2</th>\n",
       "      <td>01-Feb-24</td>\n",
       "      <td>2024-02-01</td>\n",
       "      <td>TRANSFER TO 4897693162093</td>\n",
       "      <td>25</td>\n",
       "      <td></td>\n",
       "    </tr>\n",
       "    <tr>\n",
       "      <th>3</th>\n",
       "      <td>01-Feb-24</td>\n",
       "      <td>2024-02-01</td>\n",
       "      <td>TRANSFER TO 4897693162093</td>\n",
       "      <td>130</td>\n",
       "      <td></td>\n",
       "    </tr>\n",
       "    <tr>\n",
       "      <th>4</th>\n",
       "      <td>01-Feb-24</td>\n",
       "      <td>2024-02-01</td>\n",
       "      <td>TRANSFER TO 4897693162093</td>\n",
       "      <td>26</td>\n",
       "      <td></td>\n",
       "    </tr>\n",
       "    <tr>\n",
       "      <th>...</th>\n",
       "      <td>...</td>\n",
       "      <td>...</td>\n",
       "      <td>...</td>\n",
       "      <td>...</td>\n",
       "      <td>...</td>\n",
       "    </tr>\n",
       "    <tr>\n",
       "      <th>157</th>\n",
       "      <td>29-Feb-24</td>\n",
       "      <td>2024-02-29</td>\n",
       "      <td>TRANSFER TO 4897693162093</td>\n",
       "      <td>500</td>\n",
       "      <td></td>\n",
       "    </tr>\n",
       "    <tr>\n",
       "      <th>158</th>\n",
       "      <td>29-Feb-24</td>\n",
       "      <td>2024-02-29</td>\n",
       "      <td>TRANSFER TO 4897693162093</td>\n",
       "      <td>1,300.00</td>\n",
       "      <td></td>\n",
       "    </tr>\n",
       "    <tr>\n",
       "      <th>159</th>\n",
       "      <td>29-Feb-24</td>\n",
       "      <td>2024-02-29</td>\n",
       "      <td>TRANSFER TO 4897693162093</td>\n",
       "      <td>137.5</td>\n",
       "      <td></td>\n",
       "    </tr>\n",
       "    <tr>\n",
       "      <th>160</th>\n",
       "      <td>NaN</td>\n",
       "      <td>NaN</td>\n",
       "      <td>NaN</td>\n",
       "      <td>NaN</td>\n",
       "      <td>NaN</td>\n",
       "    </tr>\n",
       "    <tr>\n",
       "      <th>161</th>\n",
       "      <td>**This is a computer generated statement and d...</td>\n",
       "      <td>NaN</td>\n",
       "      <td>NaN</td>\n",
       "      <td>NaN</td>\n",
       "      <td>NaN</td>\n",
       "    </tr>\n",
       "  </tbody>\n",
       "</table>\n",
       "<p>162 rows × 5 columns</p>\n",
       "</div>"
      ],
      "text/plain": [
       "                                              Txn Date        Date  \\\n",
       "0                                            01-Feb-24  2024-02-01   \n",
       "1                                            01-Feb-24  2024-02-01   \n",
       "2                                            01-Feb-24  2024-02-01   \n",
       "3                                            01-Feb-24  2024-02-01   \n",
       "4                                            01-Feb-24  2024-02-01   \n",
       "..                                                 ...         ...   \n",
       "157                                          29-Feb-24  2024-02-29   \n",
       "158                                          29-Feb-24  2024-02-29   \n",
       "159                                          29-Feb-24  2024-02-29   \n",
       "160                                                NaN         NaN   \n",
       "161  **This is a computer generated statement and d...         NaN   \n",
       "\n",
       "                      account-id     Debit Credit  \n",
       "0    TRANSFER FROM 4897735162098               33  \n",
       "1      TRANSFER TO 4897693162093        66         \n",
       "2      TRANSFER TO 4897693162093        25         \n",
       "3      TRANSFER TO 4897693162093       130         \n",
       "4      TRANSFER TO 4897693162093        26         \n",
       "..                           ...       ...    ...  \n",
       "157    TRANSFER TO 4897693162093       500         \n",
       "158    TRANSFER TO 4897693162093  1,300.00         \n",
       "159    TRANSFER TO 4897693162093     137.5         \n",
       "160                          NaN       NaN    NaN  \n",
       "161                          NaN       NaN    NaN  \n",
       "\n",
       "[162 rows x 5 columns]"
      ]
     },
     "execution_count": 12,
     "metadata": {},
     "output_type": "execute_result"
    }
   ],
   "source": [
    "df"
   ]
  },
  {
   "cell_type": "code",
   "execution_count": 13,
   "id": "896af23a",
   "metadata": {},
   "outputs": [],
   "source": [
    "def filter_bank_data(df = pd.DataFrame)->pd.DataFrame:\n",
    "        df.dropna(subset = ['Debit'], inplace = True)\n",
    "        df = df[df['Debit'] != ' ']\n",
    "        df = df.assign(type='Debit')\n",
    "        df.rename(columns={'Debit': 'amount'}, inplace=True)\n",
    "        df['amount'] = df['amount'].replace(',', '', regex=True).astype(float)\n",
    "        df.drop(columns = ['Txn Date'],inplace = True)\n",
    "        df['account-id'] = df['account-id'].apply(lambda s: int(s.split()[2]))\n",
    "        df.drop(columns = ['Credit'], inplace = True)\n",
    "        df.rename(columns={'Date': 'date', 'account-id':'account_id'}, inplace=True)\n",
    "        df['date'] = pd.to_datetime(df['date'], format=\"%Y-%m-%d\")\n",
    "        df.set_index('date',inplace = True)\n",
    "        df['sum_5days'] = df.groupby('account_id')['amount'].transform(lambda s: s.rolling(timedelta(days=5)).sum())\n",
    "        df['count_5days'] = df.groupby('account_id')['amount'].transform(lambda s: s.rolling(timedelta(days=5)).count())\n",
    "        df_new = df\n",
    "        return df_new\n",
    "\n",
    "    "
   ]
  },
  {
   "cell_type": "code",
   "execution_count": 14,
   "id": "650bd91a",
   "metadata": {},
   "outputs": [],
   "source": [
    "df_new= filter_bank_data(df = df)"
   ]
  },
  {
   "cell_type": "code",
   "execution_count": 15,
   "id": "07f86cb4",
   "metadata": {},
   "outputs": [
    {
     "data": {
      "text/html": [
       "<div>\n",
       "<style scoped>\n",
       "    .dataframe tbody tr th:only-of-type {\n",
       "        vertical-align: middle;\n",
       "    }\n",
       "\n",
       "    .dataframe tbody tr th {\n",
       "        vertical-align: top;\n",
       "    }\n",
       "\n",
       "    .dataframe thead th {\n",
       "        text-align: right;\n",
       "    }\n",
       "</style>\n",
       "<table border=\"1\" class=\"dataframe\">\n",
       "  <thead>\n",
       "    <tr style=\"text-align: right;\">\n",
       "      <th></th>\n",
       "      <th>Txn Date</th>\n",
       "      <th>Date</th>\n",
       "      <th>account-id</th>\n",
       "      <th>Debit</th>\n",
       "      <th>Credit</th>\n",
       "    </tr>\n",
       "  </thead>\n",
       "  <tbody>\n",
       "    <tr>\n",
       "      <th>0</th>\n",
       "      <td>01-Feb-24</td>\n",
       "      <td>2024-02-01</td>\n",
       "      <td>TRANSFER FROM 4897735162098</td>\n",
       "      <td></td>\n",
       "      <td>33</td>\n",
       "    </tr>\n",
       "    <tr>\n",
       "      <th>1</th>\n",
       "      <td>01-Feb-24</td>\n",
       "      <td>2024-02-01</td>\n",
       "      <td>TRANSFER TO 4897693162093</td>\n",
       "      <td>66</td>\n",
       "      <td></td>\n",
       "    </tr>\n",
       "    <tr>\n",
       "      <th>2</th>\n",
       "      <td>01-Feb-24</td>\n",
       "      <td>2024-02-01</td>\n",
       "      <td>TRANSFER TO 4897693162093</td>\n",
       "      <td>25</td>\n",
       "      <td></td>\n",
       "    </tr>\n",
       "    <tr>\n",
       "      <th>3</th>\n",
       "      <td>01-Feb-24</td>\n",
       "      <td>2024-02-01</td>\n",
       "      <td>TRANSFER TO 4897693162093</td>\n",
       "      <td>130</td>\n",
       "      <td></td>\n",
       "    </tr>\n",
       "    <tr>\n",
       "      <th>4</th>\n",
       "      <td>01-Feb-24</td>\n",
       "      <td>2024-02-01</td>\n",
       "      <td>TRANSFER TO 4897693162093</td>\n",
       "      <td>26</td>\n",
       "      <td></td>\n",
       "    </tr>\n",
       "    <tr>\n",
       "      <th>...</th>\n",
       "      <td>...</td>\n",
       "      <td>...</td>\n",
       "      <td>...</td>\n",
       "      <td>...</td>\n",
       "      <td>...</td>\n",
       "    </tr>\n",
       "    <tr>\n",
       "      <th>155</th>\n",
       "      <td>29-Feb-24</td>\n",
       "      <td>2024-02-29</td>\n",
       "      <td>TRANSFER FROM 4897735162098</td>\n",
       "      <td></td>\n",
       "      <td>10,000.00</td>\n",
       "    </tr>\n",
       "    <tr>\n",
       "      <th>156</th>\n",
       "      <td>29-Feb-24</td>\n",
       "      <td>2024-02-29</td>\n",
       "      <td>TRANSFER TO 4897693162093</td>\n",
       "      <td>110</td>\n",
       "      <td></td>\n",
       "    </tr>\n",
       "    <tr>\n",
       "      <th>157</th>\n",
       "      <td>29-Feb-24</td>\n",
       "      <td>2024-02-29</td>\n",
       "      <td>TRANSFER TO 4897693162093</td>\n",
       "      <td>500</td>\n",
       "      <td></td>\n",
       "    </tr>\n",
       "    <tr>\n",
       "      <th>158</th>\n",
       "      <td>29-Feb-24</td>\n",
       "      <td>2024-02-29</td>\n",
       "      <td>TRANSFER TO 4897693162093</td>\n",
       "      <td>1,300.00</td>\n",
       "      <td></td>\n",
       "    </tr>\n",
       "    <tr>\n",
       "      <th>159</th>\n",
       "      <td>29-Feb-24</td>\n",
       "      <td>2024-02-29</td>\n",
       "      <td>TRANSFER TO 4897693162093</td>\n",
       "      <td>137.5</td>\n",
       "      <td></td>\n",
       "    </tr>\n",
       "  </tbody>\n",
       "</table>\n",
       "<p>160 rows × 5 columns</p>\n",
       "</div>"
      ],
      "text/plain": [
       "      Txn Date        Date                   account-id     Debit     Credit\n",
       "0    01-Feb-24  2024-02-01  TRANSFER FROM 4897735162098                   33\n",
       "1    01-Feb-24  2024-02-01    TRANSFER TO 4897693162093        66           \n",
       "2    01-Feb-24  2024-02-01    TRANSFER TO 4897693162093        25           \n",
       "3    01-Feb-24  2024-02-01    TRANSFER TO 4897693162093       130           \n",
       "4    01-Feb-24  2024-02-01    TRANSFER TO 4897693162093        26           \n",
       "..         ...         ...                          ...       ...        ...\n",
       "155  29-Feb-24  2024-02-29  TRANSFER FROM 4897735162098            10,000.00\n",
       "156  29-Feb-24  2024-02-29    TRANSFER TO 4897693162093       110           \n",
       "157  29-Feb-24  2024-02-29    TRANSFER TO 4897693162093       500           \n",
       "158  29-Feb-24  2024-02-29    TRANSFER TO 4897693162093  1,300.00           \n",
       "159  29-Feb-24  2024-02-29    TRANSFER TO 4897693162093     137.5           \n",
       "\n",
       "[160 rows x 5 columns]"
      ]
     },
     "execution_count": 15,
     "metadata": {},
     "output_type": "execute_result"
    }
   ],
   "source": [
    "df"
   ]
  },
  {
   "cell_type": "code",
   "execution_count": 16,
   "id": "436090d3",
   "metadata": {},
   "outputs": [
    {
     "name": "stdout",
     "output_type": "stream",
     "text": [
      "there\n"
     ]
    }
   ],
   "source": [
    "ls = ['home',34,5,7,3,2]\n",
    "\n",
    "if 'home' in ls:\n",
    "    print(\"there\")"
   ]
  },
  {
   "cell_type": "code",
   "execution_count": 17,
   "id": "f0714f84",
   "metadata": {},
   "outputs": [],
   "source": [
    "def alter_columns(df = pd.DataFrame)->pd.DataFrame:\n",
    "    df.dropna(subset = ['Debit'], inplace = True)\n",
    "    df = df[df['Debit'] != ' ']\n",
    "    df.drop(columns = ['Txn Date'],inplace = True)\n",
    "    df['account-id'] = df['account-id'].apply(lambda s: int(s.split()[2]))\n",
    "    df.rename(columns={'Date': 'date', 'account-id':'account_id'}, inplace=True)\n",
    "    df.rename(columns={'Debit': 'amount'}, inplace=True)\n",
    "    df = df.assign(type='Debit')\n",
    "    df.drop(columns = ['Credit'], inplace = True)\n",
    "    df['date'] = pd.to_datetime(df['date'], format=\"%Y-%m-%d\")\n",
    "    df.set_index('date',inplace = True)\n",
    "    df_new = df\n",
    "    return df_new"
   ]
  },
  {
   "cell_type": "code",
   "execution_count": 18,
   "id": "5b6f210e",
   "metadata": {},
   "outputs": [],
   "source": [
    "df_new = alter_columns(df)"
   ]
  },
  {
   "cell_type": "code",
   "execution_count": 19,
   "id": "a19de176",
   "metadata": {},
   "outputs": [
    {
     "data": {
      "text/html": [
       "<div>\n",
       "<style scoped>\n",
       "    .dataframe tbody tr th:only-of-type {\n",
       "        vertical-align: middle;\n",
       "    }\n",
       "\n",
       "    .dataframe tbody tr th {\n",
       "        vertical-align: top;\n",
       "    }\n",
       "\n",
       "    .dataframe thead th {\n",
       "        text-align: right;\n",
       "    }\n",
       "</style>\n",
       "<table border=\"1\" class=\"dataframe\">\n",
       "  <thead>\n",
       "    <tr style=\"text-align: right;\">\n",
       "      <th></th>\n",
       "      <th>account_id</th>\n",
       "      <th>amount</th>\n",
       "      <th>type</th>\n",
       "    </tr>\n",
       "    <tr>\n",
       "      <th>date</th>\n",
       "      <th></th>\n",
       "      <th></th>\n",
       "      <th></th>\n",
       "    </tr>\n",
       "  </thead>\n",
       "  <tbody>\n",
       "    <tr>\n",
       "      <th>2024-02-01</th>\n",
       "      <td>4897693162093</td>\n",
       "      <td>66</td>\n",
       "      <td>Debit</td>\n",
       "    </tr>\n",
       "    <tr>\n",
       "      <th>2024-02-01</th>\n",
       "      <td>4897693162093</td>\n",
       "      <td>25</td>\n",
       "      <td>Debit</td>\n",
       "    </tr>\n",
       "    <tr>\n",
       "      <th>2024-02-01</th>\n",
       "      <td>4897693162093</td>\n",
       "      <td>130</td>\n",
       "      <td>Debit</td>\n",
       "    </tr>\n",
       "    <tr>\n",
       "      <th>2024-02-01</th>\n",
       "      <td>4897693162093</td>\n",
       "      <td>26</td>\n",
       "      <td>Debit</td>\n",
       "    </tr>\n",
       "    <tr>\n",
       "      <th>2024-02-01</th>\n",
       "      <td>4897693162093</td>\n",
       "      <td>89</td>\n",
       "      <td>Debit</td>\n",
       "    </tr>\n",
       "    <tr>\n",
       "      <th>...</th>\n",
       "      <td>...</td>\n",
       "      <td>...</td>\n",
       "      <td>...</td>\n",
       "    </tr>\n",
       "    <tr>\n",
       "      <th>2024-02-29</th>\n",
       "      <td>4897693162093</td>\n",
       "      <td>199</td>\n",
       "      <td>Debit</td>\n",
       "    </tr>\n",
       "    <tr>\n",
       "      <th>2024-02-29</th>\n",
       "      <td>4897693162093</td>\n",
       "      <td>110</td>\n",
       "      <td>Debit</td>\n",
       "    </tr>\n",
       "    <tr>\n",
       "      <th>2024-02-29</th>\n",
       "      <td>4897693162093</td>\n",
       "      <td>500</td>\n",
       "      <td>Debit</td>\n",
       "    </tr>\n",
       "    <tr>\n",
       "      <th>2024-02-29</th>\n",
       "      <td>4897693162093</td>\n",
       "      <td>1,300.00</td>\n",
       "      <td>Debit</td>\n",
       "    </tr>\n",
       "    <tr>\n",
       "      <th>2024-02-29</th>\n",
       "      <td>4897693162093</td>\n",
       "      <td>137.5</td>\n",
       "      <td>Debit</td>\n",
       "    </tr>\n",
       "  </tbody>\n",
       "</table>\n",
       "<p>98 rows × 3 columns</p>\n",
       "</div>"
      ],
      "text/plain": [
       "               account_id    amount   type\n",
       "date                                      \n",
       "2024-02-01  4897693162093        66  Debit\n",
       "2024-02-01  4897693162093        25  Debit\n",
       "2024-02-01  4897693162093       130  Debit\n",
       "2024-02-01  4897693162093        26  Debit\n",
       "2024-02-01  4897693162093        89  Debit\n",
       "...                   ...       ...    ...\n",
       "2024-02-29  4897693162093       199  Debit\n",
       "2024-02-29  4897693162093       110  Debit\n",
       "2024-02-29  4897693162093       500  Debit\n",
       "2024-02-29  4897693162093  1,300.00  Debit\n",
       "2024-02-29  4897693162093     137.5  Debit\n",
       "\n",
       "[98 rows x 3 columns]"
      ]
     },
     "execution_count": 19,
     "metadata": {},
     "output_type": "execute_result"
    }
   ],
   "source": [
    "df_new"
   ]
  },
  {
   "cell_type": "code",
   "execution_count": 20,
   "id": "9639b321",
   "metadata": {},
   "outputs": [],
   "source": [
    "def check_amount_and_sum(df = pd.DataFrame):\n",
    "    df['amount'] = df['amount'].replace(',', '', regex=True).astype(float)\n",
    "    df['sum_5days'] = df.groupby('account_id')['amount'].transform(lambda s: s.rolling(timedelta(days=5)).sum())\n",
    "    df['count_5days'] = df.groupby('account_id')['amount'].transform(lambda s: s.rolling(timedelta(days=5)).count())\n",
    "\n",
    "    "
   ]
  },
  {
   "cell_type": "code",
   "execution_count": 21,
   "id": "1fd24a90",
   "metadata": {},
   "outputs": [],
   "source": [
    "check_amount_and_sum(df_new)"
   ]
  },
  {
   "cell_type": "code",
   "execution_count": 22,
   "id": "71da0942",
   "metadata": {},
   "outputs": [
    {
     "data": {
      "text/html": [
       "<div>\n",
       "<style scoped>\n",
       "    .dataframe tbody tr th:only-of-type {\n",
       "        vertical-align: middle;\n",
       "    }\n",
       "\n",
       "    .dataframe tbody tr th {\n",
       "        vertical-align: top;\n",
       "    }\n",
       "\n",
       "    .dataframe thead th {\n",
       "        text-align: right;\n",
       "    }\n",
       "</style>\n",
       "<table border=\"1\" class=\"dataframe\">\n",
       "  <thead>\n",
       "    <tr style=\"text-align: right;\">\n",
       "      <th></th>\n",
       "      <th>account_id</th>\n",
       "      <th>amount</th>\n",
       "      <th>type</th>\n",
       "      <th>sum_5days</th>\n",
       "      <th>count_5days</th>\n",
       "    </tr>\n",
       "    <tr>\n",
       "      <th>date</th>\n",
       "      <th></th>\n",
       "      <th></th>\n",
       "      <th></th>\n",
       "      <th></th>\n",
       "      <th></th>\n",
       "    </tr>\n",
       "  </thead>\n",
       "  <tbody>\n",
       "    <tr>\n",
       "      <th>2024-02-01</th>\n",
       "      <td>4897693162093</td>\n",
       "      <td>66.0</td>\n",
       "      <td>Debit</td>\n",
       "      <td>66.0</td>\n",
       "      <td>1.0</td>\n",
       "    </tr>\n",
       "    <tr>\n",
       "      <th>2024-02-01</th>\n",
       "      <td>4897693162093</td>\n",
       "      <td>25.0</td>\n",
       "      <td>Debit</td>\n",
       "      <td>91.0</td>\n",
       "      <td>2.0</td>\n",
       "    </tr>\n",
       "    <tr>\n",
       "      <th>2024-02-01</th>\n",
       "      <td>4897693162093</td>\n",
       "      <td>130.0</td>\n",
       "      <td>Debit</td>\n",
       "      <td>221.0</td>\n",
       "      <td>3.0</td>\n",
       "    </tr>\n",
       "    <tr>\n",
       "      <th>2024-02-01</th>\n",
       "      <td>4897693162093</td>\n",
       "      <td>26.0</td>\n",
       "      <td>Debit</td>\n",
       "      <td>247.0</td>\n",
       "      <td>4.0</td>\n",
       "    </tr>\n",
       "    <tr>\n",
       "      <th>2024-02-01</th>\n",
       "      <td>4897693162093</td>\n",
       "      <td>89.0</td>\n",
       "      <td>Debit</td>\n",
       "      <td>336.0</td>\n",
       "      <td>5.0</td>\n",
       "    </tr>\n",
       "    <tr>\n",
       "      <th>...</th>\n",
       "      <td>...</td>\n",
       "      <td>...</td>\n",
       "      <td>...</td>\n",
       "      <td>...</td>\n",
       "      <td>...</td>\n",
       "    </tr>\n",
       "    <tr>\n",
       "      <th>2024-02-29</th>\n",
       "      <td>4897693162093</td>\n",
       "      <td>199.0</td>\n",
       "      <td>Debit</td>\n",
       "      <td>438.0</td>\n",
       "      <td>3.0</td>\n",
       "    </tr>\n",
       "    <tr>\n",
       "      <th>2024-02-29</th>\n",
       "      <td>4897693162093</td>\n",
       "      <td>110.0</td>\n",
       "      <td>Debit</td>\n",
       "      <td>548.0</td>\n",
       "      <td>4.0</td>\n",
       "    </tr>\n",
       "    <tr>\n",
       "      <th>2024-02-29</th>\n",
       "      <td>4897693162093</td>\n",
       "      <td>500.0</td>\n",
       "      <td>Debit</td>\n",
       "      <td>1048.0</td>\n",
       "      <td>5.0</td>\n",
       "    </tr>\n",
       "    <tr>\n",
       "      <th>2024-02-29</th>\n",
       "      <td>4897693162093</td>\n",
       "      <td>1300.0</td>\n",
       "      <td>Debit</td>\n",
       "      <td>2348.0</td>\n",
       "      <td>6.0</td>\n",
       "    </tr>\n",
       "    <tr>\n",
       "      <th>2024-02-29</th>\n",
       "      <td>4897693162093</td>\n",
       "      <td>137.5</td>\n",
       "      <td>Debit</td>\n",
       "      <td>2485.5</td>\n",
       "      <td>7.0</td>\n",
       "    </tr>\n",
       "  </tbody>\n",
       "</table>\n",
       "<p>98 rows × 5 columns</p>\n",
       "</div>"
      ],
      "text/plain": [
       "               account_id  amount   type  sum_5days  count_5days\n",
       "date                                                            \n",
       "2024-02-01  4897693162093    66.0  Debit       66.0          1.0\n",
       "2024-02-01  4897693162093    25.0  Debit       91.0          2.0\n",
       "2024-02-01  4897693162093   130.0  Debit      221.0          3.0\n",
       "2024-02-01  4897693162093    26.0  Debit      247.0          4.0\n",
       "2024-02-01  4897693162093    89.0  Debit      336.0          5.0\n",
       "...                   ...     ...    ...        ...          ...\n",
       "2024-02-29  4897693162093   199.0  Debit      438.0          3.0\n",
       "2024-02-29  4897693162093   110.0  Debit      548.0          4.0\n",
       "2024-02-29  4897693162093   500.0  Debit     1048.0          5.0\n",
       "2024-02-29  4897693162093  1300.0  Debit     2348.0          6.0\n",
       "2024-02-29  4897693162093   137.5  Debit     2485.5          7.0\n",
       "\n",
       "[98 rows x 5 columns]"
      ]
     },
     "execution_count": 22,
     "metadata": {},
     "output_type": "execute_result"
    }
   ],
   "source": [
    "df_new"
   ]
  },
  {
   "cell_type": "code",
   "execution_count": 25,
   "id": "8c7ff32c",
   "metadata": {},
   "outputs": [
    {
     "name": "stderr",
     "output_type": "stream",
     "text": [
      "c:\\Users\\yashv\\anaconda3\\Lib\\site-packages\\sklearn\\base.py:486: UserWarning: X has feature names, but IsolationForest was fitted without feature names\n",
      "  warnings.warn(\n",
      "c:\\Users\\yashv\\anaconda3\\Lib\\site-packages\\sklearn\\base.py:486: UserWarning: X has feature names, but IsolationForest was fitted without feature names\n",
      "  warnings.warn(\n"
     ]
    }
   ],
   "source": [
    "df_results = predict(df = df_new)"
   ]
  },
  {
   "cell_type": "code",
   "execution_count": 26,
   "id": "bad19231",
   "metadata": {},
   "outputs": [
    {
     "data": {
      "text/html": [
       "<div>\n",
       "<style scoped>\n",
       "    .dataframe tbody tr th:only-of-type {\n",
       "        vertical-align: middle;\n",
       "    }\n",
       "\n",
       "    .dataframe tbody tr th {\n",
       "        vertical-align: top;\n",
       "    }\n",
       "\n",
       "    .dataframe thead th {\n",
       "        text-align: right;\n",
       "    }\n",
       "</style>\n",
       "<table border=\"1\" class=\"dataframe\">\n",
       "  <thead>\n",
       "    <tr style=\"text-align: right;\">\n",
       "      <th></th>\n",
       "      <th>account_id</th>\n",
       "      <th>amount</th>\n",
       "      <th>type</th>\n",
       "      <th>sum_5days</th>\n",
       "      <th>count_5days</th>\n",
       "      <th>y_pred</th>\n",
       "      <th>y_scores</th>\n",
       "    </tr>\n",
       "    <tr>\n",
       "      <th>date</th>\n",
       "      <th></th>\n",
       "      <th></th>\n",
       "      <th></th>\n",
       "      <th></th>\n",
       "      <th></th>\n",
       "      <th></th>\n",
       "      <th></th>\n",
       "    </tr>\n",
       "  </thead>\n",
       "  <tbody>\n",
       "    <tr>\n",
       "      <th>2024-02-01</th>\n",
       "      <td>4897693162093</td>\n",
       "      <td>66.0</td>\n",
       "      <td>Debit</td>\n",
       "      <td>66.0</td>\n",
       "      <td>1.0</td>\n",
       "      <td>0</td>\n",
       "      <td>-0.342445</td>\n",
       "    </tr>\n",
       "    <tr>\n",
       "      <th>2024-02-01</th>\n",
       "      <td>4897693162093</td>\n",
       "      <td>25.0</td>\n",
       "      <td>Debit</td>\n",
       "      <td>91.0</td>\n",
       "      <td>2.0</td>\n",
       "      <td>0</td>\n",
       "      <td>-0.230481</td>\n",
       "    </tr>\n",
       "    <tr>\n",
       "      <th>2024-02-01</th>\n",
       "      <td>4897693162093</td>\n",
       "      <td>130.0</td>\n",
       "      <td>Debit</td>\n",
       "      <td>221.0</td>\n",
       "      <td>3.0</td>\n",
       "      <td>0</td>\n",
       "      <td>-0.161682</td>\n",
       "    </tr>\n",
       "    <tr>\n",
       "      <th>2024-02-01</th>\n",
       "      <td>4897693162093</td>\n",
       "      <td>26.0</td>\n",
       "      <td>Debit</td>\n",
       "      <td>247.0</td>\n",
       "      <td>4.0</td>\n",
       "      <td>0</td>\n",
       "      <td>-0.089227</td>\n",
       "    </tr>\n",
       "    <tr>\n",
       "      <th>2024-02-01</th>\n",
       "      <td>4897693162093</td>\n",
       "      <td>89.0</td>\n",
       "      <td>Debit</td>\n",
       "      <td>336.0</td>\n",
       "      <td>5.0</td>\n",
       "      <td>0</td>\n",
       "      <td>-0.038234</td>\n",
       "    </tr>\n",
       "    <tr>\n",
       "      <th>...</th>\n",
       "      <td>...</td>\n",
       "      <td>...</td>\n",
       "      <td>...</td>\n",
       "      <td>...</td>\n",
       "      <td>...</td>\n",
       "      <td>...</td>\n",
       "      <td>...</td>\n",
       "    </tr>\n",
       "    <tr>\n",
       "      <th>2024-02-29</th>\n",
       "      <td>4897693162093</td>\n",
       "      <td>199.0</td>\n",
       "      <td>Debit</td>\n",
       "      <td>438.0</td>\n",
       "      <td>3.0</td>\n",
       "      <td>0</td>\n",
       "      <td>-0.165984</td>\n",
       "    </tr>\n",
       "    <tr>\n",
       "      <th>2024-02-29</th>\n",
       "      <td>4897693162093</td>\n",
       "      <td>110.0</td>\n",
       "      <td>Debit</td>\n",
       "      <td>548.0</td>\n",
       "      <td>4.0</td>\n",
       "      <td>0</td>\n",
       "      <td>-0.097363</td>\n",
       "    </tr>\n",
       "    <tr>\n",
       "      <th>2024-02-29</th>\n",
       "      <td>4897693162093</td>\n",
       "      <td>500.0</td>\n",
       "      <td>Debit</td>\n",
       "      <td>1048.0</td>\n",
       "      <td>5.0</td>\n",
       "      <td>0</td>\n",
       "      <td>-0.049576</td>\n",
       "    </tr>\n",
       "    <tr>\n",
       "      <th>2024-02-29</th>\n",
       "      <td>4897693162093</td>\n",
       "      <td>1300.0</td>\n",
       "      <td>Debit</td>\n",
       "      <td>2348.0</td>\n",
       "      <td>6.0</td>\n",
       "      <td>0</td>\n",
       "      <td>-0.039264</td>\n",
       "    </tr>\n",
       "    <tr>\n",
       "      <th>2024-02-29</th>\n",
       "      <td>4897693162093</td>\n",
       "      <td>137.5</td>\n",
       "      <td>Debit</td>\n",
       "      <td>2485.5</td>\n",
       "      <td>7.0</td>\n",
       "      <td>0</td>\n",
       "      <td>-0.040003</td>\n",
       "    </tr>\n",
       "  </tbody>\n",
       "</table>\n",
       "<p>98 rows × 7 columns</p>\n",
       "</div>"
      ],
      "text/plain": [
       "               account_id  amount   type  sum_5days  count_5days  y_pred  \\\n",
       "date                                                                       \n",
       "2024-02-01  4897693162093    66.0  Debit       66.0          1.0       0   \n",
       "2024-02-01  4897693162093    25.0  Debit       91.0          2.0       0   \n",
       "2024-02-01  4897693162093   130.0  Debit      221.0          3.0       0   \n",
       "2024-02-01  4897693162093    26.0  Debit      247.0          4.0       0   \n",
       "2024-02-01  4897693162093    89.0  Debit      336.0          5.0       0   \n",
       "...                   ...     ...    ...        ...          ...     ...   \n",
       "2024-02-29  4897693162093   199.0  Debit      438.0          3.0       0   \n",
       "2024-02-29  4897693162093   110.0  Debit      548.0          4.0       0   \n",
       "2024-02-29  4897693162093   500.0  Debit     1048.0          5.0       0   \n",
       "2024-02-29  4897693162093  1300.0  Debit     2348.0          6.0       0   \n",
       "2024-02-29  4897693162093   137.5  Debit     2485.5          7.0       0   \n",
       "\n",
       "            y_scores  \n",
       "date                  \n",
       "2024-02-01 -0.342445  \n",
       "2024-02-01 -0.230481  \n",
       "2024-02-01 -0.161682  \n",
       "2024-02-01 -0.089227  \n",
       "2024-02-01 -0.038234  \n",
       "...              ...  \n",
       "2024-02-29 -0.165984  \n",
       "2024-02-29 -0.097363  \n",
       "2024-02-29 -0.049576  \n",
       "2024-02-29 -0.039264  \n",
       "2024-02-29 -0.040003  \n",
       "\n",
       "[98 rows x 7 columns]"
      ]
     },
     "execution_count": 26,
     "metadata": {},
     "output_type": "execute_result"
    }
   ],
   "source": [
    "df_results"
   ]
  },
  {
   "cell_type": "code",
   "execution_count": 27,
   "id": "352c000a",
   "metadata": {},
   "outputs": [
    {
     "ename": "NameError",
     "evalue": "name 'visualize_anomalies_3d' is not defined",
     "output_type": "error",
     "traceback": [
      "\u001b[1;31m---------------------------------------------------------------------------\u001b[0m",
      "\u001b[1;31mNameError\u001b[0m                                 Traceback (most recent call last)",
      "Cell \u001b[1;32mIn[27], line 1\u001b[0m\n\u001b[1;32m----> 1\u001b[0m visualize_anomalies_3d(df_results)\n",
      "\u001b[1;31mNameError\u001b[0m: name 'visualize_anomalies_3d' is not defined"
     ]
    }
   ],
   "source": [
    "visualize_anomalies_3d(df_results)"
   ]
  },
  {
   "cell_type": "code",
   "execution_count": 439,
   "id": "4879d407",
   "metadata": {},
   "outputs": [
    {
     "data": {
      "application/vnd.plotly.v1+json": {
       "config": {
        "plotlyServerURL": "https://plot.ly"
       },
       "data": [
        {
         "marker": {
          "color": "blue",
          "symbol": "circle"
         },
         "mode": "markers",
         "name": "Non-Anomalous",
         "type": "scatter",
         "x": [
          "2024-02-01T00:00:00",
          "2024-02-01T00:00:00",
          "2024-02-01T00:00:00",
          "2024-02-01T00:00:00",
          "2024-02-01T00:00:00",
          "2024-02-01T00:00:00",
          "2024-02-01T00:00:00",
          "2024-02-02T00:00:00",
          "2024-02-02T00:00:00",
          "2024-02-02T00:00:00",
          "2024-02-02T00:00:00",
          "2024-02-03T00:00:00",
          "2024-02-03T00:00:00",
          "2024-02-03T00:00:00",
          "2024-02-03T00:00:00",
          "2024-02-03T00:00:00",
          "2024-02-03T00:00:00",
          "2024-02-03T00:00:00",
          "2024-02-04T00:00:00",
          "2024-02-04T00:00:00",
          "2024-02-04T00:00:00",
          "2024-02-04T00:00:00",
          "2024-02-04T00:00:00",
          "2024-02-05T00:00:00",
          "2024-02-05T00:00:00",
          "2024-02-05T00:00:00",
          "2024-02-06T00:00:00",
          "2024-02-06T00:00:00",
          "2024-02-07T00:00:00",
          "2024-02-07T00:00:00",
          "2024-02-08T00:00:00",
          "2024-02-08T00:00:00",
          "2024-02-09T00:00:00",
          "2024-02-09T00:00:00",
          "2024-02-10T00:00:00",
          "2024-02-10T00:00:00",
          "2024-02-10T00:00:00",
          "2024-02-10T00:00:00",
          "2024-02-10T00:00:00",
          "2024-02-10T00:00:00",
          "2024-02-10T00:00:00",
          "2024-02-10T00:00:00",
          "2024-02-11T00:00:00",
          "2024-02-11T00:00:00",
          "2024-02-12T00:00:00",
          "2024-02-12T00:00:00",
          "2024-02-13T00:00:00",
          "2024-02-15T00:00:00",
          "2024-02-15T00:00:00",
          "2024-02-15T00:00:00",
          "2024-02-15T00:00:00",
          "2024-02-15T00:00:00",
          "2024-02-16T00:00:00",
          "2024-02-16T00:00:00",
          "2024-02-17T00:00:00",
          "2024-02-17T00:00:00",
          "2024-02-17T00:00:00",
          "2024-02-18T00:00:00",
          "2024-02-18T00:00:00",
          "2024-02-18T00:00:00",
          "2024-02-18T00:00:00",
          "2024-02-20T00:00:00",
          "2024-02-20T00:00:00",
          "2024-02-20T00:00:00",
          "2024-02-21T00:00:00",
          "2024-02-22T00:00:00",
          "2024-02-22T00:00:00",
          "2024-02-23T00:00:00",
          "2024-02-23T00:00:00",
          "2024-02-24T00:00:00",
          "2024-02-24T00:00:00",
          "2024-02-24T00:00:00",
          "2024-02-26T00:00:00",
          "2024-02-26T00:00:00",
          "2024-02-26T00:00:00",
          "2024-02-27T00:00:00",
          "2024-02-27T00:00:00",
          "2024-02-27T00:00:00",
          "2024-02-28T00:00:00",
          "2024-02-28T00:00:00",
          "2024-02-28T00:00:00",
          "2024-02-28T00:00:00",
          "2024-02-29T00:00:00",
          "2024-02-29T00:00:00",
          "2024-02-29T00:00:00",
          "2024-02-29T00:00:00",
          "2024-02-29T00:00:00",
          "2024-02-29T00:00:00",
          "2024-02-29T00:00:00"
         ],
         "xaxis": "x",
         "y": [
          0.066,
          0.091,
          0.221,
          0.247,
          0.336,
          0.9295,
          1.1995,
          0.033,
          0.06,
          0.08,
          23.08,
          0.1,
          0.128,
          0.153,
          0.203,
          0.323,
          0.59225,
          0.63225,
          0.045,
          0.135,
          0.16,
          0.352,
          0.602,
          0.01,
          1.598,
          4.289,
          0.51,
          1.973,
          0.09,
          0.34,
          0.035,
          0.17,
          0.04084,
          0.8958400000000001,
          10.0015,
          10.14934,
          10.16434,
          10.19434,
          10.32034,
          11.21034,
          11.28034,
          11.350340000000001,
          0.05,
          0.074,
          0.045,
          0.09,
          0.46,
          0.15,
          0.21,
          0.26,
          0.375,
          0.895,
          0.023,
          0.137,
          0.12,
          0.245,
          0.295,
          0.06,
          0.12,
          0.45,
          0.86,
          0.06,
          1.16,
          1.27,
          0.1,
          0.1,
          0.799,
          97.05,
          97.9,
          0.15,
          0.165,
          0.202,
          0.1,
          0.501,
          0.5724300000000001,
          0.06,
          0.355,
          0.375,
          0.026,
          0.926,
          49.931,
          49.957,
          0.149,
          0.239,
          0.438,
          0.548,
          1.048,
          2.348,
          2.4855
         ],
         "yaxis": "y"
        },
        {
         "marker": {
          "color": "red",
          "symbol": "x"
         },
         "mode": "markers",
         "name": "Anomalous",
         "type": "scatter",
         "x": [
          "2024-02-02T00:00:00",
          "2024-02-02T00:00:00",
          "2024-02-02T00:00:00",
          "2024-02-02T00:00:00",
          "2024-02-02T00:00:00",
          "2024-02-02T00:00:00",
          "2024-02-19T00:00:00",
          "2024-02-23T00:00:00",
          "2024-02-28T00:00:00"
         ],
         "xaxis": "x",
         "y": [
          123.08,
          123.38,
          123.9,
          131.56666,
          134.56666,
          134.86666,
          90,
          97,
          50.012
         ],
         "yaxis": "y"
        }
       ],
       "layout": {
        "annotations": [
         {
          "arrowcolor": "red",
          "arrowhead": 1,
          "arrowwidth": 1,
          "ax": 20,
          "ay": -40,
          "font": {
           "color": "red",
           "size": 10
          },
          "showarrow": true,
          "text": "Anomaly\n123.08k",
          "x": "2024-02-02T00:00:00",
          "y": 123.08
         },
         {
          "arrowcolor": "red",
          "arrowhead": 1,
          "arrowwidth": 1,
          "ax": 20,
          "ay": -40,
          "font": {
           "color": "red",
           "size": 10
          },
          "showarrow": true,
          "text": "Anomaly\n123.38k",
          "x": "2024-02-02T00:00:00",
          "y": 123.38
         },
         {
          "arrowcolor": "red",
          "arrowhead": 1,
          "arrowwidth": 1,
          "ax": 20,
          "ay": -40,
          "font": {
           "color": "red",
           "size": 10
          },
          "showarrow": true,
          "text": "Anomaly\n123.90k",
          "x": "2024-02-02T00:00:00",
          "y": 123.9
         },
         {
          "arrowcolor": "red",
          "arrowhead": 1,
          "arrowwidth": 1,
          "ax": 20,
          "ay": -40,
          "font": {
           "color": "red",
           "size": 10
          },
          "showarrow": true,
          "text": "Anomaly\n131.57k",
          "x": "2024-02-02T00:00:00",
          "y": 131.56666
         },
         {
          "arrowcolor": "red",
          "arrowhead": 1,
          "arrowwidth": 1,
          "ax": 20,
          "ay": -40,
          "font": {
           "color": "red",
           "size": 10
          },
          "showarrow": true,
          "text": "Anomaly\n134.57k",
          "x": "2024-02-02T00:00:00",
          "y": 134.56666
         },
         {
          "arrowcolor": "red",
          "arrowhead": 1,
          "arrowwidth": 1,
          "ax": 20,
          "ay": -40,
          "font": {
           "color": "red",
           "size": 10
          },
          "showarrow": true,
          "text": "Anomaly\n134.87k",
          "x": "2024-02-02T00:00:00",
          "y": 134.86666
         },
         {
          "arrowcolor": "red",
          "arrowhead": 1,
          "arrowwidth": 1,
          "ax": 20,
          "ay": -40,
          "font": {
           "color": "red",
           "size": 10
          },
          "showarrow": true,
          "text": "Anomaly\n90.00k",
          "x": "2024-02-19T00:00:00",
          "y": 90
         },
         {
          "arrowcolor": "red",
          "arrowhead": 1,
          "arrowwidth": 1,
          "ax": 20,
          "ay": -40,
          "font": {
           "color": "red",
           "size": 10
          },
          "showarrow": true,
          "text": "Anomaly\n97.00k",
          "x": "2024-02-23T00:00:00",
          "y": 97
         },
         {
          "arrowcolor": "red",
          "arrowhead": 1,
          "arrowwidth": 1,
          "ax": 20,
          "ay": -40,
          "font": {
           "color": "red",
           "size": 10
          },
          "showarrow": true,
          "text": "Anomaly\n50.01k",
          "x": "2024-02-28T00:00:00",
          "y": 50.012
         }
        ],
        "hovermode": "x unified",
        "showlegend": true,
        "template": {
         "data": {
          "bar": [
           {
            "error_x": {
             "color": "#2a3f5f"
            },
            "error_y": {
             "color": "#2a3f5f"
            },
            "marker": {
             "line": {
              "color": "#E5ECF6",
              "width": 0.5
             },
             "pattern": {
              "fillmode": "overlay",
              "size": 10,
              "solidity": 0.2
             }
            },
            "type": "bar"
           }
          ],
          "barpolar": [
           {
            "marker": {
             "line": {
              "color": "#E5ECF6",
              "width": 0.5
             },
             "pattern": {
              "fillmode": "overlay",
              "size": 10,
              "solidity": 0.2
             }
            },
            "type": "barpolar"
           }
          ],
          "carpet": [
           {
            "aaxis": {
             "endlinecolor": "#2a3f5f",
             "gridcolor": "white",
             "linecolor": "white",
             "minorgridcolor": "white",
             "startlinecolor": "#2a3f5f"
            },
            "baxis": {
             "endlinecolor": "#2a3f5f",
             "gridcolor": "white",
             "linecolor": "white",
             "minorgridcolor": "white",
             "startlinecolor": "#2a3f5f"
            },
            "type": "carpet"
           }
          ],
          "choropleth": [
           {
            "colorbar": {
             "outlinewidth": 0,
             "ticks": ""
            },
            "type": "choropleth"
           }
          ],
          "contour": [
           {
            "colorbar": {
             "outlinewidth": 0,
             "ticks": ""
            },
            "colorscale": [
             [
              0,
              "#0d0887"
             ],
             [
              0.1111111111111111,
              "#46039f"
             ],
             [
              0.2222222222222222,
              "#7201a8"
             ],
             [
              0.3333333333333333,
              "#9c179e"
             ],
             [
              0.4444444444444444,
              "#bd3786"
             ],
             [
              0.5555555555555556,
              "#d8576b"
             ],
             [
              0.6666666666666666,
              "#ed7953"
             ],
             [
              0.7777777777777778,
              "#fb9f3a"
             ],
             [
              0.8888888888888888,
              "#fdca26"
             ],
             [
              1,
              "#f0f921"
             ]
            ],
            "type": "contour"
           }
          ],
          "contourcarpet": [
           {
            "colorbar": {
             "outlinewidth": 0,
             "ticks": ""
            },
            "type": "contourcarpet"
           }
          ],
          "heatmap": [
           {
            "colorbar": {
             "outlinewidth": 0,
             "ticks": ""
            },
            "colorscale": [
             [
              0,
              "#0d0887"
             ],
             [
              0.1111111111111111,
              "#46039f"
             ],
             [
              0.2222222222222222,
              "#7201a8"
             ],
             [
              0.3333333333333333,
              "#9c179e"
             ],
             [
              0.4444444444444444,
              "#bd3786"
             ],
             [
              0.5555555555555556,
              "#d8576b"
             ],
             [
              0.6666666666666666,
              "#ed7953"
             ],
             [
              0.7777777777777778,
              "#fb9f3a"
             ],
             [
              0.8888888888888888,
              "#fdca26"
             ],
             [
              1,
              "#f0f921"
             ]
            ],
            "type": "heatmap"
           }
          ],
          "heatmapgl": [
           {
            "colorbar": {
             "outlinewidth": 0,
             "ticks": ""
            },
            "colorscale": [
             [
              0,
              "#0d0887"
             ],
             [
              0.1111111111111111,
              "#46039f"
             ],
             [
              0.2222222222222222,
              "#7201a8"
             ],
             [
              0.3333333333333333,
              "#9c179e"
             ],
             [
              0.4444444444444444,
              "#bd3786"
             ],
             [
              0.5555555555555556,
              "#d8576b"
             ],
             [
              0.6666666666666666,
              "#ed7953"
             ],
             [
              0.7777777777777778,
              "#fb9f3a"
             ],
             [
              0.8888888888888888,
              "#fdca26"
             ],
             [
              1,
              "#f0f921"
             ]
            ],
            "type": "heatmapgl"
           }
          ],
          "histogram": [
           {
            "marker": {
             "pattern": {
              "fillmode": "overlay",
              "size": 10,
              "solidity": 0.2
             }
            },
            "type": "histogram"
           }
          ],
          "histogram2d": [
           {
            "colorbar": {
             "outlinewidth": 0,
             "ticks": ""
            },
            "colorscale": [
             [
              0,
              "#0d0887"
             ],
             [
              0.1111111111111111,
              "#46039f"
             ],
             [
              0.2222222222222222,
              "#7201a8"
             ],
             [
              0.3333333333333333,
              "#9c179e"
             ],
             [
              0.4444444444444444,
              "#bd3786"
             ],
             [
              0.5555555555555556,
              "#d8576b"
             ],
             [
              0.6666666666666666,
              "#ed7953"
             ],
             [
              0.7777777777777778,
              "#fb9f3a"
             ],
             [
              0.8888888888888888,
              "#fdca26"
             ],
             [
              1,
              "#f0f921"
             ]
            ],
            "type": "histogram2d"
           }
          ],
          "histogram2dcontour": [
           {
            "colorbar": {
             "outlinewidth": 0,
             "ticks": ""
            },
            "colorscale": [
             [
              0,
              "#0d0887"
             ],
             [
              0.1111111111111111,
              "#46039f"
             ],
             [
              0.2222222222222222,
              "#7201a8"
             ],
             [
              0.3333333333333333,
              "#9c179e"
             ],
             [
              0.4444444444444444,
              "#bd3786"
             ],
             [
              0.5555555555555556,
              "#d8576b"
             ],
             [
              0.6666666666666666,
              "#ed7953"
             ],
             [
              0.7777777777777778,
              "#fb9f3a"
             ],
             [
              0.8888888888888888,
              "#fdca26"
             ],
             [
              1,
              "#f0f921"
             ]
            ],
            "type": "histogram2dcontour"
           }
          ],
          "mesh3d": [
           {
            "colorbar": {
             "outlinewidth": 0,
             "ticks": ""
            },
            "type": "mesh3d"
           }
          ],
          "parcoords": [
           {
            "line": {
             "colorbar": {
              "outlinewidth": 0,
              "ticks": ""
             }
            },
            "type": "parcoords"
           }
          ],
          "pie": [
           {
            "automargin": true,
            "type": "pie"
           }
          ],
          "scatter": [
           {
            "fillpattern": {
             "fillmode": "overlay",
             "size": 10,
             "solidity": 0.2
            },
            "type": "scatter"
           }
          ],
          "scatter3d": [
           {
            "line": {
             "colorbar": {
              "outlinewidth": 0,
              "ticks": ""
             }
            },
            "marker": {
             "colorbar": {
              "outlinewidth": 0,
              "ticks": ""
             }
            },
            "type": "scatter3d"
           }
          ],
          "scattercarpet": [
           {
            "marker": {
             "colorbar": {
              "outlinewidth": 0,
              "ticks": ""
             }
            },
            "type": "scattercarpet"
           }
          ],
          "scattergeo": [
           {
            "marker": {
             "colorbar": {
              "outlinewidth": 0,
              "ticks": ""
             }
            },
            "type": "scattergeo"
           }
          ],
          "scattergl": [
           {
            "marker": {
             "colorbar": {
              "outlinewidth": 0,
              "ticks": ""
             }
            },
            "type": "scattergl"
           }
          ],
          "scattermapbox": [
           {
            "marker": {
             "colorbar": {
              "outlinewidth": 0,
              "ticks": ""
             }
            },
            "type": "scattermapbox"
           }
          ],
          "scatterpolar": [
           {
            "marker": {
             "colorbar": {
              "outlinewidth": 0,
              "ticks": ""
             }
            },
            "type": "scatterpolar"
           }
          ],
          "scatterpolargl": [
           {
            "marker": {
             "colorbar": {
              "outlinewidth": 0,
              "ticks": ""
             }
            },
            "type": "scatterpolargl"
           }
          ],
          "scatterternary": [
           {
            "marker": {
             "colorbar": {
              "outlinewidth": 0,
              "ticks": ""
             }
            },
            "type": "scatterternary"
           }
          ],
          "surface": [
           {
            "colorbar": {
             "outlinewidth": 0,
             "ticks": ""
            },
            "colorscale": [
             [
              0,
              "#0d0887"
             ],
             [
              0.1111111111111111,
              "#46039f"
             ],
             [
              0.2222222222222222,
              "#7201a8"
             ],
             [
              0.3333333333333333,
              "#9c179e"
             ],
             [
              0.4444444444444444,
              "#bd3786"
             ],
             [
              0.5555555555555556,
              "#d8576b"
             ],
             [
              0.6666666666666666,
              "#ed7953"
             ],
             [
              0.7777777777777778,
              "#fb9f3a"
             ],
             [
              0.8888888888888888,
              "#fdca26"
             ],
             [
              1,
              "#f0f921"
             ]
            ],
            "type": "surface"
           }
          ],
          "table": [
           {
            "cells": {
             "fill": {
              "color": "#EBF0F8"
             },
             "line": {
              "color": "white"
             }
            },
            "header": {
             "fill": {
              "color": "#C8D4E3"
             },
             "line": {
              "color": "white"
             }
            },
            "type": "table"
           }
          ]
         },
         "layout": {
          "annotationdefaults": {
           "arrowcolor": "#2a3f5f",
           "arrowhead": 0,
           "arrowwidth": 1
          },
          "autotypenumbers": "strict",
          "coloraxis": {
           "colorbar": {
            "outlinewidth": 0,
            "ticks": ""
           }
          },
          "colorscale": {
           "diverging": [
            [
             0,
             "#8e0152"
            ],
            [
             0.1,
             "#c51b7d"
            ],
            [
             0.2,
             "#de77ae"
            ],
            [
             0.3,
             "#f1b6da"
            ],
            [
             0.4,
             "#fde0ef"
            ],
            [
             0.5,
             "#f7f7f7"
            ],
            [
             0.6,
             "#e6f5d0"
            ],
            [
             0.7,
             "#b8e186"
            ],
            [
             0.8,
             "#7fbc41"
            ],
            [
             0.9,
             "#4d9221"
            ],
            [
             1,
             "#276419"
            ]
           ],
           "sequential": [
            [
             0,
             "#0d0887"
            ],
            [
             0.1111111111111111,
             "#46039f"
            ],
            [
             0.2222222222222222,
             "#7201a8"
            ],
            [
             0.3333333333333333,
             "#9c179e"
            ],
            [
             0.4444444444444444,
             "#bd3786"
            ],
            [
             0.5555555555555556,
             "#d8576b"
            ],
            [
             0.6666666666666666,
             "#ed7953"
            ],
            [
             0.7777777777777778,
             "#fb9f3a"
            ],
            [
             0.8888888888888888,
             "#fdca26"
            ],
            [
             1,
             "#f0f921"
            ]
           ],
           "sequentialminus": [
            [
             0,
             "#0d0887"
            ],
            [
             0.1111111111111111,
             "#46039f"
            ],
            [
             0.2222222222222222,
             "#7201a8"
            ],
            [
             0.3333333333333333,
             "#9c179e"
            ],
            [
             0.4444444444444444,
             "#bd3786"
            ],
            [
             0.5555555555555556,
             "#d8576b"
            ],
            [
             0.6666666666666666,
             "#ed7953"
            ],
            [
             0.7777777777777778,
             "#fb9f3a"
            ],
            [
             0.8888888888888888,
             "#fdca26"
            ],
            [
             1,
             "#f0f921"
            ]
           ]
          },
          "colorway": [
           "#636efa",
           "#EF553B",
           "#00cc96",
           "#ab63fa",
           "#FFA15A",
           "#19d3f3",
           "#FF6692",
           "#B6E880",
           "#FF97FF",
           "#FECB52"
          ],
          "font": {
           "color": "#2a3f5f"
          },
          "geo": {
           "bgcolor": "white",
           "lakecolor": "white",
           "landcolor": "#E5ECF6",
           "showlakes": true,
           "showland": true,
           "subunitcolor": "white"
          },
          "hoverlabel": {
           "align": "left"
          },
          "hovermode": "closest",
          "mapbox": {
           "style": "light"
          },
          "paper_bgcolor": "white",
          "plot_bgcolor": "#E5ECF6",
          "polar": {
           "angularaxis": {
            "gridcolor": "white",
            "linecolor": "white",
            "ticks": ""
           },
           "bgcolor": "#E5ECF6",
           "radialaxis": {
            "gridcolor": "white",
            "linecolor": "white",
            "ticks": ""
           }
          },
          "scene": {
           "xaxis": {
            "backgroundcolor": "#E5ECF6",
            "gridcolor": "white",
            "gridwidth": 2,
            "linecolor": "white",
            "showbackground": true,
            "ticks": "",
            "zerolinecolor": "white"
           },
           "yaxis": {
            "backgroundcolor": "#E5ECF6",
            "gridcolor": "white",
            "gridwidth": 2,
            "linecolor": "white",
            "showbackground": true,
            "ticks": "",
            "zerolinecolor": "white"
           },
           "zaxis": {
            "backgroundcolor": "#E5ECF6",
            "gridcolor": "white",
            "gridwidth": 2,
            "linecolor": "white",
            "showbackground": true,
            "ticks": "",
            "zerolinecolor": "white"
           }
          },
          "shapedefaults": {
           "line": {
            "color": "#2a3f5f"
           }
          },
          "ternary": {
           "aaxis": {
            "gridcolor": "white",
            "linecolor": "white",
            "ticks": ""
           },
           "baxis": {
            "gridcolor": "white",
            "linecolor": "white",
            "ticks": ""
           },
           "bgcolor": "#E5ECF6",
           "caxis": {
            "gridcolor": "white",
            "linecolor": "white",
            "ticks": ""
           }
          },
          "title": {
           "x": 0.05
          },
          "xaxis": {
           "automargin": true,
           "gridcolor": "white",
           "linecolor": "white",
           "ticks": "",
           "title": {
            "standoff": 15
           },
           "zerolinecolor": "white",
           "zerolinewidth": 2
          },
          "yaxis": {
           "automargin": true,
           "gridcolor": "white",
           "linecolor": "white",
           "ticks": "",
           "title": {
            "standoff": 15
           },
           "zerolinecolor": "white",
           "zerolinewidth": 2
          }
         }
        },
        "title": {
         "text": "Anomalies Detected Over Time"
        },
        "xaxis": {
         "anchor": "y",
         "domain": [
          0,
          1
         ],
         "range": [
          "2024-02-01T00:00:00",
          "2024-03-05T00:00:00"
         ],
         "title": {
          "text": "Date"
         }
        },
        "yaxis": {
         "anchor": "x",
         "domain": [
          0,
          1
         ],
         "title": {
          "text": "Sum of 5-day withdrawals (in thousands)"
         }
        }
       }
      },
      "text/html": [
       "<div>                            <div id=\"1a9a0ac6-aa59-4d5f-8afd-d2b2bcb5661f\" class=\"plotly-graph-div\" style=\"height:525px; width:100%;\"></div>            <script type=\"text/javascript\">                require([\"plotly\"], function(Plotly) {                    window.PLOTLYENV=window.PLOTLYENV || {};                                    if (document.getElementById(\"1a9a0ac6-aa59-4d5f-8afd-d2b2bcb5661f\")) {                    Plotly.newPlot(                        \"1a9a0ac6-aa59-4d5f-8afd-d2b2bcb5661f\",                        [{\"marker\":{\"color\":\"blue\",\"symbol\":\"circle\"},\"mode\":\"markers\",\"name\":\"Non-Anomalous\",\"x\":[\"2024-02-01T00:00:00\",\"2024-02-01T00:00:00\",\"2024-02-01T00:00:00\",\"2024-02-01T00:00:00\",\"2024-02-01T00:00:00\",\"2024-02-01T00:00:00\",\"2024-02-01T00:00:00\",\"2024-02-02T00:00:00\",\"2024-02-02T00:00:00\",\"2024-02-02T00:00:00\",\"2024-02-02T00:00:00\",\"2024-02-03T00:00:00\",\"2024-02-03T00:00:00\",\"2024-02-03T00:00:00\",\"2024-02-03T00:00:00\",\"2024-02-03T00:00:00\",\"2024-02-03T00:00:00\",\"2024-02-03T00:00:00\",\"2024-02-04T00:00:00\",\"2024-02-04T00:00:00\",\"2024-02-04T00:00:00\",\"2024-02-04T00:00:00\",\"2024-02-04T00:00:00\",\"2024-02-05T00:00:00\",\"2024-02-05T00:00:00\",\"2024-02-05T00:00:00\",\"2024-02-06T00:00:00\",\"2024-02-06T00:00:00\",\"2024-02-07T00:00:00\",\"2024-02-07T00:00:00\",\"2024-02-08T00:00:00\",\"2024-02-08T00:00:00\",\"2024-02-09T00:00:00\",\"2024-02-09T00:00:00\",\"2024-02-10T00:00:00\",\"2024-02-10T00:00:00\",\"2024-02-10T00:00:00\",\"2024-02-10T00:00:00\",\"2024-02-10T00:00:00\",\"2024-02-10T00:00:00\",\"2024-02-10T00:00:00\",\"2024-02-10T00:00:00\",\"2024-02-11T00:00:00\",\"2024-02-11T00:00:00\",\"2024-02-12T00:00:00\",\"2024-02-12T00:00:00\",\"2024-02-13T00:00:00\",\"2024-02-15T00:00:00\",\"2024-02-15T00:00:00\",\"2024-02-15T00:00:00\",\"2024-02-15T00:00:00\",\"2024-02-15T00:00:00\",\"2024-02-16T00:00:00\",\"2024-02-16T00:00:00\",\"2024-02-17T00:00:00\",\"2024-02-17T00:00:00\",\"2024-02-17T00:00:00\",\"2024-02-18T00:00:00\",\"2024-02-18T00:00:00\",\"2024-02-18T00:00:00\",\"2024-02-18T00:00:00\",\"2024-02-20T00:00:00\",\"2024-02-20T00:00:00\",\"2024-02-20T00:00:00\",\"2024-02-21T00:00:00\",\"2024-02-22T00:00:00\",\"2024-02-22T00:00:00\",\"2024-02-23T00:00:00\",\"2024-02-23T00:00:00\",\"2024-02-24T00:00:00\",\"2024-02-24T00:00:00\",\"2024-02-24T00:00:00\",\"2024-02-26T00:00:00\",\"2024-02-26T00:00:00\",\"2024-02-26T00:00:00\",\"2024-02-27T00:00:00\",\"2024-02-27T00:00:00\",\"2024-02-27T00:00:00\",\"2024-02-28T00:00:00\",\"2024-02-28T00:00:00\",\"2024-02-28T00:00:00\",\"2024-02-28T00:00:00\",\"2024-02-29T00:00:00\",\"2024-02-29T00:00:00\",\"2024-02-29T00:00:00\",\"2024-02-29T00:00:00\",\"2024-02-29T00:00:00\",\"2024-02-29T00:00:00\",\"2024-02-29T00:00:00\"],\"y\":[0.066,0.091,0.221,0.247,0.336,0.9295,1.1995,0.033,0.06,0.08,23.08,0.1,0.128,0.153,0.203,0.323,0.59225,0.63225,0.045,0.135,0.16,0.352,0.602,0.01,1.598,4.289,0.51,1.973,0.09,0.34,0.035,0.17,0.04084,0.8958400000000001,10.0015,10.14934,10.16434,10.19434,10.32034,11.21034,11.28034,11.350340000000001,0.05,0.074,0.045,0.09,0.46,0.15,0.21,0.26,0.375,0.895,0.023,0.137,0.12,0.245,0.295,0.06,0.12,0.45,0.86,0.06,1.16,1.27,0.1,0.1,0.799,97.05,97.9,0.15,0.165,0.202,0.1,0.501,0.5724300000000001,0.06,0.355,0.375,0.026,0.926,49.931,49.957,0.149,0.239,0.438,0.548,1.048,2.348,2.4855],\"type\":\"scatter\",\"xaxis\":\"x\",\"yaxis\":\"y\"},{\"marker\":{\"color\":\"red\",\"symbol\":\"x\"},\"mode\":\"markers\",\"name\":\"Anomalous\",\"x\":[\"2024-02-02T00:00:00\",\"2024-02-02T00:00:00\",\"2024-02-02T00:00:00\",\"2024-02-02T00:00:00\",\"2024-02-02T00:00:00\",\"2024-02-02T00:00:00\",\"2024-02-19T00:00:00\",\"2024-02-23T00:00:00\",\"2024-02-28T00:00:00\"],\"y\":[123.08,123.38,123.9,131.56666,134.56666,134.86666,90.0,97.0,50.012],\"type\":\"scatter\",\"xaxis\":\"x\",\"yaxis\":\"y\"}],                        {\"template\":{\"data\":{\"histogram2dcontour\":[{\"type\":\"histogram2dcontour\",\"colorbar\":{\"outlinewidth\":0,\"ticks\":\"\"},\"colorscale\":[[0.0,\"#0d0887\"],[0.1111111111111111,\"#46039f\"],[0.2222222222222222,\"#7201a8\"],[0.3333333333333333,\"#9c179e\"],[0.4444444444444444,\"#bd3786\"],[0.5555555555555556,\"#d8576b\"],[0.6666666666666666,\"#ed7953\"],[0.7777777777777778,\"#fb9f3a\"],[0.8888888888888888,\"#fdca26\"],[1.0,\"#f0f921\"]]}],\"choropleth\":[{\"type\":\"choropleth\",\"colorbar\":{\"outlinewidth\":0,\"ticks\":\"\"}}],\"histogram2d\":[{\"type\":\"histogram2d\",\"colorbar\":{\"outlinewidth\":0,\"ticks\":\"\"},\"colorscale\":[[0.0,\"#0d0887\"],[0.1111111111111111,\"#46039f\"],[0.2222222222222222,\"#7201a8\"],[0.3333333333333333,\"#9c179e\"],[0.4444444444444444,\"#bd3786\"],[0.5555555555555556,\"#d8576b\"],[0.6666666666666666,\"#ed7953\"],[0.7777777777777778,\"#fb9f3a\"],[0.8888888888888888,\"#fdca26\"],[1.0,\"#f0f921\"]]}],\"heatmap\":[{\"type\":\"heatmap\",\"colorbar\":{\"outlinewidth\":0,\"ticks\":\"\"},\"colorscale\":[[0.0,\"#0d0887\"],[0.1111111111111111,\"#46039f\"],[0.2222222222222222,\"#7201a8\"],[0.3333333333333333,\"#9c179e\"],[0.4444444444444444,\"#bd3786\"],[0.5555555555555556,\"#d8576b\"],[0.6666666666666666,\"#ed7953\"],[0.7777777777777778,\"#fb9f3a\"],[0.8888888888888888,\"#fdca26\"],[1.0,\"#f0f921\"]]}],\"heatmapgl\":[{\"type\":\"heatmapgl\",\"colorbar\":{\"outlinewidth\":0,\"ticks\":\"\"},\"colorscale\":[[0.0,\"#0d0887\"],[0.1111111111111111,\"#46039f\"],[0.2222222222222222,\"#7201a8\"],[0.3333333333333333,\"#9c179e\"],[0.4444444444444444,\"#bd3786\"],[0.5555555555555556,\"#d8576b\"],[0.6666666666666666,\"#ed7953\"],[0.7777777777777778,\"#fb9f3a\"],[0.8888888888888888,\"#fdca26\"],[1.0,\"#f0f921\"]]}],\"contourcarpet\":[{\"type\":\"contourcarpet\",\"colorbar\":{\"outlinewidth\":0,\"ticks\":\"\"}}],\"contour\":[{\"type\":\"contour\",\"colorbar\":{\"outlinewidth\":0,\"ticks\":\"\"},\"colorscale\":[[0.0,\"#0d0887\"],[0.1111111111111111,\"#46039f\"],[0.2222222222222222,\"#7201a8\"],[0.3333333333333333,\"#9c179e\"],[0.4444444444444444,\"#bd3786\"],[0.5555555555555556,\"#d8576b\"],[0.6666666666666666,\"#ed7953\"],[0.7777777777777778,\"#fb9f3a\"],[0.8888888888888888,\"#fdca26\"],[1.0,\"#f0f921\"]]}],\"surface\":[{\"type\":\"surface\",\"colorbar\":{\"outlinewidth\":0,\"ticks\":\"\"},\"colorscale\":[[0.0,\"#0d0887\"],[0.1111111111111111,\"#46039f\"],[0.2222222222222222,\"#7201a8\"],[0.3333333333333333,\"#9c179e\"],[0.4444444444444444,\"#bd3786\"],[0.5555555555555556,\"#d8576b\"],[0.6666666666666666,\"#ed7953\"],[0.7777777777777778,\"#fb9f3a\"],[0.8888888888888888,\"#fdca26\"],[1.0,\"#f0f921\"]]}],\"mesh3d\":[{\"type\":\"mesh3d\",\"colorbar\":{\"outlinewidth\":0,\"ticks\":\"\"}}],\"scatter\":[{\"fillpattern\":{\"fillmode\":\"overlay\",\"size\":10,\"solidity\":0.2},\"type\":\"scatter\"}],\"parcoords\":[{\"type\":\"parcoords\",\"line\":{\"colorbar\":{\"outlinewidth\":0,\"ticks\":\"\"}}}],\"scatterpolargl\":[{\"type\":\"scatterpolargl\",\"marker\":{\"colorbar\":{\"outlinewidth\":0,\"ticks\":\"\"}}}],\"bar\":[{\"error_x\":{\"color\":\"#2a3f5f\"},\"error_y\":{\"color\":\"#2a3f5f\"},\"marker\":{\"line\":{\"color\":\"#E5ECF6\",\"width\":0.5},\"pattern\":{\"fillmode\":\"overlay\",\"size\":10,\"solidity\":0.2}},\"type\":\"bar\"}],\"scattergeo\":[{\"type\":\"scattergeo\",\"marker\":{\"colorbar\":{\"outlinewidth\":0,\"ticks\":\"\"}}}],\"scatterpolar\":[{\"type\":\"scatterpolar\",\"marker\":{\"colorbar\":{\"outlinewidth\":0,\"ticks\":\"\"}}}],\"histogram\":[{\"marker\":{\"pattern\":{\"fillmode\":\"overlay\",\"size\":10,\"solidity\":0.2}},\"type\":\"histogram\"}],\"scattergl\":[{\"type\":\"scattergl\",\"marker\":{\"colorbar\":{\"outlinewidth\":0,\"ticks\":\"\"}}}],\"scatter3d\":[{\"type\":\"scatter3d\",\"line\":{\"colorbar\":{\"outlinewidth\":0,\"ticks\":\"\"}},\"marker\":{\"colorbar\":{\"outlinewidth\":0,\"ticks\":\"\"}}}],\"scattermapbox\":[{\"type\":\"scattermapbox\",\"marker\":{\"colorbar\":{\"outlinewidth\":0,\"ticks\":\"\"}}}],\"scatterternary\":[{\"type\":\"scatterternary\",\"marker\":{\"colorbar\":{\"outlinewidth\":0,\"ticks\":\"\"}}}],\"scattercarpet\":[{\"type\":\"scattercarpet\",\"marker\":{\"colorbar\":{\"outlinewidth\":0,\"ticks\":\"\"}}}],\"carpet\":[{\"aaxis\":{\"endlinecolor\":\"#2a3f5f\",\"gridcolor\":\"white\",\"linecolor\":\"white\",\"minorgridcolor\":\"white\",\"startlinecolor\":\"#2a3f5f\"},\"baxis\":{\"endlinecolor\":\"#2a3f5f\",\"gridcolor\":\"white\",\"linecolor\":\"white\",\"minorgridcolor\":\"white\",\"startlinecolor\":\"#2a3f5f\"},\"type\":\"carpet\"}],\"table\":[{\"cells\":{\"fill\":{\"color\":\"#EBF0F8\"},\"line\":{\"color\":\"white\"}},\"header\":{\"fill\":{\"color\":\"#C8D4E3\"},\"line\":{\"color\":\"white\"}},\"type\":\"table\"}],\"barpolar\":[{\"marker\":{\"line\":{\"color\":\"#E5ECF6\",\"width\":0.5},\"pattern\":{\"fillmode\":\"overlay\",\"size\":10,\"solidity\":0.2}},\"type\":\"barpolar\"}],\"pie\":[{\"automargin\":true,\"type\":\"pie\"}]},\"layout\":{\"autotypenumbers\":\"strict\",\"colorway\":[\"#636efa\",\"#EF553B\",\"#00cc96\",\"#ab63fa\",\"#FFA15A\",\"#19d3f3\",\"#FF6692\",\"#B6E880\",\"#FF97FF\",\"#FECB52\"],\"font\":{\"color\":\"#2a3f5f\"},\"hovermode\":\"closest\",\"hoverlabel\":{\"align\":\"left\"},\"paper_bgcolor\":\"white\",\"plot_bgcolor\":\"#E5ECF6\",\"polar\":{\"bgcolor\":\"#E5ECF6\",\"angularaxis\":{\"gridcolor\":\"white\",\"linecolor\":\"white\",\"ticks\":\"\"},\"radialaxis\":{\"gridcolor\":\"white\",\"linecolor\":\"white\",\"ticks\":\"\"}},\"ternary\":{\"bgcolor\":\"#E5ECF6\",\"aaxis\":{\"gridcolor\":\"white\",\"linecolor\":\"white\",\"ticks\":\"\"},\"baxis\":{\"gridcolor\":\"white\",\"linecolor\":\"white\",\"ticks\":\"\"},\"caxis\":{\"gridcolor\":\"white\",\"linecolor\":\"white\",\"ticks\":\"\"}},\"coloraxis\":{\"colorbar\":{\"outlinewidth\":0,\"ticks\":\"\"}},\"colorscale\":{\"sequential\":[[0.0,\"#0d0887\"],[0.1111111111111111,\"#46039f\"],[0.2222222222222222,\"#7201a8\"],[0.3333333333333333,\"#9c179e\"],[0.4444444444444444,\"#bd3786\"],[0.5555555555555556,\"#d8576b\"],[0.6666666666666666,\"#ed7953\"],[0.7777777777777778,\"#fb9f3a\"],[0.8888888888888888,\"#fdca26\"],[1.0,\"#f0f921\"]],\"sequentialminus\":[[0.0,\"#0d0887\"],[0.1111111111111111,\"#46039f\"],[0.2222222222222222,\"#7201a8\"],[0.3333333333333333,\"#9c179e\"],[0.4444444444444444,\"#bd3786\"],[0.5555555555555556,\"#d8576b\"],[0.6666666666666666,\"#ed7953\"],[0.7777777777777778,\"#fb9f3a\"],[0.8888888888888888,\"#fdca26\"],[1.0,\"#f0f921\"]],\"diverging\":[[0,\"#8e0152\"],[0.1,\"#c51b7d\"],[0.2,\"#de77ae\"],[0.3,\"#f1b6da\"],[0.4,\"#fde0ef\"],[0.5,\"#f7f7f7\"],[0.6,\"#e6f5d0\"],[0.7,\"#b8e186\"],[0.8,\"#7fbc41\"],[0.9,\"#4d9221\"],[1,\"#276419\"]]},\"xaxis\":{\"gridcolor\":\"white\",\"linecolor\":\"white\",\"ticks\":\"\",\"title\":{\"standoff\":15},\"zerolinecolor\":\"white\",\"automargin\":true,\"zerolinewidth\":2},\"yaxis\":{\"gridcolor\":\"white\",\"linecolor\":\"white\",\"ticks\":\"\",\"title\":{\"standoff\":15},\"zerolinecolor\":\"white\",\"automargin\":true,\"zerolinewidth\":2},\"scene\":{\"xaxis\":{\"backgroundcolor\":\"#E5ECF6\",\"gridcolor\":\"white\",\"linecolor\":\"white\",\"showbackground\":true,\"ticks\":\"\",\"zerolinecolor\":\"white\",\"gridwidth\":2},\"yaxis\":{\"backgroundcolor\":\"#E5ECF6\",\"gridcolor\":\"white\",\"linecolor\":\"white\",\"showbackground\":true,\"ticks\":\"\",\"zerolinecolor\":\"white\",\"gridwidth\":2},\"zaxis\":{\"backgroundcolor\":\"#E5ECF6\",\"gridcolor\":\"white\",\"linecolor\":\"white\",\"showbackground\":true,\"ticks\":\"\",\"zerolinecolor\":\"white\",\"gridwidth\":2}},\"shapedefaults\":{\"line\":{\"color\":\"#2a3f5f\"}},\"annotationdefaults\":{\"arrowcolor\":\"#2a3f5f\",\"arrowhead\":0,\"arrowwidth\":1},\"geo\":{\"bgcolor\":\"white\",\"landcolor\":\"#E5ECF6\",\"subunitcolor\":\"white\",\"showland\":true,\"showlakes\":true,\"lakecolor\":\"white\"},\"title\":{\"x\":0.05},\"mapbox\":{\"style\":\"light\"}}},\"xaxis\":{\"anchor\":\"y\",\"domain\":[0.0,1.0],\"title\":{\"text\":\"Date\"},\"range\":[\"2024-02-01T00:00:00\",\"2024-03-05T00:00:00\"]},\"yaxis\":{\"anchor\":\"x\",\"domain\":[0.0,1.0],\"title\":{\"text\":\"Sum of 5-day withdrawals (in thousands)\"}},\"title\":{\"text\":\"Anomalies Detected Over Time\"},\"showlegend\":true,\"hovermode\":\"x unified\",\"annotations\":[{\"arrowcolor\":\"red\",\"arrowhead\":1,\"arrowwidth\":1,\"ax\":20,\"ay\":-40,\"font\":{\"color\":\"red\",\"size\":10},\"showarrow\":true,\"text\":\"Anomaly\\n123.08k\",\"x\":\"2024-02-02T00:00:00\",\"y\":123.08},{\"arrowcolor\":\"red\",\"arrowhead\":1,\"arrowwidth\":1,\"ax\":20,\"ay\":-40,\"font\":{\"color\":\"red\",\"size\":10},\"showarrow\":true,\"text\":\"Anomaly\\n123.38k\",\"x\":\"2024-02-02T00:00:00\",\"y\":123.38},{\"arrowcolor\":\"red\",\"arrowhead\":1,\"arrowwidth\":1,\"ax\":20,\"ay\":-40,\"font\":{\"color\":\"red\",\"size\":10},\"showarrow\":true,\"text\":\"Anomaly\\n123.90k\",\"x\":\"2024-02-02T00:00:00\",\"y\":123.9},{\"arrowcolor\":\"red\",\"arrowhead\":1,\"arrowwidth\":1,\"ax\":20,\"ay\":-40,\"font\":{\"color\":\"red\",\"size\":10},\"showarrow\":true,\"text\":\"Anomaly\\n131.57k\",\"x\":\"2024-02-02T00:00:00\",\"y\":131.56666},{\"arrowcolor\":\"red\",\"arrowhead\":1,\"arrowwidth\":1,\"ax\":20,\"ay\":-40,\"font\":{\"color\":\"red\",\"size\":10},\"showarrow\":true,\"text\":\"Anomaly\\n134.57k\",\"x\":\"2024-02-02T00:00:00\",\"y\":134.56666},{\"arrowcolor\":\"red\",\"arrowhead\":1,\"arrowwidth\":1,\"ax\":20,\"ay\":-40,\"font\":{\"color\":\"red\",\"size\":10},\"showarrow\":true,\"text\":\"Anomaly\\n134.87k\",\"x\":\"2024-02-02T00:00:00\",\"y\":134.86666},{\"arrowcolor\":\"red\",\"arrowhead\":1,\"arrowwidth\":1,\"ax\":20,\"ay\":-40,\"font\":{\"color\":\"red\",\"size\":10},\"showarrow\":true,\"text\":\"Anomaly\\n90.00k\",\"x\":\"2024-02-19T00:00:00\",\"y\":90.0},{\"arrowcolor\":\"red\",\"arrowhead\":1,\"arrowwidth\":1,\"ax\":20,\"ay\":-40,\"font\":{\"color\":\"red\",\"size\":10},\"showarrow\":true,\"text\":\"Anomaly\\n97.00k\",\"x\":\"2024-02-23T00:00:00\",\"y\":97.0},{\"arrowcolor\":\"red\",\"arrowhead\":1,\"arrowwidth\":1,\"ax\":20,\"ay\":-40,\"font\":{\"color\":\"red\",\"size\":10},\"showarrow\":true,\"text\":\"Anomaly\\n50.01k\",\"x\":\"2024-02-28T00:00:00\",\"y\":50.012}]},                        {\"responsive\": true}                    ).then(function(){\n",
       "                            \n",
       "var gd = document.getElementById('1a9a0ac6-aa59-4d5f-8afd-d2b2bcb5661f');\n",
       "var x = new MutationObserver(function (mutations, observer) {{\n",
       "        var display = window.getComputedStyle(gd).display;\n",
       "        if (!display || display === 'none') {{\n",
       "            console.log([gd, 'removed!']);\n",
       "            Plotly.purge(gd);\n",
       "            observer.disconnect();\n",
       "        }}\n",
       "}});\n",
       "\n",
       "// Listen for the removal of the full notebook cells\n",
       "var notebookContainer = gd.closest('#notebook-container');\n",
       "if (notebookContainer) {{\n",
       "    x.observe(notebookContainer, {childList: true});\n",
       "}}\n",
       "\n",
       "// Listen for the clearing of the current output cell\n",
       "var outputEl = gd.closest('.output');\n",
       "if (outputEl) {{\n",
       "    x.observe(outputEl, {childList: true});\n",
       "}}\n",
       "\n",
       "                        })                };                });            </script>        </div>"
      ]
     },
     "metadata": {},
     "output_type": "display_data"
    }
   ],
   "source": [
    "visualize_anomalies_with_date(df_results)"
   ]
  },
  {
   "cell_type": "code",
   "execution_count": 399,
   "id": "a38f700a",
   "metadata": {},
   "outputs": [
    {
     "name": "stderr",
     "output_type": "stream",
     "text": [
      "C:\\Users\\yashv\\anaconda3\\Lib\\site-packages\\sklearn\\base.py:486: UserWarning:\n",
      "\n",
      "X has feature names, but IsolationForest was fitted without feature names\n",
      "\n",
      "C:\\Users\\yashv\\anaconda3\\Lib\\site-packages\\sklearn\\base.py:486: UserWarning:\n",
      "\n",
      "X has feature names, but IsolationForest was fitted without feature names\n",
      "\n"
     ]
    }
   ],
   "source": [
    "import joblib\n",
    "\n",
    "# Load the Isolation Forest model from the joblib file\n",
    "loaded_model = joblib.load('clf.joblib')\n",
    "\n",
    "# Assuming you have new data stored in a DataFrame called 'new_data'\n",
    "# Extract the relevant features from the new data\n",
    "X_new = df[['count_5days', 'sum_5days']]\n",
    "\n",
    "# Get the predictions and anomaly scores for the new data\n",
    "y_pred_new = loaded_model.predict(X_new)\n",
    "y_scores_new = loaded_model.decision_function(X_new)\n",
    "\n",
    "# Now you can use y_pred_new and y_scores_new for further analysis or visualization\n",
    "df['y_pred'] = y_pred_new\n",
    "df['y_scores'] = y_scores_new"
   ]
  },
  {
   "cell_type": "code",
   "execution_count": 29,
   "id": "e6e462f8",
   "metadata": {},
   "outputs": [],
   "source": [
    "def predict(df = pd.DataFrame)->pd.DataFrame:\n",
    "    import joblib\n",
    "\n",
    "# Load the Isolation Forest model from the joblib file\n",
    "    loaded_model = joblib.load('clf.joblib')\n",
    "\n",
    "# Assuming you have new data stored in a DataFrame called 'new_data'\n",
    "# Extract the relevant features from the new data\n",
    "    X_new = df[['count_5days', 'sum_5days']]\n",
    "\n",
    "# Get the predictions and anomaly scores for the new data\n",
    "    y_pred_new = loaded_model.predict(X_new)\n",
    "    y_scores_new = loaded_model.decision_function(X_new)\n",
    "\n",
    "# Now you can use y_pred_new and y_scores_new for further analysis or visualization\n",
    "    df['y_pred'] = y_pred_new\n",
    "    df['y_scores'] = y_scores_new\n",
    "    \n",
    "    df_new =df\n",
    "    \n",
    "    return df_new\n",
    "    \n",
    "    "
   ]
  },
  {
   "cell_type": "code",
   "execution_count": 30,
   "id": "944262f8",
   "metadata": {},
   "outputs": [
    {
     "ename": "KeyError",
     "evalue": "\"None of [Index(['count_5days', 'sum_5days'], dtype='object')] are in the [columns]\"",
     "output_type": "error",
     "traceback": [
      "\u001b[1;31m---------------------------------------------------------------------------\u001b[0m",
      "\u001b[1;31mKeyError\u001b[0m                                  Traceback (most recent call last)",
      "Cell \u001b[1;32mIn[30], line 1\u001b[0m\n\u001b[1;32m----> 1\u001b[0m df_new \u001b[38;5;241m=\u001b[39m predict(df)\n",
      "Cell \u001b[1;32mIn[29], line 9\u001b[0m, in \u001b[0;36mpredict\u001b[1;34m(df)\u001b[0m\n\u001b[0;32m      5\u001b[0m     loaded_model \u001b[38;5;241m=\u001b[39m joblib\u001b[38;5;241m.\u001b[39mload(\u001b[38;5;124m'\u001b[39m\u001b[38;5;124mclf.joblib\u001b[39m\u001b[38;5;124m'\u001b[39m)\n\u001b[0;32m      7\u001b[0m \u001b[38;5;66;03m# Assuming you have new data stored in a DataFrame called 'new_data'\u001b[39;00m\n\u001b[0;32m      8\u001b[0m \u001b[38;5;66;03m# Extract the relevant features from the new data\u001b[39;00m\n\u001b[1;32m----> 9\u001b[0m     X_new \u001b[38;5;241m=\u001b[39m df[[\u001b[38;5;124m'\u001b[39m\u001b[38;5;124mcount_5days\u001b[39m\u001b[38;5;124m'\u001b[39m, \u001b[38;5;124m'\u001b[39m\u001b[38;5;124msum_5days\u001b[39m\u001b[38;5;124m'\u001b[39m]]\n\u001b[0;32m     11\u001b[0m \u001b[38;5;66;03m# Get the predictions and anomaly scores for the new data\u001b[39;00m\n\u001b[0;32m     12\u001b[0m     y_pred_new \u001b[38;5;241m=\u001b[39m loaded_model\u001b[38;5;241m.\u001b[39mpredict(X_new)\n",
      "File \u001b[1;32mc:\\Users\\yashv\\anaconda3\\Lib\\site-packages\\pandas\\core\\frame.py:3810\u001b[0m, in \u001b[0;36mDataFrame.__getitem__\u001b[1;34m(self, key)\u001b[0m\n\u001b[0;32m   3808\u001b[0m     \u001b[38;5;28;01mif\u001b[39;00m is_iterator(key):\n\u001b[0;32m   3809\u001b[0m         key \u001b[38;5;241m=\u001b[39m \u001b[38;5;28mlist\u001b[39m(key)\n\u001b[1;32m-> 3810\u001b[0m     indexer \u001b[38;5;241m=\u001b[39m \u001b[38;5;28mself\u001b[39m\u001b[38;5;241m.\u001b[39mcolumns\u001b[38;5;241m.\u001b[39m_get_indexer_strict(key, \u001b[38;5;124m\"\u001b[39m\u001b[38;5;124mcolumns\u001b[39m\u001b[38;5;124m\"\u001b[39m)[\u001b[38;5;241m1\u001b[39m]\n\u001b[0;32m   3812\u001b[0m \u001b[38;5;66;03m# take() does not accept boolean indexers\u001b[39;00m\n\u001b[0;32m   3813\u001b[0m \u001b[38;5;28;01mif\u001b[39;00m \u001b[38;5;28mgetattr\u001b[39m(indexer, \u001b[38;5;124m\"\u001b[39m\u001b[38;5;124mdtype\u001b[39m\u001b[38;5;124m\"\u001b[39m, \u001b[38;5;28;01mNone\u001b[39;00m) \u001b[38;5;241m==\u001b[39m \u001b[38;5;28mbool\u001b[39m:\n",
      "File \u001b[1;32mc:\\Users\\yashv\\anaconda3\\Lib\\site-packages\\pandas\\core\\indexes\\base.py:6111\u001b[0m, in \u001b[0;36mIndex._get_indexer_strict\u001b[1;34m(self, key, axis_name)\u001b[0m\n\u001b[0;32m   6108\u001b[0m \u001b[38;5;28;01melse\u001b[39;00m:\n\u001b[0;32m   6109\u001b[0m     keyarr, indexer, new_indexer \u001b[38;5;241m=\u001b[39m \u001b[38;5;28mself\u001b[39m\u001b[38;5;241m.\u001b[39m_reindex_non_unique(keyarr)\n\u001b[1;32m-> 6111\u001b[0m \u001b[38;5;28mself\u001b[39m\u001b[38;5;241m.\u001b[39m_raise_if_missing(keyarr, indexer, axis_name)\n\u001b[0;32m   6113\u001b[0m keyarr \u001b[38;5;241m=\u001b[39m \u001b[38;5;28mself\u001b[39m\u001b[38;5;241m.\u001b[39mtake(indexer)\n\u001b[0;32m   6114\u001b[0m \u001b[38;5;28;01mif\u001b[39;00m \u001b[38;5;28misinstance\u001b[39m(key, Index):\n\u001b[0;32m   6115\u001b[0m     \u001b[38;5;66;03m# GH 42790 - Preserve name from an Index\u001b[39;00m\n",
      "File \u001b[1;32mc:\\Users\\yashv\\anaconda3\\Lib\\site-packages\\pandas\\core\\indexes\\base.py:6171\u001b[0m, in \u001b[0;36mIndex._raise_if_missing\u001b[1;34m(self, key, indexer, axis_name)\u001b[0m\n\u001b[0;32m   6169\u001b[0m     \u001b[38;5;28;01mif\u001b[39;00m use_interval_msg:\n\u001b[0;32m   6170\u001b[0m         key \u001b[38;5;241m=\u001b[39m \u001b[38;5;28mlist\u001b[39m(key)\n\u001b[1;32m-> 6171\u001b[0m     \u001b[38;5;28;01mraise\u001b[39;00m \u001b[38;5;167;01mKeyError\u001b[39;00m(\u001b[38;5;124mf\u001b[39m\u001b[38;5;124m\"\u001b[39m\u001b[38;5;124mNone of [\u001b[39m\u001b[38;5;132;01m{\u001b[39;00mkey\u001b[38;5;132;01m}\u001b[39;00m\u001b[38;5;124m] are in the [\u001b[39m\u001b[38;5;132;01m{\u001b[39;00maxis_name\u001b[38;5;132;01m}\u001b[39;00m\u001b[38;5;124m]\u001b[39m\u001b[38;5;124m\"\u001b[39m)\n\u001b[0;32m   6173\u001b[0m not_found \u001b[38;5;241m=\u001b[39m \u001b[38;5;28mlist\u001b[39m(ensure_index(key)[missing_mask\u001b[38;5;241m.\u001b[39mnonzero()[\u001b[38;5;241m0\u001b[39m]]\u001b[38;5;241m.\u001b[39munique())\n\u001b[0;32m   6174\u001b[0m \u001b[38;5;28;01mraise\u001b[39;00m \u001b[38;5;167;01mKeyError\u001b[39;00m(\u001b[38;5;124mf\u001b[39m\u001b[38;5;124m\"\u001b[39m\u001b[38;5;132;01m{\u001b[39;00mnot_found\u001b[38;5;132;01m}\u001b[39;00m\u001b[38;5;124m not in index\u001b[39m\u001b[38;5;124m\"\u001b[39m)\n",
      "\u001b[1;31mKeyError\u001b[0m: \"None of [Index(['count_5days', 'sum_5days'], dtype='object')] are in the [columns]\""
     ]
    }
   ],
   "source": [
    "df_new = predict(df)"
   ]
  },
  {
   "cell_type": "code",
   "execution_count": 409,
   "id": "46753e81",
   "metadata": {},
   "outputs": [
    {
     "data": {
      "text/html": [
       "<div>\n",
       "<style scoped>\n",
       "    .dataframe tbody tr th:only-of-type {\n",
       "        vertical-align: middle;\n",
       "    }\n",
       "\n",
       "    .dataframe tbody tr th {\n",
       "        vertical-align: top;\n",
       "    }\n",
       "\n",
       "    .dataframe thead th {\n",
       "        text-align: right;\n",
       "    }\n",
       "</style>\n",
       "<table border=\"1\" class=\"dataframe\">\n",
       "  <thead>\n",
       "    <tr style=\"text-align: right;\">\n",
       "      <th></th>\n",
       "      <th>account_id</th>\n",
       "      <th>amount</th>\n",
       "      <th>type</th>\n",
       "      <th>sum_5days</th>\n",
       "      <th>count_5days</th>\n",
       "      <th>y_pred</th>\n",
       "      <th>y_scores</th>\n",
       "    </tr>\n",
       "    <tr>\n",
       "      <th>date</th>\n",
       "      <th></th>\n",
       "      <th></th>\n",
       "      <th></th>\n",
       "      <th></th>\n",
       "      <th></th>\n",
       "      <th></th>\n",
       "      <th></th>\n",
       "    </tr>\n",
       "  </thead>\n",
       "  <tbody>\n",
       "    <tr>\n",
       "      <th>2024-02-01</th>\n",
       "      <td>4897693162093</td>\n",
       "      <td>66.0</td>\n",
       "      <td>Debit</td>\n",
       "      <td>66.0</td>\n",
       "      <td>1.0</td>\n",
       "      <td>0</td>\n",
       "      <td>-0.342445</td>\n",
       "    </tr>\n",
       "    <tr>\n",
       "      <th>2024-02-01</th>\n",
       "      <td>4897693162093</td>\n",
       "      <td>25.0</td>\n",
       "      <td>Debit</td>\n",
       "      <td>91.0</td>\n",
       "      <td>2.0</td>\n",
       "      <td>0</td>\n",
       "      <td>-0.230481</td>\n",
       "    </tr>\n",
       "    <tr>\n",
       "      <th>2024-02-01</th>\n",
       "      <td>4897693162093</td>\n",
       "      <td>130.0</td>\n",
       "      <td>Debit</td>\n",
       "      <td>221.0</td>\n",
       "      <td>3.0</td>\n",
       "      <td>0</td>\n",
       "      <td>-0.161682</td>\n",
       "    </tr>\n",
       "    <tr>\n",
       "      <th>2024-02-01</th>\n",
       "      <td>4897693162093</td>\n",
       "      <td>26.0</td>\n",
       "      <td>Debit</td>\n",
       "      <td>247.0</td>\n",
       "      <td>4.0</td>\n",
       "      <td>0</td>\n",
       "      <td>-0.089227</td>\n",
       "    </tr>\n",
       "    <tr>\n",
       "      <th>2024-02-01</th>\n",
       "      <td>4897693162093</td>\n",
       "      <td>89.0</td>\n",
       "      <td>Debit</td>\n",
       "      <td>336.0</td>\n",
       "      <td>5.0</td>\n",
       "      <td>0</td>\n",
       "      <td>-0.038234</td>\n",
       "    </tr>\n",
       "    <tr>\n",
       "      <th>...</th>\n",
       "      <td>...</td>\n",
       "      <td>...</td>\n",
       "      <td>...</td>\n",
       "      <td>...</td>\n",
       "      <td>...</td>\n",
       "      <td>...</td>\n",
       "      <td>...</td>\n",
       "    </tr>\n",
       "    <tr>\n",
       "      <th>2024-02-29</th>\n",
       "      <td>4897693162093</td>\n",
       "      <td>199.0</td>\n",
       "      <td>Debit</td>\n",
       "      <td>438.0</td>\n",
       "      <td>3.0</td>\n",
       "      <td>0</td>\n",
       "      <td>-0.165984</td>\n",
       "    </tr>\n",
       "    <tr>\n",
       "      <th>2024-02-29</th>\n",
       "      <td>4897693162093</td>\n",
       "      <td>110.0</td>\n",
       "      <td>Debit</td>\n",
       "      <td>548.0</td>\n",
       "      <td>4.0</td>\n",
       "      <td>0</td>\n",
       "      <td>-0.097363</td>\n",
       "    </tr>\n",
       "    <tr>\n",
       "      <th>2024-02-29</th>\n",
       "      <td>4897693162093</td>\n",
       "      <td>500.0</td>\n",
       "      <td>Debit</td>\n",
       "      <td>1048.0</td>\n",
       "      <td>5.0</td>\n",
       "      <td>0</td>\n",
       "      <td>-0.049576</td>\n",
       "    </tr>\n",
       "    <tr>\n",
       "      <th>2024-02-29</th>\n",
       "      <td>4897693162093</td>\n",
       "      <td>1300.0</td>\n",
       "      <td>Debit</td>\n",
       "      <td>2348.0</td>\n",
       "      <td>6.0</td>\n",
       "      <td>0</td>\n",
       "      <td>-0.039264</td>\n",
       "    </tr>\n",
       "    <tr>\n",
       "      <th>2024-02-29</th>\n",
       "      <td>4897693162093</td>\n",
       "      <td>137.5</td>\n",
       "      <td>Debit</td>\n",
       "      <td>2485.5</td>\n",
       "      <td>7.0</td>\n",
       "      <td>0</td>\n",
       "      <td>-0.040003</td>\n",
       "    </tr>\n",
       "  </tbody>\n",
       "</table>\n",
       "<p>98 rows × 7 columns</p>\n",
       "</div>"
      ],
      "text/plain": [
       "               account_id  amount   type  sum_5days  count_5days  y_pred  \\\n",
       "date                                                                       \n",
       "2024-02-01  4897693162093    66.0  Debit       66.0          1.0       0   \n",
       "2024-02-01  4897693162093    25.0  Debit       91.0          2.0       0   \n",
       "2024-02-01  4897693162093   130.0  Debit      221.0          3.0       0   \n",
       "2024-02-01  4897693162093    26.0  Debit      247.0          4.0       0   \n",
       "2024-02-01  4897693162093    89.0  Debit      336.0          5.0       0   \n",
       "...                   ...     ...    ...        ...          ...     ...   \n",
       "2024-02-29  4897693162093   199.0  Debit      438.0          3.0       0   \n",
       "2024-02-29  4897693162093   110.0  Debit      548.0          4.0       0   \n",
       "2024-02-29  4897693162093   500.0  Debit     1048.0          5.0       0   \n",
       "2024-02-29  4897693162093  1300.0  Debit     2348.0          6.0       0   \n",
       "2024-02-29  4897693162093   137.5  Debit     2485.5          7.0       0   \n",
       "\n",
       "            y_scores  \n",
       "date                  \n",
       "2024-02-01 -0.342445  \n",
       "2024-02-01 -0.230481  \n",
       "2024-02-01 -0.161682  \n",
       "2024-02-01 -0.089227  \n",
       "2024-02-01 -0.038234  \n",
       "...              ...  \n",
       "2024-02-29 -0.165984  \n",
       "2024-02-29 -0.097363  \n",
       "2024-02-29 -0.049576  \n",
       "2024-02-29 -0.039264  \n",
       "2024-02-29 -0.040003  \n",
       "\n",
       "[98 rows x 7 columns]"
      ]
     },
     "execution_count": 409,
     "metadata": {},
     "output_type": "execute_result"
    }
   ],
   "source": [
    "df_new"
   ]
  },
  {
   "cell_type": "code",
   "execution_count": 316,
   "id": "aa731dfa",
   "metadata": {},
   "outputs": [
    {
     "data": {
      "image/png": "[encoded data removed]",
      "text/plain": [
       "<Figure size 640x480 with 1 Axes>"
      ]
     },
     "metadata": {},
     "output_type": "display_data"
    }
   ],
   "source": [
    "from mpl_toolkits.mplot3d import Axes3D\n",
    "\n",
    "def visualize_anomalies_3d(df):\n",
    "    fig = plt.figure()\n",
    "    ax = fig.add_subplot(111, projection='3d')\n",
    "\n",
    "    # Extract data for inliers and outliers\n",
    "    inliers = df[df['y_pred'] == 0]\n",
    "    outliers = df[df['y_pred'] == 1]\n",
    "\n",
    "    # Plot inliers and outliers\n",
    "    ax.scatter(inliers['count_5days'], inliers['amount'], inliers['sum_5days'], c='white', s=20, edgecolor='k', label='Inliers')\n",
    "    ax.scatter(outliers['count_5days'], outliers['amount'], outliers['sum_5days'], c='black', s=20, edgecolor='r', label='Outliers')\n",
    "\n",
    "    # Set labels and title\n",
    "    ax.set_xlabel('5-day count of withdrawal transactions')\n",
    "    ax.set_ylabel('Transaction Amount')\n",
    "    ax.set_zlabel('Sum of 5-day withdrawals')\n",
    "    ax.set_title('Anomalies Detected')\n",
    "\n",
    "    # Show legend\n",
    "    ax.legend()\n",
    "\n",
    "    # Show plot\n",
    "    plt.show()\n",
    "\n",
    "# Call the function to visualize anomalies in 3D\n",
    "visualize_anomalies_3d(df)\n"
   ]
  },
  {
   "cell_type": "code",
   "execution_count": 28,
   "id": "9e8618f6",
   "metadata": {},
   "outputs": [
    {
     "ename": "KeyError",
     "evalue": "'y_pred'",
     "output_type": "error",
     "traceback": [
      "\u001b[1;31m---------------------------------------------------------------------------\u001b[0m",
      "\u001b[1;31mKeyError\u001b[0m                                  Traceback (most recent call last)",
      "File \u001b[1;32mc:\\Users\\yashv\\anaconda3\\Lib\\site-packages\\pandas\\core\\indexes\\base.py:3803\u001b[0m, in \u001b[0;36mIndex.get_loc\u001b[1;34m(self, key, method, tolerance)\u001b[0m\n\u001b[0;32m   3802\u001b[0m \u001b[38;5;28;01mtry\u001b[39;00m:\n\u001b[1;32m-> 3803\u001b[0m     \u001b[38;5;28;01mreturn\u001b[39;00m \u001b[38;5;28mself\u001b[39m\u001b[38;5;241m.\u001b[39m_engine\u001b[38;5;241m.\u001b[39mget_loc(casted_key)\n\u001b[0;32m   3804\u001b[0m \u001b[38;5;28;01mexcept\u001b[39;00m \u001b[38;5;167;01mKeyError\u001b[39;00m \u001b[38;5;28;01mas\u001b[39;00m err:\n",
      "File \u001b[1;32mc:\\Users\\yashv\\anaconda3\\Lib\\site-packages\\pandas\\_libs\\index.pyx:138\u001b[0m, in \u001b[0;36mpandas._libs.index.IndexEngine.get_loc\u001b[1;34m()\u001b[0m\n",
      "File \u001b[1;32mc:\\Users\\yashv\\anaconda3\\Lib\\site-packages\\pandas\\_libs\\index.pyx:165\u001b[0m, in \u001b[0;36mpandas._libs.index.IndexEngine.get_loc\u001b[1;34m()\u001b[0m\n",
      "File \u001b[1;32mpandas\\_libs\\hashtable_class_helper.pxi:5745\u001b[0m, in \u001b[0;36mpandas._libs.hashtable.PyObjectHashTable.get_item\u001b[1;34m()\u001b[0m\n",
      "File \u001b[1;32mpandas\\_libs\\hashtable_class_helper.pxi:5753\u001b[0m, in \u001b[0;36mpandas._libs.hashtable.PyObjectHashTable.get_item\u001b[1;34m()\u001b[0m\n",
      "\u001b[1;31mKeyError\u001b[0m: 'y_pred'",
      "\nThe above exception was the direct cause of the following exception:\n",
      "\u001b[1;31mKeyError\u001b[0m                                  Traceback (most recent call last)",
      "Cell \u001b[1;32mIn[28], line 50\u001b[0m\n\u001b[0;32m     47\u001b[0m     fig\u001b[38;5;241m.\u001b[39mshow()\n\u001b[0;32m     49\u001b[0m \u001b[38;5;66;03m# Call the function to visualize anomalies with dates\u001b[39;00m\n\u001b[1;32m---> 50\u001b[0m visualize_anomalies_with_date(df)\n",
      "Cell \u001b[1;32mIn[28], line 9\u001b[0m, in \u001b[0;36mvisualize_anomalies_with_date\u001b[1;34m(df)\u001b[0m\n\u001b[0;32m      6\u001b[0m fig \u001b[38;5;241m=\u001b[39m make_subplots(rows\u001b[38;5;241m=\u001b[39m\u001b[38;5;241m1\u001b[39m, cols\u001b[38;5;241m=\u001b[39m\u001b[38;5;241m1\u001b[39m)\n\u001b[0;32m      8\u001b[0m \u001b[38;5;66;03m# Plot non-anomalous data\u001b[39;00m\n\u001b[1;32m----> 9\u001b[0m fig\u001b[38;5;241m.\u001b[39madd_trace(go\u001b[38;5;241m.\u001b[39mScatter(x\u001b[38;5;241m=\u001b[39mdf[df[\u001b[38;5;124m'\u001b[39m\u001b[38;5;124my_pred\u001b[39m\u001b[38;5;124m'\u001b[39m] \u001b[38;5;241m==\u001b[39m \u001b[38;5;241m0\u001b[39m]\u001b[38;5;241m.\u001b[39mindex, \n\u001b[0;32m     10\u001b[0m                          y\u001b[38;5;241m=\u001b[39mdf[df[\u001b[38;5;124m'\u001b[39m\u001b[38;5;124my_pred\u001b[39m\u001b[38;5;124m'\u001b[39m] \u001b[38;5;241m==\u001b[39m \u001b[38;5;241m0\u001b[39m][\u001b[38;5;124m'\u001b[39m\u001b[38;5;124msum_5days\u001b[39m\u001b[38;5;124m'\u001b[39m] \u001b[38;5;241m/\u001b[39m \u001b[38;5;241m1000\u001b[39m, \n\u001b[0;32m     11\u001b[0m                          mode\u001b[38;5;241m=\u001b[39m\u001b[38;5;124m'\u001b[39m\u001b[38;5;124mmarkers\u001b[39m\u001b[38;5;124m'\u001b[39m, \n\u001b[0;32m     12\u001b[0m                          marker\u001b[38;5;241m=\u001b[39m\u001b[38;5;28mdict\u001b[39m(color\u001b[38;5;241m=\u001b[39m\u001b[38;5;124m'\u001b[39m\u001b[38;5;124mblue\u001b[39m\u001b[38;5;124m'\u001b[39m, symbol\u001b[38;5;241m=\u001b[39m\u001b[38;5;124m'\u001b[39m\u001b[38;5;124mcircle\u001b[39m\u001b[38;5;124m'\u001b[39m),\n\u001b[0;32m     13\u001b[0m                          name\u001b[38;5;241m=\u001b[39m\u001b[38;5;124m'\u001b[39m\u001b[38;5;124mNon-Anomalous\u001b[39m\u001b[38;5;124m'\u001b[39m), \n\u001b[0;32m     14\u001b[0m               row\u001b[38;5;241m=\u001b[39m\u001b[38;5;241m1\u001b[39m, col\u001b[38;5;241m=\u001b[39m\u001b[38;5;241m1\u001b[39m)\n\u001b[0;32m     16\u001b[0m \u001b[38;5;66;03m# Highlight anomalous data\u001b[39;00m\n\u001b[0;32m     17\u001b[0m fig\u001b[38;5;241m.\u001b[39madd_trace(go\u001b[38;5;241m.\u001b[39mScatter(x\u001b[38;5;241m=\u001b[39mdf[df[\u001b[38;5;124m'\u001b[39m\u001b[38;5;124my_pred\u001b[39m\u001b[38;5;124m'\u001b[39m] \u001b[38;5;241m==\u001b[39m \u001b[38;5;241m1\u001b[39m]\u001b[38;5;241m.\u001b[39mindex, \n\u001b[0;32m     18\u001b[0m                          y\u001b[38;5;241m=\u001b[39mdf[df[\u001b[38;5;124m'\u001b[39m\u001b[38;5;124my_pred\u001b[39m\u001b[38;5;124m'\u001b[39m] \u001b[38;5;241m==\u001b[39m \u001b[38;5;241m1\u001b[39m][\u001b[38;5;124m'\u001b[39m\u001b[38;5;124msum_5days\u001b[39m\u001b[38;5;124m'\u001b[39m] \u001b[38;5;241m/\u001b[39m \u001b[38;5;241m1000\u001b[39m, \n\u001b[0;32m     19\u001b[0m                          mode\u001b[38;5;241m=\u001b[39m\u001b[38;5;124m'\u001b[39m\u001b[38;5;124mmarkers\u001b[39m\u001b[38;5;124m'\u001b[39m, \n\u001b[0;32m     20\u001b[0m                          marker\u001b[38;5;241m=\u001b[39m\u001b[38;5;28mdict\u001b[39m(color\u001b[38;5;241m=\u001b[39m\u001b[38;5;124m'\u001b[39m\u001b[38;5;124mred\u001b[39m\u001b[38;5;124m'\u001b[39m, symbol\u001b[38;5;241m=\u001b[39m\u001b[38;5;124m'\u001b[39m\u001b[38;5;124mx\u001b[39m\u001b[38;5;124m'\u001b[39m),\n\u001b[0;32m     21\u001b[0m                          name\u001b[38;5;241m=\u001b[39m\u001b[38;5;124m'\u001b[39m\u001b[38;5;124mAnomalous\u001b[39m\u001b[38;5;124m'\u001b[39m), \n\u001b[0;32m     22\u001b[0m               row\u001b[38;5;241m=\u001b[39m\u001b[38;5;241m1\u001b[39m, col\u001b[38;5;241m=\u001b[39m\u001b[38;5;241m1\u001b[39m)\n",
      "File \u001b[1;32mc:\\Users\\yashv\\anaconda3\\Lib\\site-packages\\pandas\\core\\frame.py:3804\u001b[0m, in \u001b[0;36mDataFrame.__getitem__\u001b[1;34m(self, key)\u001b[0m\n\u001b[0;32m   3802\u001b[0m \u001b[38;5;28;01mif\u001b[39;00m \u001b[38;5;28mself\u001b[39m\u001b[38;5;241m.\u001b[39mcolumns\u001b[38;5;241m.\u001b[39mnlevels \u001b[38;5;241m>\u001b[39m \u001b[38;5;241m1\u001b[39m:\n\u001b[0;32m   3803\u001b[0m     \u001b[38;5;28;01mreturn\u001b[39;00m \u001b[38;5;28mself\u001b[39m\u001b[38;5;241m.\u001b[39m_getitem_multilevel(key)\n\u001b[1;32m-> 3804\u001b[0m indexer \u001b[38;5;241m=\u001b[39m \u001b[38;5;28mself\u001b[39m\u001b[38;5;241m.\u001b[39mcolumns\u001b[38;5;241m.\u001b[39mget_loc(key)\n\u001b[0;32m   3805\u001b[0m \u001b[38;5;28;01mif\u001b[39;00m is_integer(indexer):\n\u001b[0;32m   3806\u001b[0m     indexer \u001b[38;5;241m=\u001b[39m [indexer]\n",
      "File \u001b[1;32mc:\\Users\\yashv\\anaconda3\\Lib\\site-packages\\pandas\\core\\indexes\\base.py:3805\u001b[0m, in \u001b[0;36mIndex.get_loc\u001b[1;34m(self, key, method, tolerance)\u001b[0m\n\u001b[0;32m   3803\u001b[0m     \u001b[38;5;28;01mreturn\u001b[39;00m \u001b[38;5;28mself\u001b[39m\u001b[38;5;241m.\u001b[39m_engine\u001b[38;5;241m.\u001b[39mget_loc(casted_key)\n\u001b[0;32m   3804\u001b[0m \u001b[38;5;28;01mexcept\u001b[39;00m \u001b[38;5;167;01mKeyError\u001b[39;00m \u001b[38;5;28;01mas\u001b[39;00m err:\n\u001b[1;32m-> 3805\u001b[0m     \u001b[38;5;28;01mraise\u001b[39;00m \u001b[38;5;167;01mKeyError\u001b[39;00m(key) \u001b[38;5;28;01mfrom\u001b[39;00m \u001b[38;5;21;01merr\u001b[39;00m\n\u001b[0;32m   3806\u001b[0m \u001b[38;5;28;01mexcept\u001b[39;00m \u001b[38;5;167;01mTypeError\u001b[39;00m:\n\u001b[0;32m   3807\u001b[0m     \u001b[38;5;66;03m# If we have a listlike key, _check_indexing_error will raise\u001b[39;00m\n\u001b[0;32m   3808\u001b[0m     \u001b[38;5;66;03m#  InvalidIndexError. Otherwise we fall through and re-raise\u001b[39;00m\n\u001b[0;32m   3809\u001b[0m     \u001b[38;5;66;03m#  the TypeError.\u001b[39;00m\n\u001b[0;32m   3810\u001b[0m     \u001b[38;5;28mself\u001b[39m\u001b[38;5;241m.\u001b[39m_check_indexing_error(key)\n",
      "\u001b[1;31mKeyError\u001b[0m: 'y_pred'"
     ]
    }
   ],
   "source": [
    "import plotly.graph_objects as go\n",
    "from plotly.subplots import make_subplots\n",
    "\n",
    "def visualize_anomalies_with_date(df):\n",
    "    # Create a subplot with Plotly\n",
    "    fig = make_subplots(rows=1, cols=1)\n",
    "\n",
    "    # Plot non-anomalous data\n",
    "    fig.add_trace(go.Scatter(x=df[df['y_pred'] == 0].index, \n",
    "                             y=df[df['y_pred'] == 0]['sum_5days'] / 1000, \n",
    "                             mode='markers', \n",
    "                             marker=dict(color='blue', symbol='circle'),\n",
    "                             name='Non-Anomalous'), \n",
    "                  row=1, col=1)\n",
    "\n",
    "    # Highlight anomalous data\n",
    "    fig.add_trace(go.Scatter(x=df[df['y_pred'] == 1].index, \n",
    "                             y=df[df['y_pred'] == 1]['sum_5days'] / 1000, \n",
    "                             mode='markers', \n",
    "                             marker=dict(color='red', symbol='x'),\n",
    "                             name='Anomalous'), \n",
    "                  row=1, col=1)\n",
    "\n",
    "    # Set layout options\n",
    "    fig.update_layout(title='Anomalies Detected Over Time',\n",
    "                      xaxis_title='Date',\n",
    "                      yaxis_title='Sum of 5-day withdrawals (in thousands)',\n",
    "                      showlegend=True,\n",
    "                      hovermode='x unified',\n",
    "                      xaxis=dict(\n",
    "                          range=[df.index.min(), df.index.max() + pd.DateOffset(days=5)]  # Stretching x-axis by 5 days\n",
    "                      ))\n",
    "\n",
    "    # Annotate anomalies with their exact values\n",
    "    for index, row in df[df['y_pred'] == 1].iterrows():\n",
    "        fig.add_annotation(x=index, y=row['sum_5days'] / 1000,\n",
    "                           text=f\"Anomaly\\n{row['sum_5days'] / 1000:.2f}k\",\n",
    "                           showarrow=True,\n",
    "                           arrowhead=1,\n",
    "                           arrowcolor='red',\n",
    "                           arrowwidth=1,\n",
    "                           ax=20,\n",
    "                           ay=-40,\n",
    "                           font=dict(size=10, color='red'))\n",
    "\n",
    "    # Show plot\n",
    "    fig.show()\n",
    "\n",
    "# Call the function to visualize anomalies with dates\n",
    "visualize_anomalies_with_date(df)\n"
   ]
  },
  {
   "cell_type": "code",
   "execution_count": 441,
   "id": "971b5713",
   "metadata": {},
   "outputs": [
    {
     "data": {
      "application/vnd.plotly.v1+json": {
       "config": {
        "plotlyServerURL": "https://plot.ly"
       },
       "data": [
        {
         "marker": {
          "color": "white",
          "line": {
           "color": "black",
           "width": 0.5
          },
          "size": 5
         },
         "mode": "markers",
         "name": "Inliers",
         "type": "scatter3d",
         "x": [
          1,
          2,
          3,
          4,
          5,
          6,
          7,
          1,
          2,
          3,
          4,
          1,
          2,
          3,
          4,
          5,
          6,
          7,
          1,
          2,
          3,
          4,
          5,
          1,
          2,
          3,
          1,
          2,
          1,
          2,
          1,
          2,
          1,
          2,
          1,
          2,
          3,
          4,
          5,
          6,
          7,
          8,
          1,
          2,
          1,
          2,
          1,
          1,
          2,
          3,
          4,
          5,
          1,
          2,
          1,
          2,
          3,
          1,
          2,
          3,
          4,
          1,
          2,
          3,
          1,
          1,
          2,
          2,
          3,
          1,
          2,
          3,
          1,
          2,
          3,
          1,
          2,
          3,
          1,
          2,
          3,
          4,
          1,
          2,
          3,
          4,
          5,
          6,
          7
         ],
         "y": [
          66,
          25,
          130,
          26,
          89,
          593.5,
          270,
          33,
          27,
          20,
          23000,
          100,
          28,
          25,
          50,
          120,
          269.25,
          40,
          45,
          90,
          25,
          192,
          250,
          10,
          1588,
          2691,
          510,
          1463,
          90,
          250,
          35,
          135,
          40.84,
          855,
          10001.5,
          147.84,
          15,
          30,
          126,
          890,
          70,
          70,
          50,
          24,
          45,
          45,
          460,
          150,
          60,
          50,
          115,
          520,
          23,
          114,
          120,
          125,
          50,
          60,
          60,
          330,
          410,
          60,
          1100,
          110,
          100,
          100,
          699,
          50,
          850,
          150,
          15,
          37,
          100,
          401,
          71.43,
          60,
          295,
          20,
          26,
          900,
          49005,
          26,
          149,
          90,
          199,
          110,
          500,
          1300,
          137.5
         ],
         "z": [
          66,
          91,
          221,
          247,
          336,
          929.5,
          1199.5,
          33,
          60,
          80,
          23080,
          100,
          128,
          153,
          203,
          323,
          592.25,
          632.25,
          45,
          135,
          160,
          352,
          602,
          10,
          1598,
          4289,
          510,
          1973,
          90,
          340,
          35,
          170,
          40.84,
          895.84,
          10001.5,
          10149.34,
          10164.34,
          10194.34,
          10320.34,
          11210.34,
          11280.34,
          11350.34,
          50,
          74,
          45,
          90,
          460,
          150,
          210,
          260,
          375,
          895,
          23,
          137,
          120,
          245,
          295,
          60,
          120,
          450,
          860,
          60,
          1160,
          1270,
          100,
          100,
          799,
          97050,
          97900,
          150,
          165,
          202,
          100,
          501,
          572.4300000000001,
          60,
          355,
          375,
          26,
          926,
          49931,
          49957,
          149,
          239,
          438,
          548,
          1048,
          2348,
          2485.5
         ]
        },
        {
         "marker": {
          "color": "black",
          "line": {
           "color": "red",
           "width": 0.5
          },
          "size": 5
         },
         "mode": "markers",
         "name": "Outliers",
         "type": "scatter3d",
         "x": [
          5,
          6,
          7,
          8,
          9,
          10,
          1,
          1,
          5
         ],
         "y": [
          100000,
          300,
          520,
          7666.66,
          3000,
          300,
          90000,
          97000,
          55
         ],
         "z": [
          123080,
          123380,
          123900,
          131566.66,
          134566.66,
          134866.66,
          90000,
          97000,
          50012
         ]
        }
       ],
       "layout": {
        "scene": {
         "aspectmode": "cube",
         "xaxis": {
          "title": {
           "text": "5-day count of withdrawal transactions"
          }
         },
         "yaxis": {
          "title": {
           "text": "Transaction Amount"
          }
         },
         "zaxis": {
          "title": {
           "text": "Sum of 5-day withdrawals"
          }
         }
        },
        "template": {
         "data": {
          "bar": [
           {
            "error_x": {
             "color": "#2a3f5f"
            },
            "error_y": {
             "color": "#2a3f5f"
            },
            "marker": {
             "line": {
              "color": "#E5ECF6",
              "width": 0.5
             },
             "pattern": {
              "fillmode": "overlay",
              "size": 10,
              "solidity": 0.2
             }
            },
            "type": "bar"
           }
          ],
          "barpolar": [
           {
            "marker": {
             "line": {
              "color": "#E5ECF6",
              "width": 0.5
             },
             "pattern": {
              "fillmode": "overlay",
              "size": 10,
              "solidity": 0.2
             }
            },
            "type": "barpolar"
           }
          ],
          "carpet": [
           {
            "aaxis": {
             "endlinecolor": "#2a3f5f",
             "gridcolor": "white",
             "linecolor": "white",
             "minorgridcolor": "white",
             "startlinecolor": "#2a3f5f"
            },
            "baxis": {
             "endlinecolor": "#2a3f5f",
             "gridcolor": "white",
             "linecolor": "white",
             "minorgridcolor": "white",
             "startlinecolor": "#2a3f5f"
            },
            "type": "carpet"
           }
          ],
          "choropleth": [
           {
            "colorbar": {
             "outlinewidth": 0,
             "ticks": ""
            },
            "type": "choropleth"
           }
          ],
          "contour": [
           {
            "colorbar": {
             "outlinewidth": 0,
             "ticks": ""
            },
            "colorscale": [
             [
              0,
              "#0d0887"
             ],
             [
              0.1111111111111111,
              "#46039f"
             ],
             [
              0.2222222222222222,
              "#7201a8"
             ],
             [
              0.3333333333333333,
              "#9c179e"
             ],
             [
              0.4444444444444444,
              "#bd3786"
             ],
             [
              0.5555555555555556,
              "#d8576b"
             ],
             [
              0.6666666666666666,
              "#ed7953"
             ],
             [
              0.7777777777777778,
              "#fb9f3a"
             ],
             [
              0.8888888888888888,
              "#fdca26"
             ],
             [
              1,
              "#f0f921"
             ]
            ],
            "type": "contour"
           }
          ],
          "contourcarpet": [
           {
            "colorbar": {
             "outlinewidth": 0,
             "ticks": ""
            },
            "type": "contourcarpet"
           }
          ],
          "heatmap": [
           {
            "colorbar": {
             "outlinewidth": 0,
             "ticks": ""
            },
            "colorscale": [
             [
              0,
              "#0d0887"
             ],
             [
              0.1111111111111111,
              "#46039f"
             ],
             [
              0.2222222222222222,
              "#7201a8"
             ],
             [
              0.3333333333333333,
              "#9c179e"
             ],
             [
              0.4444444444444444,
              "#bd3786"
             ],
             [
              0.5555555555555556,
              "#d8576b"
             ],
             [
              0.6666666666666666,
              "#ed7953"
             ],
             [
              0.7777777777777778,
              "#fb9f3a"
             ],
             [
              0.8888888888888888,
              "#fdca26"
             ],
             [
              1,
              "#f0f921"
             ]
            ],
            "type": "heatmap"
           }
          ],
          "heatmapgl": [
           {
            "colorbar": {
             "outlinewidth": 0,
             "ticks": ""
            },
            "colorscale": [
             [
              0,
              "#0d0887"
             ],
             [
              0.1111111111111111,
              "#46039f"
             ],
             [
              0.2222222222222222,
              "#7201a8"
             ],
             [
              0.3333333333333333,
              "#9c179e"
             ],
             [
              0.4444444444444444,
              "#bd3786"
             ],
             [
              0.5555555555555556,
              "#d8576b"
             ],
             [
              0.6666666666666666,
              "#ed7953"
             ],
             [
              0.7777777777777778,
              "#fb9f3a"
             ],
             [
              0.8888888888888888,
              "#fdca26"
             ],
             [
              1,
              "#f0f921"
             ]
            ],
            "type": "heatmapgl"
           }
          ],
          "histogram": [
           {
            "marker": {
             "pattern": {
              "fillmode": "overlay",
              "size": 10,
              "solidity": 0.2
             }
            },
            "type": "histogram"
           }
          ],
          "histogram2d": [
           {
            "colorbar": {
             "outlinewidth": 0,
             "ticks": ""
            },
            "colorscale": [
             [
              0,
              "#0d0887"
             ],
             [
              0.1111111111111111,
              "#46039f"
             ],
             [
              0.2222222222222222,
              "#7201a8"
             ],
             [
              0.3333333333333333,
              "#9c179e"
             ],
             [
              0.4444444444444444,
              "#bd3786"
             ],
             [
              0.5555555555555556,
              "#d8576b"
             ],
             [
              0.6666666666666666,
              "#ed7953"
             ],
             [
              0.7777777777777778,
              "#fb9f3a"
             ],
             [
              0.8888888888888888,
              "#fdca26"
             ],
             [
              1,
              "#f0f921"
             ]
            ],
            "type": "histogram2d"
           }
          ],
          "histogram2dcontour": [
           {
            "colorbar": {
             "outlinewidth": 0,
             "ticks": ""
            },
            "colorscale": [
             [
              0,
              "#0d0887"
             ],
             [
              0.1111111111111111,
              "#46039f"
             ],
             [
              0.2222222222222222,
              "#7201a8"
             ],
             [
              0.3333333333333333,
              "#9c179e"
             ],
             [
              0.4444444444444444,
              "#bd3786"
             ],
             [
              0.5555555555555556,
              "#d8576b"
             ],
             [
              0.6666666666666666,
              "#ed7953"
             ],
             [
              0.7777777777777778,
              "#fb9f3a"
             ],
             [
              0.8888888888888888,
              "#fdca26"
             ],
             [
              1,
              "#f0f921"
             ]
            ],
            "type": "histogram2dcontour"
           }
          ],
          "mesh3d": [
           {
            "colorbar": {
             "outlinewidth": 0,
             "ticks": ""
            },
            "type": "mesh3d"
           }
          ],
          "parcoords": [
           {
            "line": {
             "colorbar": {
              "outlinewidth": 0,
              "ticks": ""
             }
            },
            "type": "parcoords"
           }
          ],
          "pie": [
           {
            "automargin": true,
            "type": "pie"
           }
          ],
          "scatter": [
           {
            "fillpattern": {
             "fillmode": "overlay",
             "size": 10,
             "solidity": 0.2
            },
            "type": "scatter"
           }
          ],
          "scatter3d": [
           {
            "line": {
             "colorbar": {
              "outlinewidth": 0,
              "ticks": ""
             }
            },
            "marker": {
             "colorbar": {
              "outlinewidth": 0,
              "ticks": ""
             }
            },
            "type": "scatter3d"
           }
          ],
          "scattercarpet": [
           {
            "marker": {
             "colorbar": {
              "outlinewidth": 0,
              "ticks": ""
             }
            },
            "type": "scattercarpet"
           }
          ],
          "scattergeo": [
           {
            "marker": {
             "colorbar": {
              "outlinewidth": 0,
              "ticks": ""
             }
            },
            "type": "scattergeo"
           }
          ],
          "scattergl": [
           {
            "marker": {
             "colorbar": {
              "outlinewidth": 0,
              "ticks": ""
             }
            },
            "type": "scattergl"
           }
          ],
          "scattermapbox": [
           {
            "marker": {
             "colorbar": {
              "outlinewidth": 0,
              "ticks": ""
             }
            },
            "type": "scattermapbox"
           }
          ],
          "scatterpolar": [
           {
            "marker": {
             "colorbar": {
              "outlinewidth": 0,
              "ticks": ""
             }
            },
            "type": "scatterpolar"
           }
          ],
          "scatterpolargl": [
           {
            "marker": {
             "colorbar": {
              "outlinewidth": 0,
              "ticks": ""
             }
            },
            "type": "scatterpolargl"
           }
          ],
          "scatterternary": [
           {
            "marker": {
             "colorbar": {
              "outlinewidth": 0,
              "ticks": ""
             }
            },
            "type": "scatterternary"
           }
          ],
          "surface": [
           {
            "colorbar": {
             "outlinewidth": 0,
             "ticks": ""
            },
            "colorscale": [
             [
              0,
              "#0d0887"
             ],
             [
              0.1111111111111111,
              "#46039f"
             ],
             [
              0.2222222222222222,
              "#7201a8"
             ],
             [
              0.3333333333333333,
              "#9c179e"
             ],
             [
              0.4444444444444444,
              "#bd3786"
             ],
             [
              0.5555555555555556,
              "#d8576b"
             ],
             [
              0.6666666666666666,
              "#ed7953"
             ],
             [
              0.7777777777777778,
              "#fb9f3a"
             ],
             [
              0.8888888888888888,
              "#fdca26"
             ],
             [
              1,
              "#f0f921"
             ]
            ],
            "type": "surface"
           }
          ],
          "table": [
           {
            "cells": {
             "fill": {
              "color": "#EBF0F8"
             },
             "line": {
              "color": "white"
             }
            },
            "header": {
             "fill": {
              "color": "#C8D4E3"
             },
             "line": {
              "color": "white"
             }
            },
            "type": "table"
           }
          ]
         },
         "layout": {
          "annotationdefaults": {
           "arrowcolor": "#2a3f5f",
           "arrowhead": 0,
           "arrowwidth": 1
          },
          "autotypenumbers": "strict",
          "coloraxis": {
           "colorbar": {
            "outlinewidth": 0,
            "ticks": ""
           }
          },
          "colorscale": {
           "diverging": [
            [
             0,
             "#8e0152"
            ],
            [
             0.1,
             "#c51b7d"
            ],
            [
             0.2,
             "#de77ae"
            ],
            [
             0.3,
             "#f1b6da"
            ],
            [
             0.4,
             "#fde0ef"
            ],
            [
             0.5,
             "#f7f7f7"
            ],
            [
             0.6,
             "#e6f5d0"
            ],
            [
             0.7,
             "#b8e186"
            ],
            [
             0.8,
             "#7fbc41"
            ],
            [
             0.9,
             "#4d9221"
            ],
            [
             1,
             "#276419"
            ]
           ],
           "sequential": [
            [
             0,
             "#0d0887"
            ],
            [
             0.1111111111111111,
             "#46039f"
            ],
            [
             0.2222222222222222,
             "#7201a8"
            ],
            [
             0.3333333333333333,
             "#9c179e"
            ],
            [
             0.4444444444444444,
             "#bd3786"
            ],
            [
             0.5555555555555556,
             "#d8576b"
            ],
            [
             0.6666666666666666,
             "#ed7953"
            ],
            [
             0.7777777777777778,
             "#fb9f3a"
            ],
            [
             0.8888888888888888,
             "#fdca26"
            ],
            [
             1,
             "#f0f921"
            ]
           ],
           "sequentialminus": [
            [
             0,
             "#0d0887"
            ],
            [
             0.1111111111111111,
             "#46039f"
            ],
            [
             0.2222222222222222,
             "#7201a8"
            ],
            [
             0.3333333333333333,
             "#9c179e"
            ],
            [
             0.4444444444444444,
             "#bd3786"
            ],
            [
             0.5555555555555556,
             "#d8576b"
            ],
            [
             0.6666666666666666,
             "#ed7953"
            ],
            [
             0.7777777777777778,
             "#fb9f3a"
            ],
            [
             0.8888888888888888,
             "#fdca26"
            ],
            [
             1,
             "#f0f921"
            ]
           ]
          },
          "colorway": [
           "#636efa",
           "#EF553B",
           "#00cc96",
           "#ab63fa",
           "#FFA15A",
           "#19d3f3",
           "#FF6692",
           "#B6E880",
           "#FF97FF",
           "#FECB52"
          ],
          "font": {
           "color": "#2a3f5f"
          },
          "geo": {
           "bgcolor": "white",
           "lakecolor": "white",
           "landcolor": "#E5ECF6",
           "showlakes": true,
           "showland": true,
           "subunitcolor": "white"
          },
          "hoverlabel": {
           "align": "left"
          },
          "hovermode": "closest",
          "mapbox": {
           "style": "light"
          },
          "paper_bgcolor": "white",
          "plot_bgcolor": "#E5ECF6",
          "polar": {
           "angularaxis": {
            "gridcolor": "white",
            "linecolor": "white",
            "ticks": ""
           },
           "bgcolor": "#E5ECF6",
           "radialaxis": {
            "gridcolor": "white",
            "linecolor": "white",
            "ticks": ""
           }
          },
          "scene": {
           "xaxis": {
            "backgroundcolor": "#E5ECF6",
            "gridcolor": "white",
            "gridwidth": 2,
            "linecolor": "white",
            "showbackground": true,
            "ticks": "",
            "zerolinecolor": "white"
           },
           "yaxis": {
            "backgroundcolor": "#E5ECF6",
            "gridcolor": "white",
            "gridwidth": 2,
            "linecolor": "white",
            "showbackground": true,
            "ticks": "",
            "zerolinecolor": "white"
           },
           "zaxis": {
            "backgroundcolor": "#E5ECF6",
            "gridcolor": "white",
            "gridwidth": 2,
            "linecolor": "white",
            "showbackground": true,
            "ticks": "",
            "zerolinecolor": "white"
           }
          },
          "shapedefaults": {
           "line": {
            "color": "#2a3f5f"
           }
          },
          "ternary": {
           "aaxis": {
            "gridcolor": "white",
            "linecolor": "white",
            "ticks": ""
           },
           "baxis": {
            "gridcolor": "white",
            "linecolor": "white",
            "ticks": ""
           },
           "bgcolor": "#E5ECF6",
           "caxis": {
            "gridcolor": "white",
            "linecolor": "white",
            "ticks": ""
           }
          },
          "title": {
           "x": 0.05
          },
          "xaxis": {
           "automargin": true,
           "gridcolor": "white",
           "linecolor": "white",
           "ticks": "",
           "title": {
            "standoff": 15
           },
           "zerolinecolor": "white",
           "zerolinewidth": 2
          },
          "yaxis": {
           "automargin": true,
           "gridcolor": "white",
           "linecolor": "white",
           "ticks": "",
           "title": {
            "standoff": 15
           },
           "zerolinecolor": "white",
           "zerolinewidth": 2
          }
         }
        },
        "title": {
         "text": "Anomalies Detected"
        }
       }
      },
      "text/html": [
       "<div>                            <div id=\"28bb992d-1db8-4efc-abae-e017f6ec7265\" class=\"plotly-graph-div\" style=\"height:525px; width:100%;\"></div>            <script type=\"text/javascript\">                require([\"plotly\"], function(Plotly) {                    window.PLOTLYENV=window.PLOTLYENV || {};                                    if (document.getElementById(\"28bb992d-1db8-4efc-abae-e017f6ec7265\")) {                    Plotly.newPlot(                        \"28bb992d-1db8-4efc-abae-e017f6ec7265\",                        [{\"marker\":{\"color\":\"white\",\"line\":{\"color\":\"black\",\"width\":0.5},\"size\":5},\"mode\":\"markers\",\"name\":\"Inliers\",\"x\":[1.0,2.0,3.0,4.0,5.0,6.0,7.0,1.0,2.0,3.0,4.0,1.0,2.0,3.0,4.0,5.0,6.0,7.0,1.0,2.0,3.0,4.0,5.0,1.0,2.0,3.0,1.0,2.0,1.0,2.0,1.0,2.0,1.0,2.0,1.0,2.0,3.0,4.0,5.0,6.0,7.0,8.0,1.0,2.0,1.0,2.0,1.0,1.0,2.0,3.0,4.0,5.0,1.0,2.0,1.0,2.0,3.0,1.0,2.0,3.0,4.0,1.0,2.0,3.0,1.0,1.0,2.0,2.0,3.0,1.0,2.0,3.0,1.0,2.0,3.0,1.0,2.0,3.0,1.0,2.0,3.0,4.0,1.0,2.0,3.0,4.0,5.0,6.0,7.0],\"y\":[66.0,25.0,130.0,26.0,89.0,593.5,270.0,33.0,27.0,20.0,23000.0,100.0,28.0,25.0,50.0,120.0,269.25,40.0,45.0,90.0,25.0,192.0,250.0,10.0,1588.0,2691.0,510.0,1463.0,90.0,250.0,35.0,135.0,40.84,855.0,10001.5,147.84,15.0,30.0,126.0,890.0,70.0,70.0,50.0,24.0,45.0,45.0,460.0,150.0,60.0,50.0,115.0,520.0,23.0,114.0,120.0,125.0,50.0,60.0,60.0,330.0,410.0,60.0,1100.0,110.0,100.0,100.0,699.0,50.0,850.0,150.0,15.0,37.0,100.0,401.0,71.43,60.0,295.0,20.0,26.0,900.0,49005.0,26.0,149.0,90.0,199.0,110.0,500.0,1300.0,137.5],\"z\":[66.0,91.0,221.0,247.0,336.0,929.5,1199.5,33.0,60.0,80.0,23080.0,100.0,128.0,153.0,203.0,323.0,592.25,632.25,45.0,135.0,160.0,352.0,602.0,10.0,1598.0,4289.0,510.0,1973.0,90.0,340.0,35.0,170.0,40.84,895.84,10001.5,10149.34,10164.34,10194.34,10320.34,11210.34,11280.34,11350.34,50.0,74.0,45.0,90.0,460.0,150.0,210.0,260.0,375.0,895.0,23.0,137.0,120.0,245.0,295.0,60.0,120.0,450.0,860.0,60.0,1160.0,1270.0,100.0,100.0,799.0,97050.0,97900.0,150.0,165.0,202.0,100.0,501.0,572.4300000000001,60.0,355.0,375.0,26.0,926.0,49931.0,49957.0,149.0,239.0,438.0,548.0,1048.0,2348.0,2485.5],\"type\":\"scatter3d\"},{\"marker\":{\"color\":\"black\",\"line\":{\"color\":\"red\",\"width\":0.5},\"size\":5},\"mode\":\"markers\",\"name\":\"Outliers\",\"x\":[5.0,6.0,7.0,8.0,9.0,10.0,1.0,1.0,5.0],\"y\":[100000.0,300.0,520.0,7666.66,3000.0,300.0,90000.0,97000.0,55.0],\"z\":[123080.0,123380.0,123900.0,131566.66,134566.66,134866.66,90000.0,97000.0,50012.0],\"type\":\"scatter3d\"}],                        {\"template\":{\"data\":{\"histogram2dcontour\":[{\"type\":\"histogram2dcontour\",\"colorbar\":{\"outlinewidth\":0,\"ticks\":\"\"},\"colorscale\":[[0.0,\"#0d0887\"],[0.1111111111111111,\"#46039f\"],[0.2222222222222222,\"#7201a8\"],[0.3333333333333333,\"#9c179e\"],[0.4444444444444444,\"#bd3786\"],[0.5555555555555556,\"#d8576b\"],[0.6666666666666666,\"#ed7953\"],[0.7777777777777778,\"#fb9f3a\"],[0.8888888888888888,\"#fdca26\"],[1.0,\"#f0f921\"]]}],\"choropleth\":[{\"type\":\"choropleth\",\"colorbar\":{\"outlinewidth\":0,\"ticks\":\"\"}}],\"histogram2d\":[{\"type\":\"histogram2d\",\"colorbar\":{\"outlinewidth\":0,\"ticks\":\"\"},\"colorscale\":[[0.0,\"#0d0887\"],[0.1111111111111111,\"#46039f\"],[0.2222222222222222,\"#7201a8\"],[0.3333333333333333,\"#9c179e\"],[0.4444444444444444,\"#bd3786\"],[0.5555555555555556,\"#d8576b\"],[0.6666666666666666,\"#ed7953\"],[0.7777777777777778,\"#fb9f3a\"],[0.8888888888888888,\"#fdca26\"],[1.0,\"#f0f921\"]]}],\"heatmap\":[{\"type\":\"heatmap\",\"colorbar\":{\"outlinewidth\":0,\"ticks\":\"\"},\"colorscale\":[[0.0,\"#0d0887\"],[0.1111111111111111,\"#46039f\"],[0.2222222222222222,\"#7201a8\"],[0.3333333333333333,\"#9c179e\"],[0.4444444444444444,\"#bd3786\"],[0.5555555555555556,\"#d8576b\"],[0.6666666666666666,\"#ed7953\"],[0.7777777777777778,\"#fb9f3a\"],[0.8888888888888888,\"#fdca26\"],[1.0,\"#f0f921\"]]}],\"heatmapgl\":[{\"type\":\"heatmapgl\",\"colorbar\":{\"outlinewidth\":0,\"ticks\":\"\"},\"colorscale\":[[0.0,\"#0d0887\"],[0.1111111111111111,\"#46039f\"],[0.2222222222222222,\"#7201a8\"],[0.3333333333333333,\"#9c179e\"],[0.4444444444444444,\"#bd3786\"],[0.5555555555555556,\"#d8576b\"],[0.6666666666666666,\"#ed7953\"],[0.7777777777777778,\"#fb9f3a\"],[0.8888888888888888,\"#fdca26\"],[1.0,\"#f0f921\"]]}],\"contourcarpet\":[{\"type\":\"contourcarpet\",\"colorbar\":{\"outlinewidth\":0,\"ticks\":\"\"}}],\"contour\":[{\"type\":\"contour\",\"colorbar\":{\"outlinewidth\":0,\"ticks\":\"\"},\"colorscale\":[[0.0,\"#0d0887\"],[0.1111111111111111,\"#46039f\"],[0.2222222222222222,\"#7201a8\"],[0.3333333333333333,\"#9c179e\"],[0.4444444444444444,\"#bd3786\"],[0.5555555555555556,\"#d8576b\"],[0.6666666666666666,\"#ed7953\"],[0.7777777777777778,\"#fb9f3a\"],[0.8888888888888888,\"#fdca26\"],[1.0,\"#f0f921\"]]}],\"surface\":[{\"type\":\"surface\",\"colorbar\":{\"outlinewidth\":0,\"ticks\":\"\"},\"colorscale\":[[0.0,\"#0d0887\"],[0.1111111111111111,\"#46039f\"],[0.2222222222222222,\"#7201a8\"],[0.3333333333333333,\"#9c179e\"],[0.4444444444444444,\"#bd3786\"],[0.5555555555555556,\"#d8576b\"],[0.6666666666666666,\"#ed7953\"],[0.7777777777777778,\"#fb9f3a\"],[0.8888888888888888,\"#fdca26\"],[1.0,\"#f0f921\"]]}],\"mesh3d\":[{\"type\":\"mesh3d\",\"colorbar\":{\"outlinewidth\":0,\"ticks\":\"\"}}],\"scatter\":[{\"fillpattern\":{\"fillmode\":\"overlay\",\"size\":10,\"solidity\":0.2},\"type\":\"scatter\"}],\"parcoords\":[{\"type\":\"parcoords\",\"line\":{\"colorbar\":{\"outlinewidth\":0,\"ticks\":\"\"}}}],\"scatterpolargl\":[{\"type\":\"scatterpolargl\",\"marker\":{\"colorbar\":{\"outlinewidth\":0,\"ticks\":\"\"}}}],\"bar\":[{\"error_x\":{\"color\":\"#2a3f5f\"},\"error_y\":{\"color\":\"#2a3f5f\"},\"marker\":{\"line\":{\"color\":\"#E5ECF6\",\"width\":0.5},\"pattern\":{\"fillmode\":\"overlay\",\"size\":10,\"solidity\":0.2}},\"type\":\"bar\"}],\"scattergeo\":[{\"type\":\"scattergeo\",\"marker\":{\"colorbar\":{\"outlinewidth\":0,\"ticks\":\"\"}}}],\"scatterpolar\":[{\"type\":\"scatterpolar\",\"marker\":{\"colorbar\":{\"outlinewidth\":0,\"ticks\":\"\"}}}],\"histogram\":[{\"marker\":{\"pattern\":{\"fillmode\":\"overlay\",\"size\":10,\"solidity\":0.2}},\"type\":\"histogram\"}],\"scattergl\":[{\"type\":\"scattergl\",\"marker\":{\"colorbar\":{\"outlinewidth\":0,\"ticks\":\"\"}}}],\"scatter3d\":[{\"type\":\"scatter3d\",\"line\":{\"colorbar\":{\"outlinewidth\":0,\"ticks\":\"\"}},\"marker\":{\"colorbar\":{\"outlinewidth\":0,\"ticks\":\"\"}}}],\"scattermapbox\":[{\"type\":\"scattermapbox\",\"marker\":{\"colorbar\":{\"outlinewidth\":0,\"ticks\":\"\"}}}],\"scatterternary\":[{\"type\":\"scatterternary\",\"marker\":{\"colorbar\":{\"outlinewidth\":0,\"ticks\":\"\"}}}],\"scattercarpet\":[{\"type\":\"scattercarpet\",\"marker\":{\"colorbar\":{\"outlinewidth\":0,\"ticks\":\"\"}}}],\"carpet\":[{\"aaxis\":{\"endlinecolor\":\"#2a3f5f\",\"gridcolor\":\"white\",\"linecolor\":\"white\",\"minorgridcolor\":\"white\",\"startlinecolor\":\"#2a3f5f\"},\"baxis\":{\"endlinecolor\":\"#2a3f5f\",\"gridcolor\":\"white\",\"linecolor\":\"white\",\"minorgridcolor\":\"white\",\"startlinecolor\":\"#2a3f5f\"},\"type\":\"carpet\"}],\"table\":[{\"cells\":{\"fill\":{\"color\":\"#EBF0F8\"},\"line\":{\"color\":\"white\"}},\"header\":{\"fill\":{\"color\":\"#C8D4E3\"},\"line\":{\"color\":\"white\"}},\"type\":\"table\"}],\"barpolar\":[{\"marker\":{\"line\":{\"color\":\"#E5ECF6\",\"width\":0.5},\"pattern\":{\"fillmode\":\"overlay\",\"size\":10,\"solidity\":0.2}},\"type\":\"barpolar\"}],\"pie\":[{\"automargin\":true,\"type\":\"pie\"}]},\"layout\":{\"autotypenumbers\":\"strict\",\"colorway\":[\"#636efa\",\"#EF553B\",\"#00cc96\",\"#ab63fa\",\"#FFA15A\",\"#19d3f3\",\"#FF6692\",\"#B6E880\",\"#FF97FF\",\"#FECB52\"],\"font\":{\"color\":\"#2a3f5f\"},\"hovermode\":\"closest\",\"hoverlabel\":{\"align\":\"left\"},\"paper_bgcolor\":\"white\",\"plot_bgcolor\":\"#E5ECF6\",\"polar\":{\"bgcolor\":\"#E5ECF6\",\"angularaxis\":{\"gridcolor\":\"white\",\"linecolor\":\"white\",\"ticks\":\"\"},\"radialaxis\":{\"gridcolor\":\"white\",\"linecolor\":\"white\",\"ticks\":\"\"}},\"ternary\":{\"bgcolor\":\"#E5ECF6\",\"aaxis\":{\"gridcolor\":\"white\",\"linecolor\":\"white\",\"ticks\":\"\"},\"baxis\":{\"gridcolor\":\"white\",\"linecolor\":\"white\",\"ticks\":\"\"},\"caxis\":{\"gridcolor\":\"white\",\"linecolor\":\"white\",\"ticks\":\"\"}},\"coloraxis\":{\"colorbar\":{\"outlinewidth\":0,\"ticks\":\"\"}},\"colorscale\":{\"sequential\":[[0.0,\"#0d0887\"],[0.1111111111111111,\"#46039f\"],[0.2222222222222222,\"#7201a8\"],[0.3333333333333333,\"#9c179e\"],[0.4444444444444444,\"#bd3786\"],[0.5555555555555556,\"#d8576b\"],[0.6666666666666666,\"#ed7953\"],[0.7777777777777778,\"#fb9f3a\"],[0.8888888888888888,\"#fdca26\"],[1.0,\"#f0f921\"]],\"sequentialminus\":[[0.0,\"#0d0887\"],[0.1111111111111111,\"#46039f\"],[0.2222222222222222,\"#7201a8\"],[0.3333333333333333,\"#9c179e\"],[0.4444444444444444,\"#bd3786\"],[0.5555555555555556,\"#d8576b\"],[0.6666666666666666,\"#ed7953\"],[0.7777777777777778,\"#fb9f3a\"],[0.8888888888888888,\"#fdca26\"],[1.0,\"#f0f921\"]],\"diverging\":[[0,\"#8e0152\"],[0.1,\"#c51b7d\"],[0.2,\"#de77ae\"],[0.3,\"#f1b6da\"],[0.4,\"#fde0ef\"],[0.5,\"#f7f7f7\"],[0.6,\"#e6f5d0\"],[0.7,\"#b8e186\"],[0.8,\"#7fbc41\"],[0.9,\"#4d9221\"],[1,\"#276419\"]]},\"xaxis\":{\"gridcolor\":\"white\",\"linecolor\":\"white\",\"ticks\":\"\",\"title\":{\"standoff\":15},\"zerolinecolor\":\"white\",\"automargin\":true,\"zerolinewidth\":2},\"yaxis\":{\"gridcolor\":\"white\",\"linecolor\":\"white\",\"ticks\":\"\",\"title\":{\"standoff\":15},\"zerolinecolor\":\"white\",\"automargin\":true,\"zerolinewidth\":2},\"scene\":{\"xaxis\":{\"backgroundcolor\":\"#E5ECF6\",\"gridcolor\":\"white\",\"linecolor\":\"white\",\"showbackground\":true,\"ticks\":\"\",\"zerolinecolor\":\"white\",\"gridwidth\":2},\"yaxis\":{\"backgroundcolor\":\"#E5ECF6\",\"gridcolor\":\"white\",\"linecolor\":\"white\",\"showbackground\":true,\"ticks\":\"\",\"zerolinecolor\":\"white\",\"gridwidth\":2},\"zaxis\":{\"backgroundcolor\":\"#E5ECF6\",\"gridcolor\":\"white\",\"linecolor\":\"white\",\"showbackground\":true,\"ticks\":\"\",\"zerolinecolor\":\"white\",\"gridwidth\":2}},\"shapedefaults\":{\"line\":{\"color\":\"#2a3f5f\"}},\"annotationdefaults\":{\"arrowcolor\":\"#2a3f5f\",\"arrowhead\":0,\"arrowwidth\":1},\"geo\":{\"bgcolor\":\"white\",\"landcolor\":\"#E5ECF6\",\"subunitcolor\":\"white\",\"showland\":true,\"showlakes\":true,\"lakecolor\":\"white\"},\"title\":{\"x\":0.05},\"mapbox\":{\"style\":\"light\"}}},\"scene\":{\"xaxis\":{\"title\":{\"text\":\"5-day count of withdrawal transactions\"}},\"yaxis\":{\"title\":{\"text\":\"Transaction Amount\"}},\"zaxis\":{\"title\":{\"text\":\"Sum of 5-day withdrawals\"}},\"aspectmode\":\"cube\"},\"title\":{\"text\":\"Anomalies Detected\"}},                        {\"responsive\": true}                    ).then(function(){\n",
       "                            \n",
       "var gd = document.getElementById('28bb992d-1db8-4efc-abae-e017f6ec7265');\n",
       "var x = new MutationObserver(function (mutations, observer) {{\n",
       "        var display = window.getComputedStyle(gd).display;\n",
       "        if (!display || display === 'none') {{\n",
       "            console.log([gd, 'removed!']);\n",
       "            Plotly.purge(gd);\n",
       "            observer.disconnect();\n",
       "        }}\n",
       "}});\n",
       "\n",
       "// Listen for the removal of the full notebook cells\n",
       "var notebookContainer = gd.closest('#notebook-container');\n",
       "if (notebookContainer) {{\n",
       "    x.observe(notebookContainer, {childList: true});\n",
       "}}\n",
       "\n",
       "// Listen for the clearing of the current output cell\n",
       "var outputEl = gd.closest('.output');\n",
       "if (outputEl) {{\n",
       "    x.observe(outputEl, {childList: true});\n",
       "}}\n",
       "\n",
       "                        })                };                });            </script>        </div>"
      ]
     },
     "metadata": {},
     "output_type": "display_data"
    }
   ],
   "source": [
    "import plotly.graph_objects as go\n",
    "\n",
    "def visualize_anomalies_3d(df):\n",
    "    # Create figure\n",
    "    fig = go.Figure()\n",
    "\n",
    "    # Extract data for inliers and outliers\n",
    "    inliers = df[df['y_pred'] == 0]\n",
    "    outliers = df[df['y_pred'] == 1]\n",
    "\n",
    "    # Plot inliers\n",
    "    fig.add_trace(go.Scatter3d(\n",
    "        x=inliers['count_5days'],\n",
    "        y=inliers['amount'],\n",
    "        z=inliers['sum_5days'],\n",
    "        mode='markers',\n",
    "        marker=dict(\n",
    "            color='white',\n",
    "            size=5,\n",
    "            line=dict(\n",
    "                color='black',\n",
    "                width=0.5\n",
    "            )\n",
    "        ),\n",
    "        name='Inliers'\n",
    "    ))\n",
    "\n",
    "    # Plot outliers\n",
    "    fig.add_trace(go.Scatter3d(\n",
    "        x=outliers['count_5days'],\n",
    "        y=outliers['amount'],\n",
    "        z=outliers['sum_5days'],\n",
    "        mode='markers',\n",
    "        marker=dict(\n",
    "            color='black',\n",
    "            size=5,\n",
    "            line=dict(\n",
    "                color='red',\n",
    "                width=0.5\n",
    "            )\n",
    "        ),\n",
    "        name='Outliers'\n",
    "    ))\n",
    "\n",
    "    # Update layout\n",
    "    fig.update_layout(\n",
    "        scene=dict(\n",
    "            xaxis_title='5-day count of withdrawal transactions',\n",
    "            yaxis_title='Transaction Amount',\n",
    "            zaxis_title='Sum of 5-day withdrawals',\n",
    "            aspectmode='cube'\n",
    "        ),\n",
    "        title='Anomalies Detected'\n",
    "    )\n",
    "\n",
    "    # Show plot\n",
    "    fig.show()\n",
    "\n",
    "# Call the function to visualize anomalies in 3D\n",
    "visualize_anomalies_3d(df_results)\n"
   ]
  },
  {
   "cell_type": "code",
   "execution_count": null,
   "id": "2d2c3eb6",
   "metadata": {},
   "outputs": [],
   "source": []
  }
 ],
 "metadata": {
  "kernelspec": {
   "display_name": "Python 3 (ipykernel)",
   "language": "python",
   "name": "python3"
  },
  "language_info": {
   "codemirror_mode": {
    "name": "ipython",
    "version": 3
   },
   "file_extension": ".py",
   "mimetype": "text/x-python",
   "name": "python",
   "nbconvert_exporter": "python",
   "pygments_lexer": "ipython3",
   "version": "3.11.4"
  }
 },
 "nbformat": 4,
 "nbformat_minor": 5
}
