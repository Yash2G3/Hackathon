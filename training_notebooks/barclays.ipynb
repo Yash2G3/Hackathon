{
 "cells": [
  {
   "cell_type": "code",
   "execution_count": 55,
   "metadata": {
    "id": "sjWM7ybDdqJr"
   },
   "outputs": [],
   "source": [
    "import pandas as pd\n",
    "import numpy as np\n",
    "from datetime import datetime,timedelta\n",
    "import math\n",
    "import matplotlib.pyplot as plt\n",
    "import matplotlib.mlab as mlab\n",
    "import matplotlib\n",
    "from matplotlib.pyplot import figure\n",
    "import seaborn as sns\n",
    "\n",
    "\n",
    "pd.options.mode.chained_assignment = None\n",
    "%matplotlib inline\n"
   ]
  },
  {
   "cell_type": "code",
   "execution_count": 56,
   "metadata": {
    "id": "Xl1jiEcNekKI"
   },
   "outputs": [],
   "source": [
    "def read_data(data = 'data_name')->pd.DataFrame:\n",
    "    df = pd.read_csv(data, delimiter = ';', low_memory = False)\n",
    "    df['date'] = pd.to_datetime(df['date'], format='%y%m%d')\n",
    "    return df"
   ]
  },
  {
   "cell_type": "code",
   "execution_count": 57,
   "metadata": {
    "colab": {
     "base_uri": "https://localhost:8080/"
    },
    "id": "ZkirnVbJez2M",
    "outputId": "35bd774c-6d2e-4f87-9eb6-7ce9bf31195b"
   },
   "outputs": [
    {
     "data": {
      "text/plain": [
       "Index(['trans_id', 'account_id', 'date', 'type', 'operation', 'amount',\n",
       "       'balance', 'k_symbol', 'bank', 'account'],\n",
       "      dtype='object')"
      ]
     },
     "execution_count": 57,
     "metadata": {},
     "output_type": "execute_result"
    }
   ],
   "source": [
    "df = read_data(data = \"D:/Hack-O-Hire/data/trans.csv\")\n",
    "df.head()\n",
    "\n",
    "\n",
    "df.columns"
   ]
  },
  {
   "cell_type": "code",
   "execution_count": 58,
   "metadata": {
    "colab": {
     "base_uri": "https://localhost:8080/"
    },
    "id": "PU4-yf1PfwHY",
    "outputId": "bd4e44fc-8cae-4b34-d814-313968d94bf5"
   },
   "outputs": [
    {
     "name": "stdout",
     "output_type": "stream",
     "text": [
      "<class 'pandas.core.frame.DataFrame'>\n",
      "RangeIndex: 1056320 entries, 0 to 1056319\n",
      "Data columns (total 10 columns):\n",
      " #   Column      Non-Null Count    Dtype         \n",
      "---  ------      --------------    -----         \n",
      " 0   trans_id    1056320 non-null  int64         \n",
      " 1   account_id  1056320 non-null  int64         \n",
      " 2   date        1056320 non-null  datetime64[ns]\n",
      " 3   type        1056320 non-null  object        \n",
      " 4   operation   873206 non-null   object        \n",
      " 5   amount      1056320 non-null  float64       \n",
      " 6   balance     1056320 non-null  float64       \n",
      " 7   k_symbol    574439 non-null   object        \n",
      " 8   bank        273508 non-null   object        \n",
      " 9   account     295389 non-null   float64       \n",
      "dtypes: datetime64[ns](1), float64(3), int64(2), object(4)\n",
      "memory usage: 80.6+ MB\n"
     ]
    }
   ],
   "source": [
    "df.info()"
   ]
  },
  {
   "cell_type": "code",
   "execution_count": 59,
   "metadata": {
    "colab": {
     "base_uri": "https://localhost:8080/"
    },
    "id": "X8uC14Z1h0Kl",
    "outputId": "bbfcc04d-d66b-41ce-826f-38d39cd7aa2e"
   },
   "outputs": [
    {
     "data": {
      "text/plain": [
       "Index(['trans_id', 'account_id', 'date', 'type', 'operation', 'amount',\n",
       "       'balance', 'k_symbol', 'bank', 'account'],\n",
       "      dtype='object')"
      ]
     },
     "execution_count": 59,
     "metadata": {},
     "output_type": "execute_result"
    }
   ],
   "source": [
    "df.columns"
   ]
  },
  {
   "cell_type": "code",
   "execution_count": 60,
   "metadata": {
    "id": "NCB5z6bkfzxU"
   },
   "outputs": [],
   "source": [
    "def filter_features(ls = [], df = pd.DataFrame)->pd.DataFrame:\n",
    "    features = ['date', 'account_id', 'type', 'amount']\n",
    "    \n",
    "    df = df[['date', 'account_id', 'type', 'amount']]\n",
    "    to_replace = {'PRIJEM': 'CREDIT', 'VYDAJ': 'WITHDRAWAL', 'VYBER': 'NOT SURE', 'DEBIT': 'WITHDRAWAL'}\n",
    "    df['type'] = df['type'].replace(to_replace)\n",
    "    if 'date' in ls:\n",
    "        df['date'] = pd.to_datetime(df['date'], format='%y%m%d')\n",
    "    df = df[df['type'] == 'WITHDRAWAL']\n",
    "    df.sort_values(by = 'account_id')\n",
    "    df.set_index('date',inplace = True)\n",
    "    df['sum_5days'] = df.groupby('account_id')['amount'].transform(lambda s: s.rolling(timedelta(days=5)).sum())\n",
    "    df['count_5days'] = df.groupby('account_id')['amount'].transform(lambda s: s.rolling(timedelta(days=5)).count())\n",
    "    return df\n",
    "\n",
    "\n"
   ]
  },
  {
   "cell_type": "code",
   "execution_count": 61,
   "metadata": {
    "colab": {
     "base_uri": "https://localhost:8080/",
     "height": 423
    },
    "id": "KDpisT0GhtMg",
    "outputId": "5cf1f127-bba7-4851-84d2-8071de831cfd"
   },
   "outputs": [
    {
     "data": {
      "text/html": [
       "<div>\n",
       "<style scoped>\n",
       "    .dataframe tbody tr th:only-of-type {\n",
       "        vertical-align: middle;\n",
       "    }\n",
       "\n",
       "    .dataframe tbody tr th {\n",
       "        vertical-align: top;\n",
       "    }\n",
       "\n",
       "    .dataframe thead th {\n",
       "        text-align: right;\n",
       "    }\n",
       "</style>\n",
       "<table border=\"1\" class=\"dataframe\">\n",
       "  <thead>\n",
       "    <tr style=\"text-align: right;\">\n",
       "      <th></th>\n",
       "      <th>account_id</th>\n",
       "      <th>type</th>\n",
       "      <th>amount</th>\n",
       "      <th>sum_5days</th>\n",
       "      <th>count_5days</th>\n",
       "    </tr>\n",
       "    <tr>\n",
       "      <th>date</th>\n",
       "      <th></th>\n",
       "      <th></th>\n",
       "      <th></th>\n",
       "      <th></th>\n",
       "      <th></th>\n",
       "    </tr>\n",
       "  </thead>\n",
       "  <tbody>\n",
       "    <tr>\n",
       "      <th>1993-01-31</th>\n",
       "      <td>2378</td>\n",
       "      <td>WITHDRAWAL</td>\n",
       "      <td>34700.0</td>\n",
       "      <td>34700.0</td>\n",
       "      <td>1.0</td>\n",
       "    </tr>\n",
       "    <tr>\n",
       "      <th>1993-02-03</th>\n",
       "      <td>485</td>\n",
       "      <td>WITHDRAWAL</td>\n",
       "      <td>25300.0</td>\n",
       "      <td>25300.0</td>\n",
       "      <td>1.0</td>\n",
       "    </tr>\n",
       "    <tr>\n",
       "      <th>1993-02-06</th>\n",
       "      <td>3510</td>\n",
       "      <td>WITHDRAWAL</td>\n",
       "      <td>1600.0</td>\n",
       "      <td>1600.0</td>\n",
       "      <td>1.0</td>\n",
       "    </tr>\n",
       "    <tr>\n",
       "      <th>1993-02-07</th>\n",
       "      <td>2378</td>\n",
       "      <td>WITHDRAWAL</td>\n",
       "      <td>9612.0</td>\n",
       "      <td>9612.0</td>\n",
       "      <td>1.0</td>\n",
       "    </tr>\n",
       "    <tr>\n",
       "      <th>1993-02-07</th>\n",
       "      <td>2122</td>\n",
       "      <td>WITHDRAWAL</td>\n",
       "      <td>14100.0</td>\n",
       "      <td>14100.0</td>\n",
       "      <td>1.0</td>\n",
       "    </tr>\n",
       "    <tr>\n",
       "      <th>...</th>\n",
       "      <td>...</td>\n",
       "      <td>...</td>\n",
       "      <td>...</td>\n",
       "      <td>...</td>\n",
       "      <td>...</td>\n",
       "    </tr>\n",
       "    <tr>\n",
       "      <th>1998-12-31</th>\n",
       "      <td>2346</td>\n",
       "      <td>WITHDRAWAL</td>\n",
       "      <td>14.9</td>\n",
       "      <td>14.9</td>\n",
       "      <td>1.0</td>\n",
       "    </tr>\n",
       "    <tr>\n",
       "      <th>1998-12-31</th>\n",
       "      <td>5066</td>\n",
       "      <td>WITHDRAWAL</td>\n",
       "      <td>3.5</td>\n",
       "      <td>3.5</td>\n",
       "      <td>1.0</td>\n",
       "    </tr>\n",
       "    <tr>\n",
       "      <th>1998-12-31</th>\n",
       "      <td>7520</td>\n",
       "      <td>WITHDRAWAL</td>\n",
       "      <td>67.2</td>\n",
       "      <td>197.4</td>\n",
       "      <td>2.0</td>\n",
       "    </tr>\n",
       "    <tr>\n",
       "      <th>1998-12-31</th>\n",
       "      <td>7465</td>\n",
       "      <td>WITHDRAWAL</td>\n",
       "      <td>0.8</td>\n",
       "      <td>0.8</td>\n",
       "      <td>1.0</td>\n",
       "    </tr>\n",
       "    <tr>\n",
       "      <th>1998-12-31</th>\n",
       "      <td>442</td>\n",
       "      <td>WITHDRAWAL</td>\n",
       "      <td>0.6</td>\n",
       "      <td>0.6</td>\n",
       "      <td>1.0</td>\n",
       "    </tr>\n",
       "  </tbody>\n",
       "</table>\n",
       "<p>634571 rows × 5 columns</p>\n",
       "</div>"
      ],
      "text/plain": [
       "            account_id        type   amount  sum_5days  count_5days\n",
       "date                                                               \n",
       "1993-01-31        2378  WITHDRAWAL  34700.0    34700.0          1.0\n",
       "1993-02-03         485  WITHDRAWAL  25300.0    25300.0          1.0\n",
       "1993-02-06        3510  WITHDRAWAL   1600.0     1600.0          1.0\n",
       "1993-02-07        2378  WITHDRAWAL   9612.0     9612.0          1.0\n",
       "1993-02-07        2122  WITHDRAWAL  14100.0    14100.0          1.0\n",
       "...                ...         ...      ...        ...          ...\n",
       "1998-12-31        2346  WITHDRAWAL     14.9       14.9          1.0\n",
       "1998-12-31        5066  WITHDRAWAL      3.5        3.5          1.0\n",
       "1998-12-31        7520  WITHDRAWAL     67.2      197.4          2.0\n",
       "1998-12-31        7465  WITHDRAWAL      0.8        0.8          1.0\n",
       "1998-12-31         442  WITHDRAWAL      0.6        0.6          1.0\n",
       "\n",
       "[634571 rows x 5 columns]"
      ]
     },
     "execution_count": 61,
     "metadata": {},
     "output_type": "execute_result"
    }
   ],
   "source": [
    "df_new = filter_features(ls = df.columns, df = df )\n",
    "df_new"
   ]
  },
  {
   "cell_type": "code",
   "execution_count": 62,
   "metadata": {
    "colab": {
     "base_uri": "https://localhost:8080/",
     "height": 524
    },
    "id": "aLThJ40Hh-gJ",
    "outputId": "925d6780-fc5f-454f-ceed-046286f54d70"
   },
   "outputs": [
    {
     "data": {
      "text/plain": [
       "<seaborn.axisgrid.FacetGrid at 0x16fbbda3d50>"
      ]
     },
     "execution_count": 62,
     "metadata": {},
     "output_type": "execute_result"
    },
    {
     "data": {
      "image/png": "[encoded data removed]",
      "text/plain": [
       "<Figure size 500x500 with 1 Axes>"
      ]
     },
     "metadata": {},
     "output_type": "display_data"
    }
   ],
   "source": [
    "sns.displot(df_new['amount'], bins = 50, kde = True)"
   ]
  },
  {
   "cell_type": "code",
   "execution_count": 63,
   "metadata": {
    "id": "Hyo8RKc1iZmk"
   },
   "outputs": [],
   "source": [
    "to_replace = {'PRIJEM': 'CREDIT', 'VYDAJ': 'WITHDRAWAL', 'VYBER': 'NOT SURE', 'DEBIT': 'WITHDRAWAL'}\n",
    "df_new['type'] = df_new['type'].replace(to_replace)"
   ]
  },
  {
   "cell_type": "code",
   "execution_count": 64,
   "metadata": {
    "colab": {
     "base_uri": "https://localhost:8080/",
     "height": 423
    },
    "id": "Une4q0RLkOG_",
    "outputId": "a5983a9f-ff31-41cb-9ddb-5d0cde14ff6c"
   },
   "outputs": [
    {
     "data": {
      "text/html": [
       "<div>\n",
       "<style scoped>\n",
       "    .dataframe tbody tr th:only-of-type {\n",
       "        vertical-align: middle;\n",
       "    }\n",
       "\n",
       "    .dataframe tbody tr th {\n",
       "        vertical-align: top;\n",
       "    }\n",
       "\n",
       "    .dataframe thead th {\n",
       "        text-align: right;\n",
       "    }\n",
       "</style>\n",
       "<table border=\"1\" class=\"dataframe\">\n",
       "  <thead>\n",
       "    <tr style=\"text-align: right;\">\n",
       "      <th></th>\n",
       "      <th>account_id</th>\n",
       "      <th>type</th>\n",
       "      <th>amount</th>\n",
       "      <th>sum_5days</th>\n",
       "      <th>count_5days</th>\n",
       "    </tr>\n",
       "    <tr>\n",
       "      <th>date</th>\n",
       "      <th></th>\n",
       "      <th></th>\n",
       "      <th></th>\n",
       "      <th></th>\n",
       "      <th></th>\n",
       "    </tr>\n",
       "  </thead>\n",
       "  <tbody>\n",
       "    <tr>\n",
       "      <th>1993-01-31</th>\n",
       "      <td>2378</td>\n",
       "      <td>WITHDRAWAL</td>\n",
       "      <td>34700.0</td>\n",
       "      <td>34700.0</td>\n",
       "      <td>1.0</td>\n",
       "    </tr>\n",
       "    <tr>\n",
       "      <th>1993-02-03</th>\n",
       "      <td>485</td>\n",
       "      <td>WITHDRAWAL</td>\n",
       "      <td>25300.0</td>\n",
       "      <td>25300.0</td>\n",
       "      <td>1.0</td>\n",
       "    </tr>\n",
       "    <tr>\n",
       "      <th>1993-02-06</th>\n",
       "      <td>3510</td>\n",
       "      <td>WITHDRAWAL</td>\n",
       "      <td>1600.0</td>\n",
       "      <td>1600.0</td>\n",
       "      <td>1.0</td>\n",
       "    </tr>\n",
       "    <tr>\n",
       "      <th>1993-02-07</th>\n",
       "      <td>2378</td>\n",
       "      <td>WITHDRAWAL</td>\n",
       "      <td>9612.0</td>\n",
       "      <td>9612.0</td>\n",
       "      <td>1.0</td>\n",
       "    </tr>\n",
       "    <tr>\n",
       "      <th>1993-02-07</th>\n",
       "      <td>2122</td>\n",
       "      <td>WITHDRAWAL</td>\n",
       "      <td>14100.0</td>\n",
       "      <td>14100.0</td>\n",
       "      <td>1.0</td>\n",
       "    </tr>\n",
       "    <tr>\n",
       "      <th>...</th>\n",
       "      <td>...</td>\n",
       "      <td>...</td>\n",
       "      <td>...</td>\n",
       "      <td>...</td>\n",
       "      <td>...</td>\n",
       "    </tr>\n",
       "    <tr>\n",
       "      <th>1998-12-31</th>\n",
       "      <td>2346</td>\n",
       "      <td>WITHDRAWAL</td>\n",
       "      <td>14.9</td>\n",
       "      <td>14.9</td>\n",
       "      <td>1.0</td>\n",
       "    </tr>\n",
       "    <tr>\n",
       "      <th>1998-12-31</th>\n",
       "      <td>5066</td>\n",
       "      <td>WITHDRAWAL</td>\n",
       "      <td>3.5</td>\n",
       "      <td>3.5</td>\n",
       "      <td>1.0</td>\n",
       "    </tr>\n",
       "    <tr>\n",
       "      <th>1998-12-31</th>\n",
       "      <td>7520</td>\n",
       "      <td>WITHDRAWAL</td>\n",
       "      <td>67.2</td>\n",
       "      <td>197.4</td>\n",
       "      <td>2.0</td>\n",
       "    </tr>\n",
       "    <tr>\n",
       "      <th>1998-12-31</th>\n",
       "      <td>7465</td>\n",
       "      <td>WITHDRAWAL</td>\n",
       "      <td>0.8</td>\n",
       "      <td>0.8</td>\n",
       "      <td>1.0</td>\n",
       "    </tr>\n",
       "    <tr>\n",
       "      <th>1998-12-31</th>\n",
       "      <td>442</td>\n",
       "      <td>WITHDRAWAL</td>\n",
       "      <td>0.6</td>\n",
       "      <td>0.6</td>\n",
       "      <td>1.0</td>\n",
       "    </tr>\n",
       "  </tbody>\n",
       "</table>\n",
       "<p>634571 rows × 5 columns</p>\n",
       "</div>"
      ],
      "text/plain": [
       "            account_id        type   amount  sum_5days  count_5days\n",
       "date                                                               \n",
       "1993-01-31        2378  WITHDRAWAL  34700.0    34700.0          1.0\n",
       "1993-02-03         485  WITHDRAWAL  25300.0    25300.0          1.0\n",
       "1993-02-06        3510  WITHDRAWAL   1600.0     1600.0          1.0\n",
       "1993-02-07        2378  WITHDRAWAL   9612.0     9612.0          1.0\n",
       "1993-02-07        2122  WITHDRAWAL  14100.0    14100.0          1.0\n",
       "...                ...         ...      ...        ...          ...\n",
       "1998-12-31        2346  WITHDRAWAL     14.9       14.9          1.0\n",
       "1998-12-31        5066  WITHDRAWAL      3.5        3.5          1.0\n",
       "1998-12-31        7520  WITHDRAWAL     67.2      197.4          2.0\n",
       "1998-12-31        7465  WITHDRAWAL      0.8        0.8          1.0\n",
       "1998-12-31         442  WITHDRAWAL      0.6        0.6          1.0\n",
       "\n",
       "[634571 rows x 5 columns]"
      ]
     },
     "execution_count": 64,
     "metadata": {},
     "output_type": "execute_result"
    }
   ],
   "source": [
    "df_new"
   ]
  },
  {
   "cell_type": "code",
   "execution_count": 65,
   "metadata": {
    "colab": {
     "base_uri": "https://localhost:8080/",
     "height": 466
    },
    "id": "9VC0Cb2-kPp4",
    "outputId": "18cb0e29-0675-49fe-b350-df9f973c1566"
   },
   "outputs": [
    {
     "data": {
      "text/plain": [
       "<Axes: xlabel='type', ylabel='count'>"
      ]
     },
     "execution_count": 65,
     "metadata": {},
     "output_type": "execute_result"
    },
    {
     "data": {
      "image/png": "[encoded data removed]",
      "text/plain": [
       "<Figure size 640x480 with 1 Axes>"
      ]
     },
     "metadata": {},
     "output_type": "display_data"
    }
   ],
   "source": [
    "sns.countplot(x = 'type', data = df_new)"
   ]
  },
  {
   "cell_type": "code",
   "execution_count": 66,
   "metadata": {
    "colab": {
     "base_uri": "https://localhost:8080/",
     "height": 206
    },
    "id": "J94njMaslwHq",
    "outputId": "aaefe631-aa7c-496f-d5e8-36aa1c361943"
   },
   "outputs": [
    {
     "data": {
      "text/html": [
       "<div>\n",
       "<style scoped>\n",
       "    .dataframe tbody tr th:only-of-type {\n",
       "        vertical-align: middle;\n",
       "    }\n",
       "\n",
       "    .dataframe tbody tr th {\n",
       "        vertical-align: top;\n",
       "    }\n",
       "\n",
       "    .dataframe thead th {\n",
       "        text-align: right;\n",
       "    }\n",
       "</style>\n",
       "<table border=\"1\" class=\"dataframe\">\n",
       "  <thead>\n",
       "    <tr style=\"text-align: right;\">\n",
       "      <th></th>\n",
       "      <th>account_id</th>\n",
       "      <th>type</th>\n",
       "      <th>amount</th>\n",
       "      <th>sum_5days</th>\n",
       "      <th>count_5days</th>\n",
       "    </tr>\n",
       "    <tr>\n",
       "      <th>date</th>\n",
       "      <th></th>\n",
       "      <th></th>\n",
       "      <th></th>\n",
       "      <th></th>\n",
       "      <th></th>\n",
       "    </tr>\n",
       "  </thead>\n",
       "  <tbody>\n",
       "    <tr>\n",
       "      <th>1993-01-31</th>\n",
       "      <td>2378</td>\n",
       "      <td>WITHDRAWAL</td>\n",
       "      <td>34700.0</td>\n",
       "      <td>34700.0</td>\n",
       "      <td>1.0</td>\n",
       "    </tr>\n",
       "    <tr>\n",
       "      <th>1993-02-03</th>\n",
       "      <td>485</td>\n",
       "      <td>WITHDRAWAL</td>\n",
       "      <td>25300.0</td>\n",
       "      <td>25300.0</td>\n",
       "      <td>1.0</td>\n",
       "    </tr>\n",
       "    <tr>\n",
       "      <th>1993-02-06</th>\n",
       "      <td>3510</td>\n",
       "      <td>WITHDRAWAL</td>\n",
       "      <td>1600.0</td>\n",
       "      <td>1600.0</td>\n",
       "      <td>1.0</td>\n",
       "    </tr>\n",
       "    <tr>\n",
       "      <th>1993-02-07</th>\n",
       "      <td>2378</td>\n",
       "      <td>WITHDRAWAL</td>\n",
       "      <td>9612.0</td>\n",
       "      <td>9612.0</td>\n",
       "      <td>1.0</td>\n",
       "    </tr>\n",
       "    <tr>\n",
       "      <th>1993-02-07</th>\n",
       "      <td>2122</td>\n",
       "      <td>WITHDRAWAL</td>\n",
       "      <td>14100.0</td>\n",
       "      <td>14100.0</td>\n",
       "      <td>1.0</td>\n",
       "    </tr>\n",
       "  </tbody>\n",
       "</table>\n",
       "</div>"
      ],
      "text/plain": [
       "            account_id        type   amount  sum_5days  count_5days\n",
       "date                                                               \n",
       "1993-01-31        2378  WITHDRAWAL  34700.0    34700.0          1.0\n",
       "1993-02-03         485  WITHDRAWAL  25300.0    25300.0          1.0\n",
       "1993-02-06        3510  WITHDRAWAL   1600.0     1600.0          1.0\n",
       "1993-02-07        2378  WITHDRAWAL   9612.0     9612.0          1.0\n",
       "1993-02-07        2122  WITHDRAWAL  14100.0    14100.0          1.0"
      ]
     },
     "execution_count": 66,
     "metadata": {},
     "output_type": "execute_result"
    }
   ],
   "source": [
    "df_new.head()"
   ]
  },
  {
   "cell_type": "code",
   "execution_count": 67,
   "metadata": {
    "colab": {
     "base_uri": "https://localhost:8080/",
     "height": 423
    },
    "id": "WI8fDnX6l1AN",
    "outputId": "7b66c05f-abac-46c6-a786-03cbc11ffc16"
   },
   "outputs": [
    {
     "data": {
      "text/html": [
       "<div>\n",
       "<style scoped>\n",
       "    .dataframe tbody tr th:only-of-type {\n",
       "        vertical-align: middle;\n",
       "    }\n",
       "\n",
       "    .dataframe tbody tr th {\n",
       "        vertical-align: top;\n",
       "    }\n",
       "\n",
       "    .dataframe thead th {\n",
       "        text-align: right;\n",
       "    }\n",
       "</style>\n",
       "<table border=\"1\" class=\"dataframe\">\n",
       "  <thead>\n",
       "    <tr style=\"text-align: right;\">\n",
       "      <th></th>\n",
       "      <th>account_id</th>\n",
       "      <th>type</th>\n",
       "      <th>amount</th>\n",
       "      <th>sum_5days</th>\n",
       "      <th>count_5days</th>\n",
       "    </tr>\n",
       "    <tr>\n",
       "      <th>date</th>\n",
       "      <th></th>\n",
       "      <th></th>\n",
       "      <th></th>\n",
       "      <th></th>\n",
       "      <th></th>\n",
       "    </tr>\n",
       "  </thead>\n",
       "  <tbody>\n",
       "    <tr>\n",
       "      <th>1995-09-20</th>\n",
       "      <td>1</td>\n",
       "      <td>WITHDRAWAL</td>\n",
       "      <td>700.0</td>\n",
       "      <td>700.0</td>\n",
       "      <td>1.0</td>\n",
       "    </tr>\n",
       "    <tr>\n",
       "      <th>1997-05-31</th>\n",
       "      <td>1</td>\n",
       "      <td>WITHDRAWAL</td>\n",
       "      <td>14.6</td>\n",
       "      <td>1184.6</td>\n",
       "      <td>2.0</td>\n",
       "    </tr>\n",
       "    <tr>\n",
       "      <th>1997-10-31</th>\n",
       "      <td>1</td>\n",
       "      <td>WITHDRAWAL</td>\n",
       "      <td>14.6</td>\n",
       "      <td>14.6</td>\n",
       "      <td>1.0</td>\n",
       "    </tr>\n",
       "    <tr>\n",
       "      <th>1996-05-13</th>\n",
       "      <td>1</td>\n",
       "      <td>WITHDRAWAL</td>\n",
       "      <td>660.0</td>\n",
       "      <td>660.0</td>\n",
       "      <td>1.0</td>\n",
       "    </tr>\n",
       "    <tr>\n",
       "      <th>1996-01-05</th>\n",
       "      <td>1</td>\n",
       "      <td>WITHDRAWAL</td>\n",
       "      <td>2452.0</td>\n",
       "      <td>2662.0</td>\n",
       "      <td>2.0</td>\n",
       "    </tr>\n",
       "    <tr>\n",
       "      <th>...</th>\n",
       "      <td>...</td>\n",
       "      <td>...</td>\n",
       "      <td>...</td>\n",
       "      <td>...</td>\n",
       "      <td>...</td>\n",
       "    </tr>\n",
       "    <tr>\n",
       "      <th>1996-03-17</th>\n",
       "      <td>11382</td>\n",
       "      <td>WITHDRAWAL</td>\n",
       "      <td>24500.0</td>\n",
       "      <td>24500.0</td>\n",
       "      <td>1.0</td>\n",
       "    </tr>\n",
       "    <tr>\n",
       "      <th>1998-10-31</th>\n",
       "      <td>11382</td>\n",
       "      <td>WITHDRAWAL</td>\n",
       "      <td>14.6</td>\n",
       "      <td>14.6</td>\n",
       "      <td>1.0</td>\n",
       "    </tr>\n",
       "    <tr>\n",
       "      <th>1997-01-17</th>\n",
       "      <td>11382</td>\n",
       "      <td>WITHDRAWAL</td>\n",
       "      <td>7500.0</td>\n",
       "      <td>12000.0</td>\n",
       "      <td>2.0</td>\n",
       "    </tr>\n",
       "    <tr>\n",
       "      <th>1996-04-16</th>\n",
       "      <td>11382</td>\n",
       "      <td>WITHDRAWAL</td>\n",
       "      <td>14500.0</td>\n",
       "      <td>14500.0</td>\n",
       "      <td>1.0</td>\n",
       "    </tr>\n",
       "    <tr>\n",
       "      <th>1996-10-31</th>\n",
       "      <td>11382</td>\n",
       "      <td>WITHDRAWAL</td>\n",
       "      <td>14.6</td>\n",
       "      <td>14.6</td>\n",
       "      <td>1.0</td>\n",
       "    </tr>\n",
       "  </tbody>\n",
       "</table>\n",
       "<p>634571 rows × 5 columns</p>\n",
       "</div>"
      ],
      "text/plain": [
       "            account_id        type   amount  sum_5days  count_5days\n",
       "date                                                               \n",
       "1995-09-20           1  WITHDRAWAL    700.0      700.0          1.0\n",
       "1997-05-31           1  WITHDRAWAL     14.6     1184.6          2.0\n",
       "1997-10-31           1  WITHDRAWAL     14.6       14.6          1.0\n",
       "1996-05-13           1  WITHDRAWAL    660.0      660.0          1.0\n",
       "1996-01-05           1  WITHDRAWAL   2452.0     2662.0          2.0\n",
       "...                ...         ...      ...        ...          ...\n",
       "1996-03-17       11382  WITHDRAWAL  24500.0    24500.0          1.0\n",
       "1998-10-31       11382  WITHDRAWAL     14.6       14.6          1.0\n",
       "1997-01-17       11382  WITHDRAWAL   7500.0    12000.0          2.0\n",
       "1996-04-16       11382  WITHDRAWAL  14500.0    14500.0          1.0\n",
       "1996-10-31       11382  WITHDRAWAL     14.6       14.6          1.0\n",
       "\n",
       "[634571 rows x 5 columns]"
      ]
     },
     "execution_count": 67,
     "metadata": {},
     "output_type": "execute_result"
    }
   ],
   "source": [
    "df_new = df_new[df_new['type'] == 'WITHDRAWAL']\n",
    "df_new.sort_values(by = 'account_id')"
   ]
  },
  {
   "cell_type": "code",
   "execution_count": 68,
   "metadata": {
    "colab": {
     "base_uri": "https://localhost:8080/",
     "height": 237
    },
    "id": "hEW4fc0-m5zp",
    "outputId": "9c144d51-7b32-445c-bd39-9c0be3f8145d"
   },
   "outputs": [
    {
     "ename": "KeyError",
     "evalue": "\"None of ['date'] are in the columns\"",
     "output_type": "error",
     "traceback": [
      "\u001b[1;31m---------------------------------------------------------------------------\u001b[0m",
      "\u001b[1;31mKeyError\u001b[0m                                  Traceback (most recent call last)",
      "Cell \u001b[1;32mIn[68], line 1\u001b[0m\n\u001b[1;32m----> 1\u001b[0m df_new\u001b[38;5;241m.\u001b[39mset_index(\u001b[38;5;124m'\u001b[39m\u001b[38;5;124mdate\u001b[39m\u001b[38;5;124m'\u001b[39m,inplace \u001b[38;5;241m=\u001b[39m \u001b[38;5;28;01mTrue\u001b[39;00m)\n\u001b[0;32m      2\u001b[0m df_new[\u001b[38;5;241m0\u001b[39m:\u001b[38;5;241m5\u001b[39m]\n",
      "File \u001b[1;32m~\\anaconda3\\Lib\\site-packages\\pandas\\util\\_decorators.py:331\u001b[0m, in \u001b[0;36mdeprecate_nonkeyword_arguments.<locals>.decorate.<locals>.wrapper\u001b[1;34m(*args, **kwargs)\u001b[0m\n\u001b[0;32m    325\u001b[0m \u001b[38;5;28;01mif\u001b[39;00m \u001b[38;5;28mlen\u001b[39m(args) \u001b[38;5;241m>\u001b[39m num_allow_args:\n\u001b[0;32m    326\u001b[0m     warnings\u001b[38;5;241m.\u001b[39mwarn(\n\u001b[0;32m    327\u001b[0m         msg\u001b[38;5;241m.\u001b[39mformat(arguments\u001b[38;5;241m=\u001b[39m_format_argument_list(allow_args)),\n\u001b[0;32m    328\u001b[0m         \u001b[38;5;167;01mFutureWarning\u001b[39;00m,\n\u001b[0;32m    329\u001b[0m         stacklevel\u001b[38;5;241m=\u001b[39mfind_stack_level(),\n\u001b[0;32m    330\u001b[0m     )\n\u001b[1;32m--> 331\u001b[0m \u001b[38;5;28;01mreturn\u001b[39;00m func(\u001b[38;5;241m*\u001b[39margs, \u001b[38;5;241m*\u001b[39m\u001b[38;5;241m*\u001b[39mkwargs)\n",
      "File \u001b[1;32m~\\anaconda3\\Lib\\site-packages\\pandas\\core\\frame.py:6001\u001b[0m, in \u001b[0;36mDataFrame.set_index\u001b[1;34m(self, keys, drop, append, inplace, verify_integrity)\u001b[0m\n\u001b[0;32m   5998\u001b[0m                 missing\u001b[38;5;241m.\u001b[39mappend(col)\n\u001b[0;32m   6000\u001b[0m \u001b[38;5;28;01mif\u001b[39;00m missing:\n\u001b[1;32m-> 6001\u001b[0m     \u001b[38;5;28;01mraise\u001b[39;00m \u001b[38;5;167;01mKeyError\u001b[39;00m(\u001b[38;5;124mf\u001b[39m\u001b[38;5;124m\"\u001b[39m\u001b[38;5;124mNone of \u001b[39m\u001b[38;5;132;01m{\u001b[39;00mmissing\u001b[38;5;132;01m}\u001b[39;00m\u001b[38;5;124m are in the columns\u001b[39m\u001b[38;5;124m\"\u001b[39m)\n\u001b[0;32m   6003\u001b[0m \u001b[38;5;28;01mif\u001b[39;00m inplace:\n\u001b[0;32m   6004\u001b[0m     frame \u001b[38;5;241m=\u001b[39m \u001b[38;5;28mself\u001b[39m\n",
      "\u001b[1;31mKeyError\u001b[0m: \"None of ['date'] are in the columns\""
     ]
    }
   ],
   "source": [
    "df_new.set_index('date',inplace = True)\n",
    "df_new[0:5]"
   ]
  },
  {
   "cell_type": "code",
   "execution_count": 69,
   "metadata": {
    "id": "wIWmtHQpziqx"
   },
   "outputs": [],
   "source": [
    "df_new['sum_5days'] = df_new.groupby('account_id')['amount'].transform(lambda s: s.rolling(timedelta(days=5)).sum())\n",
    "df_new['count_5days'] = df_new.groupby('account_id')['amount'].transform(lambda s: s.rolling(timedelta(days=5)).count())"
   ]
  },
  {
   "cell_type": "code",
   "execution_count": 70,
   "metadata": {
    "colab": {
     "base_uri": "https://localhost:8080/",
     "height": 455
    },
    "id": "xNCo0CDC0DYK",
    "outputId": "c9672cc4-8544-41e5-bc47-bd3649b6b2fe"
   },
   "outputs": [
    {
     "data": {
      "text/html": [
       "<div>\n",
       "<style scoped>\n",
       "    .dataframe tbody tr th:only-of-type {\n",
       "        vertical-align: middle;\n",
       "    }\n",
       "\n",
       "    .dataframe tbody tr th {\n",
       "        vertical-align: top;\n",
       "    }\n",
       "\n",
       "    .dataframe thead th {\n",
       "        text-align: right;\n",
       "    }\n",
       "</style>\n",
       "<table border=\"1\" class=\"dataframe\">\n",
       "  <thead>\n",
       "    <tr style=\"text-align: right;\">\n",
       "      <th></th>\n",
       "      <th>account_id</th>\n",
       "      <th>type</th>\n",
       "      <th>amount</th>\n",
       "      <th>sum_5days</th>\n",
       "      <th>count_5days</th>\n",
       "    </tr>\n",
       "    <tr>\n",
       "      <th>date</th>\n",
       "      <th></th>\n",
       "      <th></th>\n",
       "      <th></th>\n",
       "      <th></th>\n",
       "      <th></th>\n",
       "    </tr>\n",
       "  </thead>\n",
       "  <tbody>\n",
       "    <tr>\n",
       "      <th>1993-01-31</th>\n",
       "      <td>2378</td>\n",
       "      <td>WITHDRAWAL</td>\n",
       "      <td>34700.0</td>\n",
       "      <td>34700.0</td>\n",
       "      <td>1.0</td>\n",
       "    </tr>\n",
       "    <tr>\n",
       "      <th>1993-02-03</th>\n",
       "      <td>485</td>\n",
       "      <td>WITHDRAWAL</td>\n",
       "      <td>25300.0</td>\n",
       "      <td>25300.0</td>\n",
       "      <td>1.0</td>\n",
       "    </tr>\n",
       "    <tr>\n",
       "      <th>1993-02-06</th>\n",
       "      <td>3510</td>\n",
       "      <td>WITHDRAWAL</td>\n",
       "      <td>1600.0</td>\n",
       "      <td>1600.0</td>\n",
       "      <td>1.0</td>\n",
       "    </tr>\n",
       "    <tr>\n",
       "      <th>1993-02-07</th>\n",
       "      <td>2378</td>\n",
       "      <td>WITHDRAWAL</td>\n",
       "      <td>9612.0</td>\n",
       "      <td>9612.0</td>\n",
       "      <td>1.0</td>\n",
       "    </tr>\n",
       "    <tr>\n",
       "      <th>1993-02-07</th>\n",
       "      <td>2122</td>\n",
       "      <td>WITHDRAWAL</td>\n",
       "      <td>14100.0</td>\n",
       "      <td>14100.0</td>\n",
       "      <td>1.0</td>\n",
       "    </tr>\n",
       "    <tr>\n",
       "      <th>...</th>\n",
       "      <td>...</td>\n",
       "      <td>...</td>\n",
       "      <td>...</td>\n",
       "      <td>...</td>\n",
       "      <td>...</td>\n",
       "    </tr>\n",
       "    <tr>\n",
       "      <th>1998-12-31</th>\n",
       "      <td>2346</td>\n",
       "      <td>WITHDRAWAL</td>\n",
       "      <td>14.9</td>\n",
       "      <td>14.9</td>\n",
       "      <td>1.0</td>\n",
       "    </tr>\n",
       "    <tr>\n",
       "      <th>1998-12-31</th>\n",
       "      <td>5066</td>\n",
       "      <td>WITHDRAWAL</td>\n",
       "      <td>3.5</td>\n",
       "      <td>3.5</td>\n",
       "      <td>1.0</td>\n",
       "    </tr>\n",
       "    <tr>\n",
       "      <th>1998-12-31</th>\n",
       "      <td>7520</td>\n",
       "      <td>WITHDRAWAL</td>\n",
       "      <td>67.2</td>\n",
       "      <td>197.4</td>\n",
       "      <td>2.0</td>\n",
       "    </tr>\n",
       "    <tr>\n",
       "      <th>1998-12-31</th>\n",
       "      <td>7465</td>\n",
       "      <td>WITHDRAWAL</td>\n",
       "      <td>0.8</td>\n",
       "      <td>0.8</td>\n",
       "      <td>1.0</td>\n",
       "    </tr>\n",
       "    <tr>\n",
       "      <th>1998-12-31</th>\n",
       "      <td>442</td>\n",
       "      <td>WITHDRAWAL</td>\n",
       "      <td>0.6</td>\n",
       "      <td>0.6</td>\n",
       "      <td>1.0</td>\n",
       "    </tr>\n",
       "  </tbody>\n",
       "</table>\n",
       "<p>634571 rows × 5 columns</p>\n",
       "</div>"
      ],
      "text/plain": [
       "            account_id        type   amount  sum_5days  count_5days\n",
       "date                                                               \n",
       "1993-01-31        2378  WITHDRAWAL  34700.0    34700.0          1.0\n",
       "1993-02-03         485  WITHDRAWAL  25300.0    25300.0          1.0\n",
       "1993-02-06        3510  WITHDRAWAL   1600.0     1600.0          1.0\n",
       "1993-02-07        2378  WITHDRAWAL   9612.0     9612.0          1.0\n",
       "1993-02-07        2122  WITHDRAWAL  14100.0    14100.0          1.0\n",
       "...                ...         ...      ...        ...          ...\n",
       "1998-12-31        2346  WITHDRAWAL     14.9       14.9          1.0\n",
       "1998-12-31        5066  WITHDRAWAL      3.5        3.5          1.0\n",
       "1998-12-31        7520  WITHDRAWAL     67.2      197.4          2.0\n",
       "1998-12-31        7465  WITHDRAWAL      0.8        0.8          1.0\n",
       "1998-12-31         442  WITHDRAWAL      0.6        0.6          1.0\n",
       "\n",
       "[634571 rows x 5 columns]"
      ]
     },
     "execution_count": 70,
     "metadata": {},
     "output_type": "execute_result"
    }
   ],
   "source": [
    "df_new"
   ]
  },
  {
   "cell_type": "code",
   "execution_count": 71,
   "metadata": {
    "colab": {
     "base_uri": "https://localhost:8080/",
     "height": 658
    },
    "id": "R2Qf8a6a0cIq",
    "outputId": "989b92ec-a2a6-4749-9db2-b59029dc147c"
   },
   "outputs": [
    {
     "name": "stderr",
     "output_type": "stream",
     "text": [
      "C:\\Users\\yashv\\AppData\\Local\\Temp\\ipykernel_18964\\1076992434.py:1: UserWarning: \n",
      "\n",
      "`distplot` is a deprecated function and will be removed in seaborn v0.14.0.\n",
      "\n",
      "Please adapt your code to use either `displot` (a figure-level function with\n",
      "similar flexibility) or `histplot` (an axes-level function for histograms).\n",
      "\n",
      "For a guide to updating your code to use the new functions, please see\n",
      "https://gist.github.com/mwaskom/de44147ed2974457ad6372750bbe5751\n",
      "\n",
      "  sns.distplot(df_new['sum_5days'], bins=50)\n"
     ]
    },
    {
     "data": {
      "text/plain": [
       "<Axes: xlabel='sum_5days', ylabel='Density'>"
      ]
     },
     "execution_count": 71,
     "metadata": {},
     "output_type": "execute_result"
    },
    {
     "data": {
      "image/png": "[encoded data removed]",
      "text/plain": [
       "<Figure size 640x480 with 1 Axes>"
      ]
     },
     "metadata": {},
     "output_type": "display_data"
    }
   ],
   "source": [
    "sns.distplot(df_new['sum_5days'], bins=50)\n",
    "\n",
    "# sns.countplot(x='count_5days', data=df_new)\n",
    "\n",
    "# sns.catplot(x=\"count_5days\", y=\"sum_5days\",\n",
    "#             kind=\"box\", data=df_new, order=[1, 2, 3, 4, 5, 6, 7, 8, 9, 10],\n",
    "#             aspect=3.0)\n"
   ]
  },
  {
   "cell_type": "code",
   "execution_count": 72,
   "metadata": {
    "colab": {
     "base_uri": "https://localhost:8080/",
     "height": 467
    },
    "id": "VI6VxMm40wRz",
    "outputId": "da172c98-b37f-4f71-e7d9-ddb2287207a3"
   },
   "outputs": [
    {
     "data": {
      "text/plain": [
       "<Axes: xlabel='count_5days', ylabel='count'>"
      ]
     },
     "execution_count": 72,
     "metadata": {},
     "output_type": "execute_result"
    },
    {
     "data": {
      "image/png": "[encoded data removed]",
      "text/plain": [
       "<Figure size 640x480 with 1 Axes>"
      ]
     },
     "metadata": {},
     "output_type": "display_data"
    }
   ],
   "source": [
    "sns.countplot(x='count_5days', data=df_new)\n"
   ]
  },
  {
   "cell_type": "code",
   "execution_count": 43,
   "metadata": {
    "colab": {
     "base_uri": "https://localhost:8080/"
    },
    "id": "5-zC3eiS2p20",
    "outputId": "cb8d2a40-e716-47e9-94d2-4081a37a6b88"
   },
   "outputs": [
    {
     "name": "stdout",
     "output_type": "stream",
     "text": [
      "Requirement already satisfied: pyod in c:\\users\\yashv\\anaconda3\\lib\\site-packages (1.1.3)\n",
      "Requirement already satisfied: joblib in c:\\users\\yashv\\anaconda3\\lib\\site-packages (from pyod) (1.2.0)\n",
      "Requirement already satisfied: matplotlib in c:\\users\\yashv\\anaconda3\\lib\\site-packages (from pyod) (3.7.1)\n",
      "Requirement already satisfied: numpy>=1.19 in c:\\users\\yashv\\anaconda3\\lib\\site-packages (from pyod) (1.24.3)\n",
      "Requirement already satisfied: numba>=0.51 in c:\\users\\yashv\\anaconda3\\lib\\site-packages (from pyod) (0.57.0)\n",
      "Requirement already satisfied: scipy>=1.5.1 in c:\\users\\yashv\\anaconda3\\lib\\site-packages (from pyod) (1.10.1)\n",
      "Requirement already satisfied: scikit-learn>=0.22.0 in c:\\users\\yashv\\anaconda3\\lib\\site-packages (from pyod) (1.4.0)\n",
      "Requirement already satisfied: six in c:\\users\\yashv\\anaconda3\\lib\\site-packages (from pyod) (1.16.0)\n",
      "Requirement already satisfied: llvmlite<0.41,>=0.40.0dev0 in c:\\users\\yashv\\anaconda3\\lib\\site-packages (from numba>=0.51->pyod) (0.40.0)\n",
      "Requirement already satisfied: threadpoolctl>=2.0.0 in c:\\users\\yashv\\anaconda3\\lib\\site-packages (from scikit-learn>=0.22.0->pyod) (2.2.0)\n",
      "Requirement already satisfied: contourpy>=1.0.1 in c:\\users\\yashv\\anaconda3\\lib\\site-packages (from matplotlib->pyod) (1.0.5)\n",
      "Requirement already satisfied: cycler>=0.10 in c:\\users\\yashv\\anaconda3\\lib\\site-packages (from matplotlib->pyod) (0.11.0)\n",
      "Requirement already satisfied: fonttools>=4.22.0 in c:\\users\\yashv\\anaconda3\\lib\\site-packages (from matplotlib->pyod) (4.25.0)\n",
      "Requirement already satisfied: kiwisolver>=1.0.1 in c:\\users\\yashv\\anaconda3\\lib\\site-packages (from matplotlib->pyod) (1.4.4)\n",
      "Requirement already satisfied: packaging>=20.0 in c:\\users\\yashv\\anaconda3\\lib\\site-packages (from matplotlib->pyod) (23.0)\n",
      "Requirement already satisfied: pillow>=6.2.0 in c:\\users\\yashv\\anaconda3\\lib\\site-packages (from matplotlib->pyod) (9.4.0)\n",
      "Requirement already satisfied: pyparsing>=2.3.1 in c:\\users\\yashv\\anaconda3\\lib\\site-packages (from matplotlib->pyod) (2.4.2)\n",
      "Requirement already satisfied: python-dateutil>=2.7 in c:\\users\\yashv\\anaconda3\\lib\\site-packages (from matplotlib->pyod) (2.8.2)\n"
     ]
    }
   ],
   "source": [
    "!pip install pyod"
   ]
  },
  {
   "cell_type": "code",
   "execution_count": 73,
   "metadata": {
    "id": "8AQITeKE1uoy"
   },
   "outputs": [],
   "source": [
    "from pyod.models.iforest import IForest\n",
    "from pyod.utils.data import generate_data\n",
    "from pyod.utils.data import evaluate_print\n",
    "from pyod.utils.example import visualize\n",
    "\n",
    "\n",
    "anomaly_proportion = 0.001\n",
    "\n",
    "clf_name = 'Anomaly Detection - Isolation Forest'\n",
    "clf = IForest(contamination = anomaly_proportion)\n",
    "\n",
    "X = df_new[['count_5days', 'sum_5days']]\n",
    "\n",
    "clf.fit(X)\n",
    "\n",
    "# get the prediction labels and outlier scores of the training data\n",
    "df_new['y_pred'] = clf.labels_ # binary labels (0: inliers, 1: outliers)\n",
    "df_new['y_scores'] = clf.decision_scores_ # raw outlier scores. The bigger the number the greater the anomaly.\n",
    "\n"
   ]
  },
  {
   "cell_type": "code",
   "execution_count": 74,
   "metadata": {
    "colab": {
     "base_uri": "https://localhost:8080/",
     "height": 455
    },
    "id": "Mz47vfAT4EdO",
    "outputId": "3dd00204-8803-4385-8aa2-c32eee6d4c71"
   },
   "outputs": [
    {
     "data": {
      "text/html": [
       "<div>\n",
       "<style scoped>\n",
       "    .dataframe tbody tr th:only-of-type {\n",
       "        vertical-align: middle;\n",
       "    }\n",
       "\n",
       "    .dataframe tbody tr th {\n",
       "        vertical-align: top;\n",
       "    }\n",
       "\n",
       "    .dataframe thead th {\n",
       "        text-align: right;\n",
       "    }\n",
       "</style>\n",
       "<table border=\"1\" class=\"dataframe\">\n",
       "  <thead>\n",
       "    <tr style=\"text-align: right;\">\n",
       "      <th></th>\n",
       "      <th>account_id</th>\n",
       "      <th>type</th>\n",
       "      <th>amount</th>\n",
       "      <th>sum_5days</th>\n",
       "      <th>count_5days</th>\n",
       "      <th>y_pred</th>\n",
       "      <th>y_scores</th>\n",
       "    </tr>\n",
       "    <tr>\n",
       "      <th>date</th>\n",
       "      <th></th>\n",
       "      <th></th>\n",
       "      <th></th>\n",
       "      <th></th>\n",
       "      <th></th>\n",
       "      <th></th>\n",
       "      <th></th>\n",
       "    </tr>\n",
       "  </thead>\n",
       "  <tbody>\n",
       "    <tr>\n",
       "      <th>1993-06-10</th>\n",
       "      <td>7231</td>\n",
       "      <td>WITHDRAWAL</td>\n",
       "      <td>76500.0</td>\n",
       "      <td>76500.0</td>\n",
       "      <td>1.0</td>\n",
       "      <td>1</td>\n",
       "      <td>0.008457</td>\n",
       "    </tr>\n",
       "    <tr>\n",
       "      <th>1993-08-03</th>\n",
       "      <td>2176</td>\n",
       "      <td>WITHDRAWAL</td>\n",
       "      <td>10300.0</td>\n",
       "      <td>113400.0</td>\n",
       "      <td>4.0</td>\n",
       "      <td>1</td>\n",
       "      <td>0.018618</td>\n",
       "    </tr>\n",
       "    <tr>\n",
       "      <th>1993-08-03</th>\n",
       "      <td>2176</td>\n",
       "      <td>WITHDRAWAL</td>\n",
       "      <td>28400.0</td>\n",
       "      <td>141800.0</td>\n",
       "      <td>5.0</td>\n",
       "      <td>1</td>\n",
       "      <td>0.048223</td>\n",
       "    </tr>\n",
       "    <tr>\n",
       "      <th>1993-08-03</th>\n",
       "      <td>3374</td>\n",
       "      <td>WITHDRAWAL</td>\n",
       "      <td>61500.0</td>\n",
       "      <td>89414.6</td>\n",
       "      <td>4.0</td>\n",
       "      <td>1</td>\n",
       "      <td>0.014324</td>\n",
       "    </tr>\n",
       "    <tr>\n",
       "      <th>1993-08-05</th>\n",
       "      <td>2176</td>\n",
       "      <td>WITHDRAWAL</td>\n",
       "      <td>1085.0</td>\n",
       "      <td>142885.0</td>\n",
       "      <td>6.0</td>\n",
       "      <td>1</td>\n",
       "      <td>0.057204</td>\n",
       "    </tr>\n",
       "    <tr>\n",
       "      <th>...</th>\n",
       "      <td>...</td>\n",
       "      <td>...</td>\n",
       "      <td>...</td>\n",
       "      <td>...</td>\n",
       "      <td>...</td>\n",
       "      <td>...</td>\n",
       "      <td>...</td>\n",
       "    </tr>\n",
       "    <tr>\n",
       "      <th>1998-12-14</th>\n",
       "      <td>5283</td>\n",
       "      <td>WITHDRAWAL</td>\n",
       "      <td>52000.0</td>\n",
       "      <td>104108.0</td>\n",
       "      <td>5.0</td>\n",
       "      <td>1</td>\n",
       "      <td>0.048223</td>\n",
       "    </tr>\n",
       "    <tr>\n",
       "      <th>1998-12-15</th>\n",
       "      <td>8899</td>\n",
       "      <td>WITHDRAWAL</td>\n",
       "      <td>6300.0</td>\n",
       "      <td>41501.8</td>\n",
       "      <td>6.0</td>\n",
       "      <td>1</td>\n",
       "      <td>0.005275</td>\n",
       "    </tr>\n",
       "    <tr>\n",
       "      <th>1998-12-15</th>\n",
       "      <td>998</td>\n",
       "      <td>WITHDRAWAL</td>\n",
       "      <td>87400.0</td>\n",
       "      <td>87400.0</td>\n",
       "      <td>1.0</td>\n",
       "      <td>1</td>\n",
       "      <td>0.011651</td>\n",
       "    </tr>\n",
       "    <tr>\n",
       "      <th>1998-12-16</th>\n",
       "      <td>3161</td>\n",
       "      <td>WITHDRAWAL</td>\n",
       "      <td>3300.0</td>\n",
       "      <td>94201.0</td>\n",
       "      <td>4.0</td>\n",
       "      <td>1</td>\n",
       "      <td>0.015932</td>\n",
       "    </tr>\n",
       "    <tr>\n",
       "      <th>1998-12-16</th>\n",
       "      <td>651</td>\n",
       "      <td>WITHDRAWAL</td>\n",
       "      <td>3840.0</td>\n",
       "      <td>74212.0</td>\n",
       "      <td>4.0</td>\n",
       "      <td>1</td>\n",
       "      <td>0.005804</td>\n",
       "    </tr>\n",
       "  </tbody>\n",
       "</table>\n",
       "<p>581 rows × 7 columns</p>\n",
       "</div>"
      ],
      "text/plain": [
       "            account_id        type   amount  sum_5days  count_5days  y_pred  \\\n",
       "date                                                                          \n",
       "1993-06-10        7231  WITHDRAWAL  76500.0    76500.0          1.0       1   \n",
       "1993-08-03        2176  WITHDRAWAL  10300.0   113400.0          4.0       1   \n",
       "1993-08-03        2176  WITHDRAWAL  28400.0   141800.0          5.0       1   \n",
       "1993-08-03        3374  WITHDRAWAL  61500.0    89414.6          4.0       1   \n",
       "1993-08-05        2176  WITHDRAWAL   1085.0   142885.0          6.0       1   \n",
       "...                ...         ...      ...        ...          ...     ...   \n",
       "1998-12-14        5283  WITHDRAWAL  52000.0   104108.0          5.0       1   \n",
       "1998-12-15        8899  WITHDRAWAL   6300.0    41501.8          6.0       1   \n",
       "1998-12-15         998  WITHDRAWAL  87400.0    87400.0          1.0       1   \n",
       "1998-12-16        3161  WITHDRAWAL   3300.0    94201.0          4.0       1   \n",
       "1998-12-16         651  WITHDRAWAL   3840.0    74212.0          4.0       1   \n",
       "\n",
       "            y_scores  \n",
       "date                  \n",
       "1993-06-10  0.008457  \n",
       "1993-08-03  0.018618  \n",
       "1993-08-03  0.048223  \n",
       "1993-08-03  0.014324  \n",
       "1993-08-05  0.057204  \n",
       "...              ...  \n",
       "1998-12-14  0.048223  \n",
       "1998-12-15  0.005275  \n",
       "1998-12-15  0.011651  \n",
       "1998-12-16  0.015932  \n",
       "1998-12-16  0.005804  \n",
       "\n",
       "[581 rows x 7 columns]"
      ]
     },
     "execution_count": 74,
     "metadata": {},
     "output_type": "execute_result"
    }
   ],
   "source": [
    "df_new[df_new['y_pred'] == 1]"
   ]
  },
  {
   "cell_type": "code",
   "execution_count": 77,
   "metadata": {
    "colab": {
     "base_uri": "https://localhost:8080/",
     "height": 489
    },
    "id": "YyNwATQk3xbs",
    "outputId": "e19c647b-c3e9-45a2-ed70-a5c66c301f39"
   },
   "outputs": [
    {
     "data": {
      "text/plain": [
       "Text(0, 0.5, '5-day sum of withdrawal transactions')"
      ]
     },
     "execution_count": 77,
     "metadata": {},
     "output_type": "execute_result"
    },
    {
     "data": {
      "image/png": "[encoded data removed]",
      "text/plain": [
       "<Figure size 640x480 with 1 Axes>"
      ]
     },
     "metadata": {},
     "output_type": "display_data"
    }
   ],
   "source": [
    "df_withdrawals = df_new\n",
    "xx , yy = np.meshgrid(np.linspace(0, 11, 200), np.linspace(0, 180000, 200))\n",
    "\n",
    "# decision function calculates the raw anomaly score for every point\n",
    "Z = clf.decision_function(np.c_[xx.ravel(), yy.ravel()])*-1\n",
    "Z = Z.reshape(xx.shape)\n",
    "\n",
    "\n",
    "threshold = (df_withdrawals.loc[df_withdrawals['y_pred'] == 1, 'y_scores'].min()*-1)/2 + (df_withdrawals.loc[df_withdrawals['y_pred'] == 0, 'y_scores'].max()*-1)/2\n",
    "\n",
    "\n",
    "subplot = plt.subplot(1, 1, 1)\n",
    "\n",
    "# fill blue colormap from minimum anomaly score to threshold value\n",
    "subplot.contourf(xx, yy, Z, levels = np.linspace(Z.min(), threshold, 10),cmap=plt.cm.Blues_r)\n",
    "\n",
    "# draw red contour line where anomaly score is equal to threshold\n",
    "a = subplot.contour(xx, yy, Z, levels=[threshold],linewidths=2, colors='red')\n",
    "\n",
    "# fill orange contour lines where range of anomaly score is from threshold to maximum anomaly score\n",
    "subplot.contourf(xx, yy, Z, levels=[threshold, Z.max()],colors='orange')\n",
    "\n",
    "\n",
    "msk = df_withdrawals['y_pred'] == 0\n",
    "x = df_withdrawals.loc[msk, ['count_5days', 'sum_5days']].values\n",
    "\n",
    "# scatter plot of inliers with white dots\n",
    "b = subplot.scatter(x[:, 0], x[:, 1], c='white',s=20, edgecolor='k')\n",
    "\n",
    "\n",
    "msk = df_withdrawals['y_pred'] == 1\n",
    "x = df_withdrawals.loc[msk, ['count_5days', 'sum_5days']].values\n",
    "\n",
    "# scatter plot of outliers with black dots\n",
    "c = subplot.scatter(x[:, 0], x[:, 1], c='black',s=20, edgecolor='r')\n",
    "subplot.axis('tight')\n",
    "\n",
    "\n",
    "\n",
    "subplot.legend(\n",
    "    [a.collections[0], b, c],\n",
    "    ['learned decision function', 'inliers', 'outliers'],\n",
    "    prop=matplotlib.font_manager.FontProperties(size=10),\n",
    "    loc='upper right')\n",
    "\n",
    "subplot.set_title(clf_name)\n",
    "subplot.set_xlim((0, 11))\n",
    "subplot.set_ylim((0, 180000))\n",
    "\n",
    "subplot.set_xlabel(\"5-day count of withdrawal transactions.\")\n",
    "subplot.set_ylabel(\"5-day sum of withdrawal transactions\")"
   ]
  },
  {
   "cell_type": "code",
   "execution_count": 48,
   "metadata": {},
   "outputs": [
    {
     "data": {
      "text/plain": [
       "array([[ 0.        ,  0.05527638,  0.11055276, ..., 10.88944724,\n",
       "        10.94472362, 11.        ],\n",
       "       [ 0.        ,  0.05527638,  0.11055276, ..., 10.88944724,\n",
       "        10.94472362, 11.        ],\n",
       "       [ 0.        ,  0.05527638,  0.11055276, ..., 10.88944724,\n",
       "        10.94472362, 11.        ],\n",
       "       ...,\n",
       "       [ 0.        ,  0.05527638,  0.11055276, ..., 10.88944724,\n",
       "        10.94472362, 11.        ],\n",
       "       [ 0.        ,  0.05527638,  0.11055276, ..., 10.88944724,\n",
       "        10.94472362, 11.        ],\n",
       "       [ 0.        ,  0.05527638,  0.11055276, ..., 10.88944724,\n",
       "        10.94472362, 11.        ]])"
      ]
     },
     "execution_count": 48,
     "metadata": {},
     "output_type": "execute_result"
    }
   ],
   "source": []
  },
  {
   "cell_type": "code",
   "execution_count": 80,
   "metadata": {
    "id": "fiHiAnaW4524"
   },
   "outputs": [
    {
     "data": {
      "text/plain": [
       "['clf.joblib']"
      ]
     },
     "execution_count": 80,
     "metadata": {},
     "output_type": "execute_result"
    }
   ],
   "source": [
    "from joblib import dump, load\n",
    "\n",
    "dump(clf, 'clf.joblib')"
   ]
  },
  {
   "cell_type": "code",
   "execution_count": 78,
   "metadata": {
    "id": "oVSZl3wlFBb4"
   },
   "outputs": [],
   "source": [
    "import matplotlib.pyplot as plt\n",
    "import matplotlib\n",
    "\n",
    "def visualize_anomaly_detection(df_withdrawals, clf, clf_name):\n",
    "    \"\"\"\n",
    "    Visualize the results of anomaly detection using Isolation Forest.\n",
    "\n",
    "    Args:\n",
    "    df_withdrawals (DataFrame): DataFrame containing withdrawal transaction data.\n",
    "    clf: Isolation Forest model trained for anomaly detection.\n",
    "    clf_name (str): Name of the Isolation Forest model.\n",
    "\n",
    "    Returns:\n",
    "    None\n",
    "    \"\"\"\n",
    "    xx , yy = np.meshgrid(np.linspace(0, 11, 200), np.linspace(0, 180000, 200))\n",
    "\n",
    "    # decision function calculates the raw anomaly score for every point\n",
    "    Z = clf.decision_function(np.c_[xx.ravel(), yy.ravel()]) * -1\n",
    "    Z = Z.reshape(xx.shape)\n",
    "\n",
    "    threshold = (df_withdrawals.loc[df_withdrawals['y_pred'] == 1, 'y_scores'].min() * -1) / 2 + \\\n",
    "                (df_withdrawals.loc[df_withdrawals['y_pred'] == 0, 'y_scores'].max() * -1) / 2\n",
    "\n",
    "    subplot = plt.subplot(1, 1, 1)\n",
    "\n",
    "    # fill blue colormap from minimum anomaly score to threshold value\n",
    "    subplot.contourf(xx, yy, Z, levels=np.linspace(Z.min(), threshold, 10), cmap=plt.cm.Blues_r)\n",
    "\n",
    "    # draw red contour line where anomaly score is equal to threshold\n",
    "    a = subplot.contour(xx, yy, Z, levels=[threshold], linewidths=2, colors='red')\n",
    "\n",
    "    # fill orange contour lines where range of anomaly score is from threshold to maximum anomaly score\n",
    "    subplot.contourf(xx, yy, Z, levels=[threshold, Z.max()], colors='orange')\n",
    "\n",
    "    msk = df_withdrawals['y_pred'] == 0\n",
    "    x = df_withdrawals.loc[msk, ['count_5days', 'sum_5days']].values\n",
    "\n",
    "    # scatter plot of inliers with white dots\n",
    "    b = subplot.scatter(x[:, 0], x[:, 1], c='white', s=20, edgecolor='k')\n",
    "\n",
    "    msk = df_withdrawals['y_pred'] == 1\n",
    "    x = df_withdrawals.loc[msk, ['count_5days', 'sum_5days']].values\n",
    "\n",
    "    # scatter plot of outliers with black dots\n",
    "    c = subplot.scatter(x[:, 0], x[:, 1], c='black', s=20, edgecolor='r')\n",
    "    subplot.axis('tight')\n",
    "\n",
    "    subplot.legend(\n",
    "        [a.collections[0], b, c],\n",
    "        ['learned decision function', 'inliers', 'outliers'],\n",
    "        prop=matplotlib.font_manager.FontProperties(size=10),\n",
    "        loc='upper right')\n",
    "\n",
    "    subplot.set_title(clf_name)\n",
    "    subplot.set_xlim((0, 11))\n",
    "    subplot.set_ylim((0, 180000))\n",
    "\n",
    "    subplot.set_xlabel(\"5-day count of withdrawal transactions.\")\n",
    "    subplot.set_ylabel(\"5-day sum of withdrawal transactions\")\n",
    "\n",
    "    plt.show()\n"
   ]
  },
  {
   "cell_type": "code",
   "execution_count": 79,
   "metadata": {},
   "outputs": [
    {
     "data": {
      "image/png": "[encoded data removed]",
      "text/plain": [
       "<Figure size 640x480 with 1 Axes>"
      ]
     },
     "metadata": {},
     "output_type": "display_data"
    }
   ],
   "source": [
    "# Assuming you have already imported the necessary libraries and defined the function visualize_anomaly_detection()\n",
    "\n",
    "# Call the function and pass the required arguments\n",
    "visualize_anomaly_detection(df_withdrawals, clf, clf_name)\n"
   ]
  },
  {
   "cell_type": "code",
   "execution_count": null,
   "metadata": {},
   "outputs": [],
   "source": []
  }
 ],
 "metadata": {
  "colab": {
   "provenance": []
  },
  "kernelspec": {
   "display_name": "Python 3 (ipykernel)",
   "language": "python",
   "name": "python3"
  },
  "language_info": {
   "codemirror_mode": {
    "name": "ipython",
    "version": 3
   },
   "file_extension": ".py",
   "mimetype": "text/x-python",
   "name": "python",
   "nbconvert_exporter": "python",
   "pygments_lexer": "ipython3",
   "version": "3.11.4"
  }
 },
 "nbformat": 4,
 "nbformat_minor": 1
}
